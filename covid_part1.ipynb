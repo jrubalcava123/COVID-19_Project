{
 "cells": [
  {
   "cell_type": "markdown",
   "id": "8d95ce8b",
   "metadata": {},
   "source": [
    "# Final Project: COVID-19 Dataset\n",
    "## Exploring COVID-19 Data through Modeling\n",
    "## Due Date: Wednesday, November 17th, 11:59 PM\n",
    "## Collaboration Policy\n",
    "\n",
    "Data science is a collaborative activity. While you may talk with other groups about\n",
    "the project, we ask that you **write your solutions within your own group**. If you do\n",
    "discuss the assignments with others outside of your group please **include their names** at the top\n",
    "of your notebook."
   ]
  },
  {
   "cell_type": "markdown",
   "id": "28a38a22",
   "metadata": {},
   "source": [
    "\n",
    "## This Assignment\n",
    "\n",
    "In this final project, we will investigate COVID-19 data over the past year. This data contains information about COVID-19 case counts, mortalities, vaccination rates, and various other metadata that can assist in modeling various aspects of COVID-19.\n",
    "\n",
    "Through this final project, you will demonstrate your experience with:\n",
    "* Data cleaning and EDA using Pandas\n",
    "* Unsupervised and supervised learning techniques\n",
    "* Visualization\n"
   ]
  },
  {
   "cell_type": "markdown",
   "id": "6e55c198",
   "metadata": {},
   "source": [
    "## Goal\n",
    "\n",
    "Model and analyze the temporal evolution of COVID-19 mortalities or cases using one unsupervised and one supervised technique of your choice. Interpret your models' results through visualizations, and draw insightful conclusions about the modeling of COVID-19 data.\n",
    "\n",
    "Recall that we studied linear and logistic regression, decision trees, random forests as part of supervised learning (with labels) and clustering, PCA as part of unsupervised learning (without labels). You are free to use any methods that you find suitable to answer the problem at hand."
   ]
  },
  {
   "cell_type": "code",
   "execution_count": 1,
   "id": "49dbed66",
   "metadata": {},
   "outputs": [],
   "source": [
    "# Run this cell to set up your notebook\n",
    "import numpy as np\n",
    "# from geopy import *\n",
    "import pandas as pd\n",
    "from sklearn.linear_model import LinearRegression\n",
    "from sklearn.model_selection import train_test_split\n",
    "from sklearn.cluster import *\n",
    "import matplotlib.pyplot as plt\n",
    "import seaborn as sns\n",
    "\n",
    "import warnings\n",
    "warnings.filterwarnings(\"ignore\")\n",
    "\n",
    "import plotly.graph_objects as go\n",
    "import plotly.express as px\n",
    "from plotly.subplots import make_subplots\n",
    "from scipy.stats import pearsonr\n",
    "import re\n",
    "\n",
    "cases = pd.read_csv('data/time_series_covid19_confirmed_US.csv') # https://github.com/CSSEGISandData/COVID-19/blob/master/csse_covid_19_data/csse_covid_19_time_series/time_series_covid19_confirmed_US.csv\n",
    "vaccinations = pd.read_csv('data/people_vaccinated_us_timeline.csv') # https://raw.githubusercontent.com/govex/COVID-19/master/data_tables/vaccine_data/us_data/time_series/people_vaccinated_us_timeline.csv\n",
    "counties = pd.read_csv('data/co-est2020.csv', encoding='latin-1') # https://www2.census.gov/programs-surveys/popest/datasets/2010-2020/counties/totals/co-est2020.csv\n",
    "mask_use = pd.read_csv('data/mask-use-by-county.csv') # https://github.com/nytimes/covid-19-data/blob/master/mask-use/mask-use-by-county.csv"
   ]
  },
  {
   "cell_type": "markdown",
   "id": "041c73f6",
   "metadata": {},
   "source": [
    "<!-- END QUESTION -->\n",
    "\n",
    "\n",
    "\n",
    "<br/><br/><br/>\n",
    "\n",
    "---\n",
    "\n",
    "<br/><br/><br/>\n",
    "\n",
    "## Data Cleaning"
   ]
  },
  {
   "cell_type": "markdown",
   "id": "5a1b113b",
   "metadata": {
    "deletable": false,
    "editable": false
   },
   "source": [
    "### Question 1a\n",
    "\n",
    "Investigate the number of missing or null values in `cases` and `vaccinations`. Which one column contains the *most* null values from both of these tables?\n",
    "\n",
    "<!--\n",
    "BEGIN QUESTION\n",
    "name: q1a\n",
    "points: 2\n",
    "-->"
   ]
  },
  {
   "cell_type": "code",
   "execution_count": 2,
   "id": "ac8ba71e",
   "metadata": {},
   "outputs": [
    {
     "data": {
      "text/plain": [
       "'People_Partially_Vaccinated'"
      ]
     },
     "execution_count": 2,
     "metadata": {},
     "output_type": "execute_result"
    }
   ],
   "source": [
    "bool_cases = cases.isna()\n",
    "col_w_na = []\n",
    "for i in cases.columns.tolist():\n",
    "    num_na = bool_cases[i].sum()\n",
    "    col_w_na.append(num_na)\n",
    "most_col_index_cases = col_w_na.index(max(col_w_na)) # index=4, num of NaN = 10\n",
    "\n",
    "bool_vaccinations = vaccinations.isna()\n",
    "colV_w_na = []\n",
    "for i in vaccinations.columns.tolist():\n",
    "    num_na = bool_vaccinations[i].sum()\n",
    "    colV_w_na.append(num_na)\n",
    "most_col_index_vax = colV_w_na.index(max(colV_w_na)) # index = 8, num of Nan = 3020\n",
    "\n",
    "most_null_value_col = vaccinations.columns.tolist()[most_col_index_vax]\n",
    "most_null_value_col"
   ]
  },
  {
   "cell_type": "markdown",
   "id": "d2be83ed",
   "metadata": {
    "deletable": false,
    "editable": false
   },
   "source": [
    "### Question 1b\n",
    "\n",
    "Impute the null values in *all* the datasets with zero values or empty strings where appropriate.\n",
    "\n",
    "<!--\n",
    "BEGIN QUESTION\n",
    "name: q1b\n",
    "points: 2\n",
    "-->"
   ]
  },
  {
   "cell_type": "code",
   "execution_count": 3,
   "id": "3c6e0eda",
   "metadata": {},
   "outputs": [
    {
     "data": {
      "text/html": [
       "<div>\n",
       "<style scoped>\n",
       "    .dataframe tbody tr th:only-of-type {\n",
       "        vertical-align: middle;\n",
       "    }\n",
       "\n",
       "    .dataframe tbody tr th {\n",
       "        vertical-align: top;\n",
       "    }\n",
       "\n",
       "    .dataframe thead th {\n",
       "        text-align: right;\n",
       "    }\n",
       "</style>\n",
       "<table border=\"1\" class=\"dataframe\">\n",
       "  <thead>\n",
       "    <tr style=\"text-align: right;\">\n",
       "      <th></th>\n",
       "      <th>COUNTYFP</th>\n",
       "      <th>NEVER</th>\n",
       "      <th>RARELY</th>\n",
       "      <th>SOMETIMES</th>\n",
       "      <th>FREQUENTLY</th>\n",
       "      <th>ALWAYS</th>\n",
       "    </tr>\n",
       "  </thead>\n",
       "  <tbody>\n",
       "    <tr>\n",
       "      <th>0</th>\n",
       "      <td>1001</td>\n",
       "      <td>0.053</td>\n",
       "      <td>0.074</td>\n",
       "      <td>0.134</td>\n",
       "      <td>0.295</td>\n",
       "      <td>0.444</td>\n",
       "    </tr>\n",
       "    <tr>\n",
       "      <th>1</th>\n",
       "      <td>1003</td>\n",
       "      <td>0.083</td>\n",
       "      <td>0.059</td>\n",
       "      <td>0.098</td>\n",
       "      <td>0.323</td>\n",
       "      <td>0.436</td>\n",
       "    </tr>\n",
       "    <tr>\n",
       "      <th>2</th>\n",
       "      <td>1005</td>\n",
       "      <td>0.067</td>\n",
       "      <td>0.121</td>\n",
       "      <td>0.120</td>\n",
       "      <td>0.201</td>\n",
       "      <td>0.491</td>\n",
       "    </tr>\n",
       "    <tr>\n",
       "      <th>3</th>\n",
       "      <td>1007</td>\n",
       "      <td>0.020</td>\n",
       "      <td>0.034</td>\n",
       "      <td>0.096</td>\n",
       "      <td>0.278</td>\n",
       "      <td>0.572</td>\n",
       "    </tr>\n",
       "    <tr>\n",
       "      <th>4</th>\n",
       "      <td>1009</td>\n",
       "      <td>0.053</td>\n",
       "      <td>0.114</td>\n",
       "      <td>0.180</td>\n",
       "      <td>0.194</td>\n",
       "      <td>0.459</td>\n",
       "    </tr>\n",
       "    <tr>\n",
       "      <th>...</th>\n",
       "      <td>...</td>\n",
       "      <td>...</td>\n",
       "      <td>...</td>\n",
       "      <td>...</td>\n",
       "      <td>...</td>\n",
       "      <td>...</td>\n",
       "    </tr>\n",
       "    <tr>\n",
       "      <th>3137</th>\n",
       "      <td>56037</td>\n",
       "      <td>0.061</td>\n",
       "      <td>0.295</td>\n",
       "      <td>0.230</td>\n",
       "      <td>0.146</td>\n",
       "      <td>0.268</td>\n",
       "    </tr>\n",
       "    <tr>\n",
       "      <th>3138</th>\n",
       "      <td>56039</td>\n",
       "      <td>0.095</td>\n",
       "      <td>0.157</td>\n",
       "      <td>0.160</td>\n",
       "      <td>0.247</td>\n",
       "      <td>0.340</td>\n",
       "    </tr>\n",
       "    <tr>\n",
       "      <th>3139</th>\n",
       "      <td>56041</td>\n",
       "      <td>0.098</td>\n",
       "      <td>0.278</td>\n",
       "      <td>0.154</td>\n",
       "      <td>0.207</td>\n",
       "      <td>0.264</td>\n",
       "    </tr>\n",
       "    <tr>\n",
       "      <th>3140</th>\n",
       "      <td>56043</td>\n",
       "      <td>0.204</td>\n",
       "      <td>0.155</td>\n",
       "      <td>0.069</td>\n",
       "      <td>0.285</td>\n",
       "      <td>0.287</td>\n",
       "    </tr>\n",
       "    <tr>\n",
       "      <th>3141</th>\n",
       "      <td>56045</td>\n",
       "      <td>0.142</td>\n",
       "      <td>0.129</td>\n",
       "      <td>0.148</td>\n",
       "      <td>0.207</td>\n",
       "      <td>0.374</td>\n",
       "    </tr>\n",
       "  </tbody>\n",
       "</table>\n",
       "<p>3142 rows × 6 columns</p>\n",
       "</div>"
      ],
      "text/plain": [
       "      COUNTYFP  NEVER  RARELY  SOMETIMES  FREQUENTLY  ALWAYS\n",
       "0         1001  0.053   0.074      0.134       0.295   0.444\n",
       "1         1003  0.083   0.059      0.098       0.323   0.436\n",
       "2         1005  0.067   0.121      0.120       0.201   0.491\n",
       "3         1007  0.020   0.034      0.096       0.278   0.572\n",
       "4         1009  0.053   0.114      0.180       0.194   0.459\n",
       "...        ...    ...     ...        ...         ...     ...\n",
       "3137     56037  0.061   0.295      0.230       0.146   0.268\n",
       "3138     56039  0.095   0.157      0.160       0.247   0.340\n",
       "3139     56041  0.098   0.278      0.154       0.207   0.264\n",
       "3140     56043  0.204   0.155      0.069       0.285   0.287\n",
       "3141     56045  0.142   0.129      0.148       0.207   0.374\n",
       "\n",
       "[3142 rows x 6 columns]"
      ]
     },
     "execution_count": 3,
     "metadata": {},
     "output_type": "execute_result"
    }
   ],
   "source": [
    "# WARNING: not correct!!!! some datatypes are not converted, OR, do we need to fill in datatypes that are not int/float/str???\n",
    "# loop through each col, if type(first cal of the col vals) == int, fill in 0, else str\n",
    "# WARNING: modify the original dataframe\n",
    "\n",
    "#cases\n",
    "for i in cases.columns.tolist():\n",
    "    valid_index = cases[i].first_valid_index()\n",
    "    if isinstance(cases[i].values[valid_index], float):\n",
    "        cases[i] = cases[i].fillna(0)\n",
    "    elif isinstance(cases[i].values[valid_index], int):\n",
    "        cases[i] = cases[i].fillna(0)\n",
    "    elif isinstance(cases[i].values[valid_index], str):   # debug here sometimes type(str)\n",
    "        cases[i] = cases[i].fillna('')\n",
    "cases\n",
    "\n",
    "        \n",
    "#vaccinations\n",
    "for i in vaccinations.columns.tolist():\n",
    "    valid_index = vaccinations[i].first_valid_index()\n",
    "    if isinstance(vaccinations[i].values[valid_index], float):       \n",
    "        vaccinations[i] = vaccinations[i].fillna(0)\n",
    "    elif isinstance(vaccinations[i].values[valid_index], int):\n",
    "        vaccinations[i] = vaccinations[i].fillna(0)\n",
    "    elif isinstance(vaccinations[i].values[valid_index], str):\n",
    "        vaccinations[i] = vaccinations[i].fillna('')\n",
    "vaccinations\n",
    "\n",
    "\n",
    "#counties\n",
    "for i in counties.columns.tolist():\n",
    "    valid_index = counties[i].first_valid_index()\n",
    "    if isinstance(counties[i].values[valid_index], float):\n",
    "        counties[i] = counties[i].fillna(0)\n",
    "    elif isinstance(counties[i].values[valid_index], int):\n",
    "        counties[i] = counties[i].fillna(0)\n",
    "    elif isinstance(counties[i].values[valid_index], type(str)):\n",
    "        counties[i] = counties[i].fillna('')\n",
    "counties\n",
    "\n",
    "\n",
    "# mask_use\n",
    "for i in mask_use.columns.tolist():\n",
    "    valid_index = mask_use[i].first_valid_index()\n",
    "    if isinstance(mask_use[i].values[valid_index], float):\n",
    "        mask_use[i] = mask_use[i].fillna(0)\n",
    "    elif isinstance(mask_use[i].values[valid_index], int):\n",
    "        mask_use[i] = mask_use[i].fillna(0)\n",
    "    elif isinstance(mask_use[i].values[valid_index], str):\n",
    "        mask_use[i] = mask_use[i].fillna('')\n",
    "mask_use"
   ]
  },
  {
   "cell_type": "markdown",
   "id": "0d357613",
   "metadata": {
    "deletable": false,
    "editable": false
   },
   "source": [
    "### Question 1c\n",
    "\n",
    "Add a column to `cases` named `median_increase` that describes the median daily increase in the number of cases over the time period January 23, 2020 to September 12, 2021. In other words, calculate the increase in cases day-to-day from January 22nd to 23rd, 23rd to 24th, 24th to 25th, and so on; then, find the median of the number of increase in cases over that time period for all counties.\n",
    "\n",
    "*Hint*: Try not to use a `for` loop.\n",
    "\n",
    "<!--\n",
    "BEGIN QUESTION\n",
    "name: q1c\n",
    "points: 2\n",
    "-->"
   ]
  },
  {
   "cell_type": "code",
   "execution_count": 4,
   "id": "7fb17fa6",
   "metadata": {},
   "outputs": [
    {
     "data": {
      "text/html": [
       "<div>\n",
       "<style scoped>\n",
       "    .dataframe tbody tr th:only-of-type {\n",
       "        vertical-align: middle;\n",
       "    }\n",
       "\n",
       "    .dataframe tbody tr th {\n",
       "        vertical-align: top;\n",
       "    }\n",
       "\n",
       "    .dataframe thead th {\n",
       "        text-align: right;\n",
       "    }\n",
       "</style>\n",
       "<table border=\"1\" class=\"dataframe\">\n",
       "  <thead>\n",
       "    <tr style=\"text-align: right;\">\n",
       "      <th></th>\n",
       "      <th>UID</th>\n",
       "      <th>iso2</th>\n",
       "      <th>iso3</th>\n",
       "      <th>code3</th>\n",
       "      <th>FIPS</th>\n",
       "      <th>Admin2</th>\n",
       "      <th>Province_State</th>\n",
       "      <th>Country_Region</th>\n",
       "      <th>Lat</th>\n",
       "      <th>Long_</th>\n",
       "      <th>...</th>\n",
       "      <th>9/4/21</th>\n",
       "      <th>9/5/21</th>\n",
       "      <th>9/6/21</th>\n",
       "      <th>9/7/21</th>\n",
       "      <th>9/8/21</th>\n",
       "      <th>9/9/21</th>\n",
       "      <th>9/10/21</th>\n",
       "      <th>9/11/21</th>\n",
       "      <th>9/12/21</th>\n",
       "      <th>median_increase</th>\n",
       "    </tr>\n",
       "  </thead>\n",
       "  <tbody>\n",
       "    <tr>\n",
       "      <th>0</th>\n",
       "      <td>84001001</td>\n",
       "      <td>US</td>\n",
       "      <td>USA</td>\n",
       "      <td>840</td>\n",
       "      <td>1001.0</td>\n",
       "      <td>Autauga</td>\n",
       "      <td>Alabama</td>\n",
       "      <td>US</td>\n",
       "      <td>32.539527</td>\n",
       "      <td>-86.644082</td>\n",
       "      <td>...</td>\n",
       "      <td>8959</td>\n",
       "      <td>9012</td>\n",
       "      <td>9048</td>\n",
       "      <td>9063</td>\n",
       "      <td>9108</td>\n",
       "      <td>9145</td>\n",
       "      <td>9207</td>\n",
       "      <td>9246</td>\n",
       "      <td>9287</td>\n",
       "      <td>10.0</td>\n",
       "    </tr>\n",
       "    <tr>\n",
       "      <th>1</th>\n",
       "      <td>84001003</td>\n",
       "      <td>US</td>\n",
       "      <td>USA</td>\n",
       "      <td>840</td>\n",
       "      <td>1003.0</td>\n",
       "      <td>Baldwin</td>\n",
       "      <td>Alabama</td>\n",
       "      <td>US</td>\n",
       "      <td>30.727750</td>\n",
       "      <td>-87.722071</td>\n",
       "      <td>...</td>\n",
       "      <td>33968</td>\n",
       "      <td>34063</td>\n",
       "      <td>34142</td>\n",
       "      <td>34246</td>\n",
       "      <td>34393</td>\n",
       "      <td>34536</td>\n",
       "      <td>34726</td>\n",
       "      <td>34872</td>\n",
       "      <td>34950</td>\n",
       "      <td>24.0</td>\n",
       "    </tr>\n",
       "    <tr>\n",
       "      <th>2</th>\n",
       "      <td>84001005</td>\n",
       "      <td>US</td>\n",
       "      <td>USA</td>\n",
       "      <td>840</td>\n",
       "      <td>1005.0</td>\n",
       "      <td>Barbour</td>\n",
       "      <td>Alabama</td>\n",
       "      <td>US</td>\n",
       "      <td>31.868263</td>\n",
       "      <td>-85.387129</td>\n",
       "      <td>...</td>\n",
       "      <td>3166</td>\n",
       "      <td>3184</td>\n",
       "      <td>3197</td>\n",
       "      <td>3207</td>\n",
       "      <td>3225</td>\n",
       "      <td>3243</td>\n",
       "      <td>3260</td>\n",
       "      <td>3282</td>\n",
       "      <td>3295</td>\n",
       "      <td>3.0</td>\n",
       "    </tr>\n",
       "    <tr>\n",
       "      <th>3</th>\n",
       "      <td>84001007</td>\n",
       "      <td>US</td>\n",
       "      <td>USA</td>\n",
       "      <td>840</td>\n",
       "      <td>1007.0</td>\n",
       "      <td>Bibb</td>\n",
       "      <td>Alabama</td>\n",
       "      <td>US</td>\n",
       "      <td>32.996421</td>\n",
       "      <td>-87.125115</td>\n",
       "      <td>...</td>\n",
       "      <td>3618</td>\n",
       "      <td>3628</td>\n",
       "      <td>3641</td>\n",
       "      <td>3661</td>\n",
       "      <td>3694</td>\n",
       "      <td>3727</td>\n",
       "      <td>3752</td>\n",
       "      <td>3778</td>\n",
       "      <td>3795</td>\n",
       "      <td>3.0</td>\n",
       "    </tr>\n",
       "    <tr>\n",
       "      <th>4</th>\n",
       "      <td>84001009</td>\n",
       "      <td>US</td>\n",
       "      <td>USA</td>\n",
       "      <td>840</td>\n",
       "      <td>1009.0</td>\n",
       "      <td>Blount</td>\n",
       "      <td>Alabama</td>\n",
       "      <td>US</td>\n",
       "      <td>33.982109</td>\n",
       "      <td>-86.567906</td>\n",
       "      <td>...</td>\n",
       "      <td>8830</td>\n",
       "      <td>8862</td>\n",
       "      <td>8899</td>\n",
       "      <td>8951</td>\n",
       "      <td>8998</td>\n",
       "      <td>9048</td>\n",
       "      <td>9095</td>\n",
       "      <td>9161</td>\n",
       "      <td>9176</td>\n",
       "      <td>8.0</td>\n",
       "    </tr>\n",
       "    <tr>\n",
       "      <th>...</th>\n",
       "      <td>...</td>\n",
       "      <td>...</td>\n",
       "      <td>...</td>\n",
       "      <td>...</td>\n",
       "      <td>...</td>\n",
       "      <td>...</td>\n",
       "      <td>...</td>\n",
       "      <td>...</td>\n",
       "      <td>...</td>\n",
       "      <td>...</td>\n",
       "      <td>...</td>\n",
       "      <td>...</td>\n",
       "      <td>...</td>\n",
       "      <td>...</td>\n",
       "      <td>...</td>\n",
       "      <td>...</td>\n",
       "      <td>...</td>\n",
       "      <td>...</td>\n",
       "      <td>...</td>\n",
       "      <td>...</td>\n",
       "      <td>...</td>\n",
       "    </tr>\n",
       "    <tr>\n",
       "      <th>3337</th>\n",
       "      <td>84056039</td>\n",
       "      <td>US</td>\n",
       "      <td>USA</td>\n",
       "      <td>840</td>\n",
       "      <td>56039.0</td>\n",
       "      <td>Teton</td>\n",
       "      <td>Wyoming</td>\n",
       "      <td>US</td>\n",
       "      <td>43.935225</td>\n",
       "      <td>-110.589080</td>\n",
       "      <td>...</td>\n",
       "      <td>4502</td>\n",
       "      <td>4502</td>\n",
       "      <td>4502</td>\n",
       "      <td>4568</td>\n",
       "      <td>4572</td>\n",
       "      <td>4587</td>\n",
       "      <td>4611</td>\n",
       "      <td>4611</td>\n",
       "      <td>4611</td>\n",
       "      <td>2.0</td>\n",
       "    </tr>\n",
       "    <tr>\n",
       "      <th>3338</th>\n",
       "      <td>84056041</td>\n",
       "      <td>US</td>\n",
       "      <td>USA</td>\n",
       "      <td>840</td>\n",
       "      <td>56041.0</td>\n",
       "      <td>Uinta</td>\n",
       "      <td>Wyoming</td>\n",
       "      <td>US</td>\n",
       "      <td>41.287818</td>\n",
       "      <td>-110.547578</td>\n",
       "      <td>...</td>\n",
       "      <td>3053</td>\n",
       "      <td>3053</td>\n",
       "      <td>3053</td>\n",
       "      <td>3086</td>\n",
       "      <td>3141</td>\n",
       "      <td>3168</td>\n",
       "      <td>3204</td>\n",
       "      <td>3204</td>\n",
       "      <td>3204</td>\n",
       "      <td>1.0</td>\n",
       "    </tr>\n",
       "    <tr>\n",
       "      <th>3339</th>\n",
       "      <td>84090056</td>\n",
       "      <td>US</td>\n",
       "      <td>USA</td>\n",
       "      <td>840</td>\n",
       "      <td>90056.0</td>\n",
       "      <td>Unassigned</td>\n",
       "      <td>Wyoming</td>\n",
       "      <td>US</td>\n",
       "      <td>0.000000</td>\n",
       "      <td>0.000000</td>\n",
       "      <td>...</td>\n",
       "      <td>0</td>\n",
       "      <td>0</td>\n",
       "      <td>0</td>\n",
       "      <td>0</td>\n",
       "      <td>0</td>\n",
       "      <td>0</td>\n",
       "      <td>0</td>\n",
       "      <td>0</td>\n",
       "      <td>0</td>\n",
       "      <td>0.0</td>\n",
       "    </tr>\n",
       "    <tr>\n",
       "      <th>3340</th>\n",
       "      <td>84056043</td>\n",
       "      <td>US</td>\n",
       "      <td>USA</td>\n",
       "      <td>840</td>\n",
       "      <td>56043.0</td>\n",
       "      <td>Washakie</td>\n",
       "      <td>Wyoming</td>\n",
       "      <td>US</td>\n",
       "      <td>43.904516</td>\n",
       "      <td>-107.680187</td>\n",
       "      <td>...</td>\n",
       "      <td>1080</td>\n",
       "      <td>1080</td>\n",
       "      <td>1080</td>\n",
       "      <td>1087</td>\n",
       "      <td>1104</td>\n",
       "      <td>1111</td>\n",
       "      <td>1120</td>\n",
       "      <td>1120</td>\n",
       "      <td>1120</td>\n",
       "      <td>0.0</td>\n",
       "    </tr>\n",
       "    <tr>\n",
       "      <th>3341</th>\n",
       "      <td>84056045</td>\n",
       "      <td>US</td>\n",
       "      <td>USA</td>\n",
       "      <td>840</td>\n",
       "      <td>56045.0</td>\n",
       "      <td>Weston</td>\n",
       "      <td>Wyoming</td>\n",
       "      <td>US</td>\n",
       "      <td>43.839612</td>\n",
       "      <td>-104.567488</td>\n",
       "      <td>...</td>\n",
       "      <td>802</td>\n",
       "      <td>802</td>\n",
       "      <td>802</td>\n",
       "      <td>813</td>\n",
       "      <td>821</td>\n",
       "      <td>824</td>\n",
       "      <td>829</td>\n",
       "      <td>829</td>\n",
       "      <td>829</td>\n",
       "      <td>0.0</td>\n",
       "    </tr>\n",
       "  </tbody>\n",
       "</table>\n",
       "<p>3342 rows × 612 columns</p>\n",
       "</div>"
      ],
      "text/plain": [
       "           UID iso2 iso3  code3     FIPS      Admin2 Province_State  \\\n",
       "0     84001001   US  USA    840   1001.0     Autauga        Alabama   \n",
       "1     84001003   US  USA    840   1003.0     Baldwin        Alabama   \n",
       "2     84001005   US  USA    840   1005.0     Barbour        Alabama   \n",
       "3     84001007   US  USA    840   1007.0        Bibb        Alabama   \n",
       "4     84001009   US  USA    840   1009.0      Blount        Alabama   \n",
       "...        ...  ...  ...    ...      ...         ...            ...   \n",
       "3337  84056039   US  USA    840  56039.0       Teton        Wyoming   \n",
       "3338  84056041   US  USA    840  56041.0       Uinta        Wyoming   \n",
       "3339  84090056   US  USA    840  90056.0  Unassigned        Wyoming   \n",
       "3340  84056043   US  USA    840  56043.0    Washakie        Wyoming   \n",
       "3341  84056045   US  USA    840  56045.0      Weston        Wyoming   \n",
       "\n",
       "     Country_Region        Lat       Long_  ... 9/4/21  9/5/21  9/6/21  \\\n",
       "0                US  32.539527  -86.644082  ...   8959    9012    9048   \n",
       "1                US  30.727750  -87.722071  ...  33968   34063   34142   \n",
       "2                US  31.868263  -85.387129  ...   3166    3184    3197   \n",
       "3                US  32.996421  -87.125115  ...   3618    3628    3641   \n",
       "4                US  33.982109  -86.567906  ...   8830    8862    8899   \n",
       "...             ...        ...         ...  ...    ...     ...     ...   \n",
       "3337             US  43.935225 -110.589080  ...   4502    4502    4502   \n",
       "3338             US  41.287818 -110.547578  ...   3053    3053    3053   \n",
       "3339             US   0.000000    0.000000  ...      0       0       0   \n",
       "3340             US  43.904516 -107.680187  ...   1080    1080    1080   \n",
       "3341             US  43.839612 -104.567488  ...    802     802     802   \n",
       "\n",
       "      9/7/21  9/8/21  9/9/21  9/10/21  9/11/21  9/12/21  median_increase  \n",
       "0       9063    9108    9145     9207     9246     9287             10.0  \n",
       "1      34246   34393   34536    34726    34872    34950             24.0  \n",
       "2       3207    3225    3243     3260     3282     3295              3.0  \n",
       "3       3661    3694    3727     3752     3778     3795              3.0  \n",
       "4       8951    8998    9048     9095     9161     9176              8.0  \n",
       "...      ...     ...     ...      ...      ...      ...              ...  \n",
       "3337    4568    4572    4587     4611     4611     4611              2.0  \n",
       "3338    3086    3141    3168     3204     3204     3204              1.0  \n",
       "3339       0       0       0        0        0        0              0.0  \n",
       "3340    1087    1104    1111     1120     1120     1120              0.0  \n",
       "3341     813     821     824      829      829      829              0.0  \n",
       "\n",
       "[3342 rows x 612 columns]"
      ]
     },
     "execution_count": 4,
     "metadata": {},
     "output_type": "execute_result"
    }
   ],
   "source": [
    "# 后-前 = increase from the previous day, Difference with previous column\n",
    "\n",
    "cases_date = cases.loc[:,'1/22/20':'9/12/21']\n",
    "cases_date_diff = cases_date.diff(axis=1)\n",
    "cases_date_row_med = cases_date_diff.median(axis = 1)  # axis = 1 means to apply the function each row. \n",
    "\n",
    "cases['median_increase'] = cases_date_row_med\n",
    "cases\n",
    "\n",
    "# cases['median_increase'].sum() == 29692"
   ]
  },
  {
   "cell_type": "markdown",
   "id": "86811c7a",
   "metadata": {
    "deletable": false,
    "editable": false
   },
   "source": [
    "### Question 1d\n",
    "\n",
    "Generate a valid FIPS code for the `counties` table.\n",
    "\n",
    "*Hint*: Refer to [this](https://transition.fcc.gov/oet/info/maps/census/fips/fips.txt) guide on FIPS codes.\n",
    "\n",
    "<!--\n",
    "BEGIN QUESTION\n",
    "name: q1d\n",
    "points: 2\n",
    "-->"
   ]
  },
  {
   "cell_type": "code",
   "execution_count": 5,
   "id": "ef06e930",
   "metadata": {},
   "outputs": [],
   "source": [
    "#FIPS codes are numbers which uniquely identify geographic areas.\n",
    "#State-level FIPS codes have two digits, county-level FIPS codes have five digits of which the \n",
    "#first two are the FIPS code of the state to which the county belongs.\n",
    "\n",
    "#01        ALABAMA\n",
    "#01000     Alabama\n",
    "#01001     Autauga County\n",
    "\n",
    "counties['FIPS'] = counties['STATE'].map(\"{:02}\".format) + counties['COUNTY'].map(\"{:03}\".format)\n",
    "\n",
    "# county_data['POPESTIMATE2020'].sum() == 329474777"
   ]
  },
  {
   "cell_type": "markdown",
   "id": "8067cc79",
   "metadata": {
    "deletable": false,
    "editable": false
   },
   "source": [
    "### Question 1e\n",
    "\n",
    "Merge the `counties`, `cases`, and `mask_use` tables on an appropriate primary key to generate county-wise data.\n",
    "\n",
    "<!--\n",
    "BEGIN QUESTION\n",
    "name: q1e\n",
    "points: 2\n",
    "-->"
   ]
  },
  {
   "cell_type": "code",
   "execution_count": 6,
   "id": "6e2366b8",
   "metadata": {},
   "outputs": [
    {
     "data": {
      "text/html": [
       "<div>\n",
       "<style scoped>\n",
       "    .dataframe tbody tr th:only-of-type {\n",
       "        vertical-align: middle;\n",
       "    }\n",
       "\n",
       "    .dataframe tbody tr th {\n",
       "        vertical-align: top;\n",
       "    }\n",
       "\n",
       "    .dataframe thead th {\n",
       "        text-align: right;\n",
       "    }\n",
       "</style>\n",
       "<table border=\"1\" class=\"dataframe\">\n",
       "  <thead>\n",
       "    <tr style=\"text-align: right;\">\n",
       "      <th></th>\n",
       "      <th>SUMLEV</th>\n",
       "      <th>REGION</th>\n",
       "      <th>DIVISION</th>\n",
       "      <th>STATE</th>\n",
       "      <th>COUNTY</th>\n",
       "      <th>STNAME</th>\n",
       "      <th>CTYNAME</th>\n",
       "      <th>CENSUS2010POP</th>\n",
       "      <th>ESTIMATESBASE2010</th>\n",
       "      <th>POPESTIMATE2010</th>\n",
       "      <th>...</th>\n",
       "      <th>9/10/21</th>\n",
       "      <th>9/11/21</th>\n",
       "      <th>9/12/21</th>\n",
       "      <th>median_increase</th>\n",
       "      <th>COUNTYFP</th>\n",
       "      <th>NEVER</th>\n",
       "      <th>RARELY</th>\n",
       "      <th>SOMETIMES</th>\n",
       "      <th>FREQUENTLY</th>\n",
       "      <th>ALWAYS</th>\n",
       "    </tr>\n",
       "  </thead>\n",
       "  <tbody>\n",
       "    <tr>\n",
       "      <th>0</th>\n",
       "      <td>50</td>\n",
       "      <td>3</td>\n",
       "      <td>6</td>\n",
       "      <td>1</td>\n",
       "      <td>1</td>\n",
       "      <td>Alabama</td>\n",
       "      <td>Autauga County</td>\n",
       "      <td>54571</td>\n",
       "      <td>54582</td>\n",
       "      <td>54761</td>\n",
       "      <td>...</td>\n",
       "      <td>9207</td>\n",
       "      <td>9246</td>\n",
       "      <td>9287</td>\n",
       "      <td>10.0</td>\n",
       "      <td>1001</td>\n",
       "      <td>0.053</td>\n",
       "      <td>0.074</td>\n",
       "      <td>0.134</td>\n",
       "      <td>0.295</td>\n",
       "      <td>0.444</td>\n",
       "    </tr>\n",
       "    <tr>\n",
       "      <th>1</th>\n",
       "      <td>50</td>\n",
       "      <td>3</td>\n",
       "      <td>6</td>\n",
       "      <td>1</td>\n",
       "      <td>3</td>\n",
       "      <td>Alabama</td>\n",
       "      <td>Baldwin County</td>\n",
       "      <td>182265</td>\n",
       "      <td>182263</td>\n",
       "      <td>183121</td>\n",
       "      <td>...</td>\n",
       "      <td>34726</td>\n",
       "      <td>34872</td>\n",
       "      <td>34950</td>\n",
       "      <td>24.0</td>\n",
       "      <td>1003</td>\n",
       "      <td>0.083</td>\n",
       "      <td>0.059</td>\n",
       "      <td>0.098</td>\n",
       "      <td>0.323</td>\n",
       "      <td>0.436</td>\n",
       "    </tr>\n",
       "    <tr>\n",
       "      <th>2</th>\n",
       "      <td>50</td>\n",
       "      <td>3</td>\n",
       "      <td>6</td>\n",
       "      <td>1</td>\n",
       "      <td>5</td>\n",
       "      <td>Alabama</td>\n",
       "      <td>Barbour County</td>\n",
       "      <td>27457</td>\n",
       "      <td>27454</td>\n",
       "      <td>27325</td>\n",
       "      <td>...</td>\n",
       "      <td>3260</td>\n",
       "      <td>3282</td>\n",
       "      <td>3295</td>\n",
       "      <td>3.0</td>\n",
       "      <td>1005</td>\n",
       "      <td>0.067</td>\n",
       "      <td>0.121</td>\n",
       "      <td>0.120</td>\n",
       "      <td>0.201</td>\n",
       "      <td>0.491</td>\n",
       "    </tr>\n",
       "    <tr>\n",
       "      <th>3</th>\n",
       "      <td>50</td>\n",
       "      <td>3</td>\n",
       "      <td>6</td>\n",
       "      <td>1</td>\n",
       "      <td>7</td>\n",
       "      <td>Alabama</td>\n",
       "      <td>Bibb County</td>\n",
       "      <td>22915</td>\n",
       "      <td>22904</td>\n",
       "      <td>22858</td>\n",
       "      <td>...</td>\n",
       "      <td>3752</td>\n",
       "      <td>3778</td>\n",
       "      <td>3795</td>\n",
       "      <td>3.0</td>\n",
       "      <td>1007</td>\n",
       "      <td>0.020</td>\n",
       "      <td>0.034</td>\n",
       "      <td>0.096</td>\n",
       "      <td>0.278</td>\n",
       "      <td>0.572</td>\n",
       "    </tr>\n",
       "    <tr>\n",
       "      <th>4</th>\n",
       "      <td>50</td>\n",
       "      <td>3</td>\n",
       "      <td>6</td>\n",
       "      <td>1</td>\n",
       "      <td>9</td>\n",
       "      <td>Alabama</td>\n",
       "      <td>Blount County</td>\n",
       "      <td>57322</td>\n",
       "      <td>57322</td>\n",
       "      <td>57372</td>\n",
       "      <td>...</td>\n",
       "      <td>9095</td>\n",
       "      <td>9161</td>\n",
       "      <td>9176</td>\n",
       "      <td>8.0</td>\n",
       "      <td>1009</td>\n",
       "      <td>0.053</td>\n",
       "      <td>0.114</td>\n",
       "      <td>0.180</td>\n",
       "      <td>0.194</td>\n",
       "      <td>0.459</td>\n",
       "    </tr>\n",
       "    <tr>\n",
       "      <th>...</th>\n",
       "      <td>...</td>\n",
       "      <td>...</td>\n",
       "      <td>...</td>\n",
       "      <td>...</td>\n",
       "      <td>...</td>\n",
       "      <td>...</td>\n",
       "      <td>...</td>\n",
       "      <td>...</td>\n",
       "      <td>...</td>\n",
       "      <td>...</td>\n",
       "      <td>...</td>\n",
       "      <td>...</td>\n",
       "      <td>...</td>\n",
       "      <td>...</td>\n",
       "      <td>...</td>\n",
       "      <td>...</td>\n",
       "      <td>...</td>\n",
       "      <td>...</td>\n",
       "      <td>...</td>\n",
       "      <td>...</td>\n",
       "      <td>...</td>\n",
       "    </tr>\n",
       "    <tr>\n",
       "      <th>3136</th>\n",
       "      <td>50</td>\n",
       "      <td>4</td>\n",
       "      <td>8</td>\n",
       "      <td>56</td>\n",
       "      <td>37</td>\n",
       "      <td>Wyoming</td>\n",
       "      <td>Sweetwater County</td>\n",
       "      <td>43806</td>\n",
       "      <td>43806</td>\n",
       "      <td>43580</td>\n",
       "      <td>...</td>\n",
       "      <td>6111</td>\n",
       "      <td>6111</td>\n",
       "      <td>6111</td>\n",
       "      <td>3.0</td>\n",
       "      <td>56037</td>\n",
       "      <td>0.061</td>\n",
       "      <td>0.295</td>\n",
       "      <td>0.230</td>\n",
       "      <td>0.146</td>\n",
       "      <td>0.268</td>\n",
       "    </tr>\n",
       "    <tr>\n",
       "      <th>3137</th>\n",
       "      <td>50</td>\n",
       "      <td>4</td>\n",
       "      <td>8</td>\n",
       "      <td>56</td>\n",
       "      <td>39</td>\n",
       "      <td>Wyoming</td>\n",
       "      <td>Teton County</td>\n",
       "      <td>21294</td>\n",
       "      <td>21298</td>\n",
       "      <td>21298</td>\n",
       "      <td>...</td>\n",
       "      <td>4611</td>\n",
       "      <td>4611</td>\n",
       "      <td>4611</td>\n",
       "      <td>2.0</td>\n",
       "      <td>56039</td>\n",
       "      <td>0.095</td>\n",
       "      <td>0.157</td>\n",
       "      <td>0.160</td>\n",
       "      <td>0.247</td>\n",
       "      <td>0.340</td>\n",
       "    </tr>\n",
       "    <tr>\n",
       "      <th>3138</th>\n",
       "      <td>50</td>\n",
       "      <td>4</td>\n",
       "      <td>8</td>\n",
       "      <td>56</td>\n",
       "      <td>41</td>\n",
       "      <td>Wyoming</td>\n",
       "      <td>Uinta County</td>\n",
       "      <td>21118</td>\n",
       "      <td>21121</td>\n",
       "      <td>21090</td>\n",
       "      <td>...</td>\n",
       "      <td>3204</td>\n",
       "      <td>3204</td>\n",
       "      <td>3204</td>\n",
       "      <td>1.0</td>\n",
       "      <td>56041</td>\n",
       "      <td>0.098</td>\n",
       "      <td>0.278</td>\n",
       "      <td>0.154</td>\n",
       "      <td>0.207</td>\n",
       "      <td>0.264</td>\n",
       "    </tr>\n",
       "    <tr>\n",
       "      <th>3139</th>\n",
       "      <td>50</td>\n",
       "      <td>4</td>\n",
       "      <td>8</td>\n",
       "      <td>56</td>\n",
       "      <td>43</td>\n",
       "      <td>Wyoming</td>\n",
       "      <td>Washakie County</td>\n",
       "      <td>8533</td>\n",
       "      <td>8528</td>\n",
       "      <td>8531</td>\n",
       "      <td>...</td>\n",
       "      <td>1120</td>\n",
       "      <td>1120</td>\n",
       "      <td>1120</td>\n",
       "      <td>0.0</td>\n",
       "      <td>56043</td>\n",
       "      <td>0.204</td>\n",
       "      <td>0.155</td>\n",
       "      <td>0.069</td>\n",
       "      <td>0.285</td>\n",
       "      <td>0.287</td>\n",
       "    </tr>\n",
       "    <tr>\n",
       "      <th>3140</th>\n",
       "      <td>50</td>\n",
       "      <td>4</td>\n",
       "      <td>8</td>\n",
       "      <td>56</td>\n",
       "      <td>45</td>\n",
       "      <td>Wyoming</td>\n",
       "      <td>Weston County</td>\n",
       "      <td>7208</td>\n",
       "      <td>7208</td>\n",
       "      <td>7198</td>\n",
       "      <td>...</td>\n",
       "      <td>829</td>\n",
       "      <td>829</td>\n",
       "      <td>829</td>\n",
       "      <td>0.0</td>\n",
       "      <td>56045</td>\n",
       "      <td>0.142</td>\n",
       "      <td>0.129</td>\n",
       "      <td>0.148</td>\n",
       "      <td>0.207</td>\n",
       "      <td>0.374</td>\n",
       "    </tr>\n",
       "  </tbody>\n",
       "</table>\n",
       "<p>3141 rows × 639 columns</p>\n",
       "</div>"
      ],
      "text/plain": [
       "      SUMLEV  REGION  DIVISION  STATE  COUNTY   STNAME            CTYNAME  \\\n",
       "0         50       3         6      1       1  Alabama     Autauga County   \n",
       "1         50       3         6      1       3  Alabama     Baldwin County   \n",
       "2         50       3         6      1       5  Alabama     Barbour County   \n",
       "3         50       3         6      1       7  Alabama        Bibb County   \n",
       "4         50       3         6      1       9  Alabama      Blount County   \n",
       "...      ...     ...       ...    ...     ...      ...                ...   \n",
       "3136      50       4         8     56      37  Wyoming  Sweetwater County   \n",
       "3137      50       4         8     56      39  Wyoming       Teton County   \n",
       "3138      50       4         8     56      41  Wyoming       Uinta County   \n",
       "3139      50       4         8     56      43  Wyoming    Washakie County   \n",
       "3140      50       4         8     56      45  Wyoming      Weston County   \n",
       "\n",
       "     CENSUS2010POP  ESTIMATESBASE2010  POPESTIMATE2010  ...  9/10/21  9/11/21  \\\n",
       "0            54571              54582            54761  ...     9207     9246   \n",
       "1           182265             182263           183121  ...    34726    34872   \n",
       "2            27457              27454            27325  ...     3260     3282   \n",
       "3            22915              22904            22858  ...     3752     3778   \n",
       "4            57322              57322            57372  ...     9095     9161   \n",
       "...            ...                ...              ...  ...      ...      ...   \n",
       "3136         43806              43806            43580  ...     6111     6111   \n",
       "3137         21294              21298            21298  ...     4611     4611   \n",
       "3138         21118              21121            21090  ...     3204     3204   \n",
       "3139          8533               8528             8531  ...     1120     1120   \n",
       "3140          7208               7208             7198  ...      829      829   \n",
       "\n",
       "      9/12/21  median_increase  COUNTYFP  NEVER  RARELY  SOMETIMES  \\\n",
       "0        9287             10.0      1001  0.053   0.074      0.134   \n",
       "1       34950             24.0      1003  0.083   0.059      0.098   \n",
       "2        3295              3.0      1005  0.067   0.121      0.120   \n",
       "3        3795              3.0      1007  0.020   0.034      0.096   \n",
       "4        9176              8.0      1009  0.053   0.114      0.180   \n",
       "...       ...              ...       ...    ...     ...        ...   \n",
       "3136     6111              3.0     56037  0.061   0.295      0.230   \n",
       "3137     4611              2.0     56039  0.095   0.157      0.160   \n",
       "3138     3204              1.0     56041  0.098   0.278      0.154   \n",
       "3139     1120              0.0     56043  0.204   0.155      0.069   \n",
       "3140      829              0.0     56045  0.142   0.129      0.148   \n",
       "\n",
       "      FREQUENTLY  ALWAYS  \n",
       "0          0.295   0.444  \n",
       "1          0.323   0.436  \n",
       "2          0.201   0.491  \n",
       "3          0.278   0.572  \n",
       "4          0.194   0.459  \n",
       "...          ...     ...  \n",
       "3136       0.146   0.268  \n",
       "3137       0.247   0.340  \n",
       "3138       0.207   0.264  \n",
       "3139       0.285   0.287  \n",
       "3140       0.207   0.374  \n",
       "\n",
       "[3141 rows x 639 columns]"
      ]
     },
     "execution_count": 6,
     "metadata": {},
     "output_type": "execute_result"
    }
   ],
   "source": [
    "#counties: FIPS. str\n",
    "#cases: FIPS. float\n",
    "#mask_use: COUNTYFP, int\n",
    "#all inner join???\n",
    "\n",
    "#covnert cases \"FIPS\" col into str\n",
    "counties[\"FIPS\"] = counties['FIPS'].astype(int)\n",
    "\n",
    "# cases\n",
    "\n",
    "#merge counties and cases\n",
    "counties_cases_merge = pd.merge(counties, cases, how = 'inner',on = \"FIPS\")\n",
    "counties_cases_merge\n",
    "\n",
    "#convert mask_use 'COUNTYFP' to str, add a new col called FIPS for merge???\n",
    "# mask_use['COUNTYFP'] = mask_use['COUNTYFP'].astype(int)\n",
    "# make_use = mask_use.rename(columns = {'COUNTYFP': 'FIPS'})\n",
    "\n",
    "\n",
    "#merge mask_use and counties_cases_merge\n",
    "county_data = pd.merge(counties_cases_merge, mask_use, how = 'inner', left_on = 'FIPS', right_on = 'COUNTYFP')\n",
    "county_data\n",
    "\n",
    "# # # county_data['POPESTIMATE2020'].sum()\n",
    "# # #county_data.shape == (3141, 639)"
   ]
  },
  {
   "cell_type": "markdown",
   "id": "a55aadcf",
   "metadata": {
    "deletable": false,
    "editable": false
   },
   "source": [
    "<!-- BEGIN QUESTION -->\n",
    "\n",
    "### Question 1f\n",
    "\n",
    "Generate the population by state using `counties` using the population estimate in 2020 (i.e. `POPESTIMATE2020`). Remark on any inconsistencies and propose a solution. \n",
    "<!--\n",
    "BEGIN QUESTION\n",
    "name: q1f\n",
    "points: 2\n",
    "manual: True\n",
    "-->"
   ]
  },
  {
   "cell_type": "code",
   "execution_count": 7,
   "id": "a56b13e7-5279-45b0-8ae8-a543c89346b2",
   "metadata": {},
   "outputs": [
    {
     "data": {
      "text/plain": [
       "(       STNAME  POPESTIMATE2020\n",
       " 0     Alabama          4921532\n",
       " 1      Alaska           721812\n",
       " 2     Arizona          7421401\n",
       " 3    Arkansas          3030522\n",
       " 4  California         39368078,\n",
       " STNAME\n",
       " Alabama        9843064\n",
       " Alaska         1462316\n",
       " Arizona       14842802\n",
       " Arkansas       6061044\n",
       " California    78736156\n",
       " Name: POPESTIMATE2020, dtype: int64)"
      ]
     },
     "execution_count": 7,
     "metadata": {},
     "output_type": "execute_result"
    }
   ],
   "source": [
    "#Hint: What is the population of California?\n",
    "#Depending on your solution, proposing a solution can fix it as well since there is no need to modify any DataFrames.\n",
    "\n",
    "population_gb = counties.groupby('STNAME')['POPESTIMATE2020'].sum()\n",
    "population_gb.head()\n",
    "# the states population seems to be twice as much as the actual population estimate (by Google)\n",
    "\n",
    "# the actual population estimate\n",
    "population = pd.DataFrame(county_data.groupby('STNAME', as_index = False).sum()[['STNAME','POPESTIMATE2020']])\n",
    "population.head(), population_gb.head()"
   ]
  },
  {
   "cell_type": "markdown",
   "id": "7b63ded8",
   "metadata": {},
   "source": [
    "If using groupby.sum() for the counties dataframe, the state's total population is about twice as much as the actual estimatation of the states' population. That is because in the counties dataframe, there is one row that is the sum of that state's population. If we use groupby on counties and take the sum of each state, we will get the actual population estimate times 2 because of that row containing each state's population. \n",
    "If we want to avoid doubling the state's population, we should use the county_data as our groupby dataframe because it does not contain that extra row."
   ]
  },
  {
   "cell_type": "markdown",
   "id": "741bf86e",
   "metadata": {},
   "source": [
    "<!-- END QUESTION -->\n",
    "\n",
    "\n",
    "\n",
    "<br/><br/><br/>\n",
    "\n",
    "---\n",
    "\n",
    "<br/><br/><br/>\n",
    "\n",
    "## Guided EDA with visualizations"
   ]
  },
  {
   "cell_type": "markdown",
   "id": "862404d4",
   "metadata": {
    "deletable": false,
    "editable": false
   },
   "source": [
    "<!-- BEGIN QUESTION -->\n",
    "\n",
    "### Question 2a\n",
    "\n",
    "Create a visualization that shows the median increase in number of cases for the 50 counties with the greatest median increase over January 23, 2020 to September 12, 2021. Make sure to include the name of state in which each county is located since county names are not necessarily unique.\n",
    "<!--\n",
    "BEGIN QUESTION\n",
    "name: q2a\n",
    "points: 3\n",
    "manual: True\n",
    "-->"
   ]
  },
  {
   "cell_type": "code",
   "execution_count": 8,
   "id": "e8a5bb6e",
   "metadata": {},
   "outputs": [
    {
     "data": {
      "text/html": [
       "<div>\n",
       "<style scoped>\n",
       "    .dataframe tbody tr th:only-of-type {\n",
       "        vertical-align: middle;\n",
       "    }\n",
       "\n",
       "    .dataframe tbody tr th {\n",
       "        vertical-align: top;\n",
       "    }\n",
       "\n",
       "    .dataframe thead th {\n",
       "        text-align: right;\n",
       "    }\n",
       "</style>\n",
       "<table border=\"1\" class=\"dataframe\">\n",
       "  <thead>\n",
       "    <tr style=\"text-align: right;\">\n",
       "      <th></th>\n",
       "      <th>CTYNAME</th>\n",
       "      <th>STNAME</th>\n",
       "      <th>median_increase</th>\n",
       "      <th>COUNTY_AND_STATE</th>\n",
       "    </tr>\n",
       "  </thead>\n",
       "  <tbody>\n",
       "    <tr>\n",
       "      <th>203</th>\n",
       "      <td>Los Angeles County</td>\n",
       "      <td>California</td>\n",
       "      <td>1110.0</td>\n",
       "      <td>Los Angeles County, California</td>\n",
       "    </tr>\n",
       "    <tr>\n",
       "      <th>609</th>\n",
       "      <td>Cook County</td>\n",
       "      <td>Illinois</td>\n",
       "      <td>691.0</td>\n",
       "      <td>Cook County, Illinois</td>\n",
       "    </tr>\n",
       "    <tr>\n",
       "      <th>2622</th>\n",
       "      <td>Harris County</td>\n",
       "      <td>Texas</td>\n",
       "      <td>546.0</td>\n",
       "      <td>Harris County, Texas</td>\n",
       "    </tr>\n",
       "    <tr>\n",
       "      <th>361</th>\n",
       "      <td>Miami-Dade County</td>\n",
       "      <td>Florida</td>\n",
       "      <td>529.0</td>\n",
       "      <td>Miami-Dade County, Florida</td>\n",
       "    </tr>\n",
       "    <tr>\n",
       "      <th>102</th>\n",
       "      <td>Maricopa County</td>\n",
       "      <td>Arizona</td>\n",
       "      <td>504.0</td>\n",
       "      <td>Maricopa County, Arizona</td>\n",
       "    </tr>\n",
       "  </tbody>\n",
       "</table>\n",
       "</div>"
      ],
      "text/plain": [
       "                 CTYNAME      STNAME  median_increase  \\\n",
       "203   Los Angeles County  California           1110.0   \n",
       "609          Cook County    Illinois            691.0   \n",
       "2622       Harris County       Texas            546.0   \n",
       "361    Miami-Dade County     Florida            529.0   \n",
       "102      Maricopa County     Arizona            504.0   \n",
       "\n",
       "                    COUNTY_AND_STATE  \n",
       "203   Los Angeles County, California  \n",
       "609            Cook County, Illinois  \n",
       "2622            Harris County, Texas  \n",
       "361       Miami-Dade County, Florida  \n",
       "102         Maricopa County, Arizona  "
      ]
     },
     "execution_count": 8,
     "metadata": {},
     "output_type": "execute_result"
    }
   ],
   "source": [
    "highest_median = county_data.sort_values(\"median_increase\", ascending=False)[[\"CTYNAME\",\"STNAME\", \"median_increase\"]].iloc[0:50]\n",
    "con = highest_median.CTYNAME + \", \" + highest_median.STNAME\n",
    "highest_median[\"COUNTY_AND_STATE\"] = con\n",
    "highest_median.head(5)\n"
   ]
  },
  {
   "cell_type": "code",
   "execution_count": 9,
   "id": "b21ee47b-6434-4413-9fc8-378960143ed2",
   "metadata": {},
   "outputs": [
    {
     "data": {
      "application/vnd.plotly.v1+json": {
       "config": {
        "plotlyServerURL": "https://plot.ly"
       },
       "data": [
        {
         "marker": {
          "color": [
           0,
           1,
           2,
           3,
           4,
           5,
           6,
           7,
           8,
           9,
           10,
           11,
           12,
           13,
           14,
           15,
           16,
           17,
           18,
           19,
           20,
           21,
           22,
           23,
           24,
           25,
           26,
           27,
           28,
           29,
           30,
           31,
           32,
           33,
           34,
           35,
           36,
           37,
           38,
           39,
           40,
           41,
           42,
           43,
           44,
           45,
           46,
           47,
           48,
           49
          ],
          "colorscale": [
           [
            0,
            "#fcffa4"
           ],
           [
            0.1111111111111111,
            "#f7d13d"
           ],
           [
            0.2222222222222222,
            "#fb9b06"
           ],
           [
            0.3333333333333333,
            "#ed6925"
           ],
           [
            0.4444444444444444,
            "#cf4446"
           ],
           [
            0.5555555555555556,
            "#a52c60"
           ],
           [
            0.6666666666666666,
            "#781c6d"
           ],
           [
            0.7777777777777778,
            "#4a0c6b"
           ],
           [
            0.8888888888888888,
            "#1b0c41"
           ],
           [
            1,
            "#000004"
           ]
          ]
         },
         "text": [
          1110,
          691,
          546,
          529,
          504,
          335,
          281,
          281,
          269,
          249,
          237,
          231,
          203,
          189,
          184,
          183,
          171,
          169,
          168,
          162,
          155,
          150,
          144,
          138,
          137,
          137,
          135,
          135,
          134,
          130,
          130,
          130,
          129,
          125,
          123,
          122,
          122,
          119,
          119,
          118,
          116,
          112,
          112,
          111,
          104,
          104,
          102,
          100,
          100,
          99
         ],
         "textfont": {
          "size": 14
         },
         "textposition": "outside",
         "type": "bar",
         "uid": "a96c3030-a317-4db3-8681-13e61f34997d",
         "x": [
          "Los Angeles County, California",
          "Cook County, Illinois",
          "Harris County, Texas",
          "Miami-Dade County, Florida",
          "Maricopa County, Arizona",
          "Clark County, Nevada",
          "Dallas County, Texas",
          "Kings County, New York",
          "San Diego County, California",
          "Broward County, Florida",
          "Tarrant County, Texas",
          "Queens County, New York",
          "Hillsborough County, Florida",
          "Palm Beach County, Florida",
          "San Bernardino County, California",
          "Orange County, California",
          "Orange County, Florida",
          "Hennepin County, Minnesota",
          "Salt Lake County, Utah",
          "Franklin County, Ohio",
          "Mecklenburg County, North Carolina",
          "Wayne County, Michigan",
          "Bronx County, New York",
          "Bexar County, Texas",
          "New York County, New York",
          "King County, Washington",
          "St. Louis County, Missouri",
          "Prince George's County, Maryland",
          "Suffolk County, New York",
          "Milwaukee County, Wisconsin",
          "Philadelphia County, Pennsylvania",
          "Middlesex County, Massachusetts",
          "Shelby County, Tennessee",
          "Nassau County, New York",
          "El Paso County, Texas",
          "Marion County, Indiana",
          "Riverside County, California",
          "Fulton County, Georgia",
          "Gwinnett County, Georgia",
          "Sacramento County, California",
          "Cuyahoga County, Ohio",
          "Davidson County, Tennessee",
          "DuPage County, Illinois",
          "Duval County, Florida",
          "Wake County, North Carolina",
          "Suffolk County, Massachusetts",
          "Oakland County, Michigan",
          "Essex County, Massachusetts",
          "Santa Clara County, California",
          "Jefferson County, Kentucky"
         ],
         "y": [
          1110,
          691,
          546,
          529,
          504,
          335,
          281,
          281,
          269,
          249,
          237,
          231,
          203,
          189,
          184,
          183,
          171,
          169,
          168,
          162,
          155,
          150,
          144,
          138,
          137,
          137,
          135,
          135,
          134,
          130,
          130,
          130,
          129,
          125,
          123,
          122,
          122,
          119,
          119,
          118,
          116,
          112,
          112,
          111,
          104,
          104,
          102,
          100,
          100,
          99
         ]
        }
       ],
       "layout": {
        "height": 600,
        "template": {
         "data": {
          "bar": [
           {
            "error_x": {
             "color": "#2a3f5f"
            },
            "error_y": {
             "color": "#2a3f5f"
            },
            "marker": {
             "line": {
              "color": "#E5ECF6",
              "width": 0.5
             },
             "pattern": {
              "fillmode": "overlay",
              "size": 10,
              "solidity": 0.2
             }
            },
            "type": "bar"
           }
          ],
          "barpolar": [
           {
            "marker": {
             "line": {
              "color": "#E5ECF6",
              "width": 0.5
             },
             "pattern": {
              "fillmode": "overlay",
              "size": 10,
              "solidity": 0.2
             }
            },
            "type": "barpolar"
           }
          ],
          "carpet": [
           {
            "aaxis": {
             "endlinecolor": "#2a3f5f",
             "gridcolor": "white",
             "linecolor": "white",
             "minorgridcolor": "white",
             "startlinecolor": "#2a3f5f"
            },
            "baxis": {
             "endlinecolor": "#2a3f5f",
             "gridcolor": "white",
             "linecolor": "white",
             "minorgridcolor": "white",
             "startlinecolor": "#2a3f5f"
            },
            "type": "carpet"
           }
          ],
          "choropleth": [
           {
            "colorbar": {
             "outlinewidth": 0,
             "ticks": ""
            },
            "type": "choropleth"
           }
          ],
          "contour": [
           {
            "colorbar": {
             "outlinewidth": 0,
             "ticks": ""
            },
            "colorscale": [
             [
              0,
              "#0d0887"
             ],
             [
              0.1111111111111111,
              "#46039f"
             ],
             [
              0.2222222222222222,
              "#7201a8"
             ],
             [
              0.3333333333333333,
              "#9c179e"
             ],
             [
              0.4444444444444444,
              "#bd3786"
             ],
             [
              0.5555555555555556,
              "#d8576b"
             ],
             [
              0.6666666666666666,
              "#ed7953"
             ],
             [
              0.7777777777777778,
              "#fb9f3a"
             ],
             [
              0.8888888888888888,
              "#fdca26"
             ],
             [
              1,
              "#f0f921"
             ]
            ],
            "type": "contour"
           }
          ],
          "contourcarpet": [
           {
            "colorbar": {
             "outlinewidth": 0,
             "ticks": ""
            },
            "type": "contourcarpet"
           }
          ],
          "heatmap": [
           {
            "colorbar": {
             "outlinewidth": 0,
             "ticks": ""
            },
            "colorscale": [
             [
              0,
              "#0d0887"
             ],
             [
              0.1111111111111111,
              "#46039f"
             ],
             [
              0.2222222222222222,
              "#7201a8"
             ],
             [
              0.3333333333333333,
              "#9c179e"
             ],
             [
              0.4444444444444444,
              "#bd3786"
             ],
             [
              0.5555555555555556,
              "#d8576b"
             ],
             [
              0.6666666666666666,
              "#ed7953"
             ],
             [
              0.7777777777777778,
              "#fb9f3a"
             ],
             [
              0.8888888888888888,
              "#fdca26"
             ],
             [
              1,
              "#f0f921"
             ]
            ],
            "type": "heatmap"
           }
          ],
          "heatmapgl": [
           {
            "colorbar": {
             "outlinewidth": 0,
             "ticks": ""
            },
            "colorscale": [
             [
              0,
              "#0d0887"
             ],
             [
              0.1111111111111111,
              "#46039f"
             ],
             [
              0.2222222222222222,
              "#7201a8"
             ],
             [
              0.3333333333333333,
              "#9c179e"
             ],
             [
              0.4444444444444444,
              "#bd3786"
             ],
             [
              0.5555555555555556,
              "#d8576b"
             ],
             [
              0.6666666666666666,
              "#ed7953"
             ],
             [
              0.7777777777777778,
              "#fb9f3a"
             ],
             [
              0.8888888888888888,
              "#fdca26"
             ],
             [
              1,
              "#f0f921"
             ]
            ],
            "type": "heatmapgl"
           }
          ],
          "histogram": [
           {
            "marker": {
             "pattern": {
              "fillmode": "overlay",
              "size": 10,
              "solidity": 0.2
             }
            },
            "type": "histogram"
           }
          ],
          "histogram2d": [
           {
            "colorbar": {
             "outlinewidth": 0,
             "ticks": ""
            },
            "colorscale": [
             [
              0,
              "#0d0887"
             ],
             [
              0.1111111111111111,
              "#46039f"
             ],
             [
              0.2222222222222222,
              "#7201a8"
             ],
             [
              0.3333333333333333,
              "#9c179e"
             ],
             [
              0.4444444444444444,
              "#bd3786"
             ],
             [
              0.5555555555555556,
              "#d8576b"
             ],
             [
              0.6666666666666666,
              "#ed7953"
             ],
             [
              0.7777777777777778,
              "#fb9f3a"
             ],
             [
              0.8888888888888888,
              "#fdca26"
             ],
             [
              1,
              "#f0f921"
             ]
            ],
            "type": "histogram2d"
           }
          ],
          "histogram2dcontour": [
           {
            "colorbar": {
             "outlinewidth": 0,
             "ticks": ""
            },
            "colorscale": [
             [
              0,
              "#0d0887"
             ],
             [
              0.1111111111111111,
              "#46039f"
             ],
             [
              0.2222222222222222,
              "#7201a8"
             ],
             [
              0.3333333333333333,
              "#9c179e"
             ],
             [
              0.4444444444444444,
              "#bd3786"
             ],
             [
              0.5555555555555556,
              "#d8576b"
             ],
             [
              0.6666666666666666,
              "#ed7953"
             ],
             [
              0.7777777777777778,
              "#fb9f3a"
             ],
             [
              0.8888888888888888,
              "#fdca26"
             ],
             [
              1,
              "#f0f921"
             ]
            ],
            "type": "histogram2dcontour"
           }
          ],
          "mesh3d": [
           {
            "colorbar": {
             "outlinewidth": 0,
             "ticks": ""
            },
            "type": "mesh3d"
           }
          ],
          "parcoords": [
           {
            "line": {
             "colorbar": {
              "outlinewidth": 0,
              "ticks": ""
             }
            },
            "type": "parcoords"
           }
          ],
          "pie": [
           {
            "automargin": true,
            "type": "pie"
           }
          ],
          "scatter": [
           {
            "fillpattern": {
             "fillmode": "overlay",
             "size": 10,
             "solidity": 0.2
            },
            "type": "scatter"
           }
          ],
          "scatter3d": [
           {
            "line": {
             "colorbar": {
              "outlinewidth": 0,
              "ticks": ""
             }
            },
            "marker": {
             "colorbar": {
              "outlinewidth": 0,
              "ticks": ""
             }
            },
            "type": "scatter3d"
           }
          ],
          "scattercarpet": [
           {
            "marker": {
             "colorbar": {
              "outlinewidth": 0,
              "ticks": ""
             }
            },
            "type": "scattercarpet"
           }
          ],
          "scattergeo": [
           {
            "marker": {
             "colorbar": {
              "outlinewidth": 0,
              "ticks": ""
             }
            },
            "type": "scattergeo"
           }
          ],
          "scattergl": [
           {
            "marker": {
             "colorbar": {
              "outlinewidth": 0,
              "ticks": ""
             }
            },
            "type": "scattergl"
           }
          ],
          "scattermapbox": [
           {
            "marker": {
             "colorbar": {
              "outlinewidth": 0,
              "ticks": ""
             }
            },
            "type": "scattermapbox"
           }
          ],
          "scatterpolar": [
           {
            "marker": {
             "colorbar": {
              "outlinewidth": 0,
              "ticks": ""
             }
            },
            "type": "scatterpolar"
           }
          ],
          "scatterpolargl": [
           {
            "marker": {
             "colorbar": {
              "outlinewidth": 0,
              "ticks": ""
             }
            },
            "type": "scatterpolargl"
           }
          ],
          "scatterternary": [
           {
            "marker": {
             "colorbar": {
              "outlinewidth": 0,
              "ticks": ""
             }
            },
            "type": "scatterternary"
           }
          ],
          "surface": [
           {
            "colorbar": {
             "outlinewidth": 0,
             "ticks": ""
            },
            "colorscale": [
             [
              0,
              "#0d0887"
             ],
             [
              0.1111111111111111,
              "#46039f"
             ],
             [
              0.2222222222222222,
              "#7201a8"
             ],
             [
              0.3333333333333333,
              "#9c179e"
             ],
             [
              0.4444444444444444,
              "#bd3786"
             ],
             [
              0.5555555555555556,
              "#d8576b"
             ],
             [
              0.6666666666666666,
              "#ed7953"
             ],
             [
              0.7777777777777778,
              "#fb9f3a"
             ],
             [
              0.8888888888888888,
              "#fdca26"
             ],
             [
              1,
              "#f0f921"
             ]
            ],
            "type": "surface"
           }
          ],
          "table": [
           {
            "cells": {
             "fill": {
              "color": "#EBF0F8"
             },
             "line": {
              "color": "white"
             }
            },
            "header": {
             "fill": {
              "color": "#C8D4E3"
             },
             "line": {
              "color": "white"
             }
            },
            "type": "table"
           }
          ]
         },
         "layout": {
          "annotationdefaults": {
           "arrowcolor": "#2a3f5f",
           "arrowhead": 0,
           "arrowwidth": 1
          },
          "autotypenumbers": "strict",
          "coloraxis": {
           "colorbar": {
            "outlinewidth": 0,
            "ticks": ""
           }
          },
          "colorscale": {
           "diverging": [
            [
             0,
             "#8e0152"
            ],
            [
             0.1,
             "#c51b7d"
            ],
            [
             0.2,
             "#de77ae"
            ],
            [
             0.3,
             "#f1b6da"
            ],
            [
             0.4,
             "#fde0ef"
            ],
            [
             0.5,
             "#f7f7f7"
            ],
            [
             0.6,
             "#e6f5d0"
            ],
            [
             0.7,
             "#b8e186"
            ],
            [
             0.8,
             "#7fbc41"
            ],
            [
             0.9,
             "#4d9221"
            ],
            [
             1,
             "#276419"
            ]
           ],
           "sequential": [
            [
             0,
             "#0d0887"
            ],
            [
             0.1111111111111111,
             "#46039f"
            ],
            [
             0.2222222222222222,
             "#7201a8"
            ],
            [
             0.3333333333333333,
             "#9c179e"
            ],
            [
             0.4444444444444444,
             "#bd3786"
            ],
            [
             0.5555555555555556,
             "#d8576b"
            ],
            [
             0.6666666666666666,
             "#ed7953"
            ],
            [
             0.7777777777777778,
             "#fb9f3a"
            ],
            [
             0.8888888888888888,
             "#fdca26"
            ],
            [
             1,
             "#f0f921"
            ]
           ],
           "sequentialminus": [
            [
             0,
             "#0d0887"
            ],
            [
             0.1111111111111111,
             "#46039f"
            ],
            [
             0.2222222222222222,
             "#7201a8"
            ],
            [
             0.3333333333333333,
             "#9c179e"
            ],
            [
             0.4444444444444444,
             "#bd3786"
            ],
            [
             0.5555555555555556,
             "#d8576b"
            ],
            [
             0.6666666666666666,
             "#ed7953"
            ],
            [
             0.7777777777777778,
             "#fb9f3a"
            ],
            [
             0.8888888888888888,
             "#fdca26"
            ],
            [
             1,
             "#f0f921"
            ]
           ]
          },
          "colorway": [
           "#636efa",
           "#EF553B",
           "#00cc96",
           "#ab63fa",
           "#FFA15A",
           "#19d3f3",
           "#FF6692",
           "#B6E880",
           "#FF97FF",
           "#FECB52"
          ],
          "font": {
           "color": "#2a3f5f"
          },
          "geo": {
           "bgcolor": "white",
           "lakecolor": "white",
           "landcolor": "#E5ECF6",
           "showlakes": true,
           "showland": true,
           "subunitcolor": "white"
          },
          "hoverlabel": {
           "align": "left"
          },
          "hovermode": "closest",
          "mapbox": {
           "style": "light"
          },
          "paper_bgcolor": "white",
          "plot_bgcolor": "#E5ECF6",
          "polar": {
           "angularaxis": {
            "gridcolor": "white",
            "linecolor": "white",
            "ticks": ""
           },
           "bgcolor": "#E5ECF6",
           "radialaxis": {
            "gridcolor": "white",
            "linecolor": "white",
            "ticks": ""
           }
          },
          "scene": {
           "xaxis": {
            "backgroundcolor": "#E5ECF6",
            "gridcolor": "white",
            "gridwidth": 2,
            "linecolor": "white",
            "showbackground": true,
            "ticks": "",
            "zerolinecolor": "white"
           },
           "yaxis": {
            "backgroundcolor": "#E5ECF6",
            "gridcolor": "white",
            "gridwidth": 2,
            "linecolor": "white",
            "showbackground": true,
            "ticks": "",
            "zerolinecolor": "white"
           },
           "zaxis": {
            "backgroundcolor": "#E5ECF6",
            "gridcolor": "white",
            "gridwidth": 2,
            "linecolor": "white",
            "showbackground": true,
            "ticks": "",
            "zerolinecolor": "white"
           }
          },
          "shapedefaults": {
           "line": {
            "color": "#2a3f5f"
           }
          },
          "ternary": {
           "aaxis": {
            "gridcolor": "white",
            "linecolor": "white",
            "ticks": ""
           },
           "baxis": {
            "gridcolor": "white",
            "linecolor": "white",
            "ticks": ""
           },
           "bgcolor": "#E5ECF6",
           "caxis": {
            "gridcolor": "white",
            "linecolor": "white",
            "ticks": ""
           }
          },
          "title": {
           "x": 0.05
          },
          "xaxis": {
           "automargin": true,
           "gridcolor": "white",
           "linecolor": "white",
           "ticks": "",
           "title": {
            "standoff": 15
           },
           "zerolinecolor": "white",
           "zerolinewidth": 2
          },
          "yaxis": {
           "automargin": true,
           "gridcolor": "white",
           "linecolor": "white",
           "ticks": "",
           "title": {
            "standoff": 15
           },
           "zerolinecolor": "white",
           "zerolinewidth": 2
          }
         }
        },
        "title": {
         "text": "Top 50 Median Number of Covid Cases Increases by County"
        },
        "width": 1000,
        "xaxis": {
         "title": {
          "text": "top 50 counties"
         }
        },
        "yaxis": {
         "title": {
          "text": "median increase"
         }
        }
       }
      }
     },
     "metadata": {},
     "output_type": "display_data"
    }
   ],
   "source": [
    "import plotly.graph_objs as go\n",
    "\n",
    "by_class = highest_median\n",
    "\n",
    "x = highest_median[\"COUNTY_AND_STATE\"]\n",
    "y = highest_median[\"median_increase\"]\n",
    "state_names = highest_median[\"STNAME\"]\n",
    "fig = go.FigureWidget(data=[go.Bar(x=x, \n",
    "                                   y=y,\n",
    "                                   marker={'color': np.arange(len(x)),'colorscale': \"inferno_r\"}, \n",
    "                                   text = y\n",
    "                                   )]) \n",
    "\n",
    "\n",
    "fig.update_traces(textposition='outside', textfont_size=14)\n",
    "\n",
    "fig.update_layout(height=600, width=1000)\n",
    "\n",
    "fig.layout.title = \"Top 50 Median Number of Covid Cases Increases by County\"\n",
    "\n",
    "#label x and y axis\n",
    "fig.update_layout(xaxis_title = 'top 50 counties')\n",
    "fig.update_layout(yaxis_title = 'median increase')\n",
    "\n",
    "\n",
    "fig.show()"
   ]
  },
  {
   "cell_type": "markdown",
   "id": "40f79760",
   "metadata": {
    "deletable": false,
    "editable": false,
    "tags": []
   },
   "source": [
    "<!-- END QUESTION -->\n",
    "\n",
    "<!-- BEGIN QUESTION -->\n",
    "\n",
    "### Question 2b\n",
    "\n",
    "Create a visualization that shows the overall county-wise distribution of the number of COVID-19 cases per capita across the United States as a function of time. For all questions that reference population, use the population estimates from 2020.\n",
    "<!--\n",
    "BEGIN QUESTION\n",
    "name: q2b\n",
    "points: 4\n",
    "manual: True\n",
    "-->"
   ]
  },
  {
   "cell_type": "code",
   "execution_count": 10,
   "id": "8655cebb-7d2d-4344-b447-61674921ec74",
   "metadata": {},
   "outputs": [
    {
     "data": {
      "text/html": [
       "<div>\n",
       "<style scoped>\n",
       "    .dataframe tbody tr th:only-of-type {\n",
       "        vertical-align: middle;\n",
       "    }\n",
       "\n",
       "    .dataframe tbody tr th {\n",
       "        vertical-align: top;\n",
       "    }\n",
       "\n",
       "    .dataframe thead th {\n",
       "        text-align: right;\n",
       "    }\n",
       "</style>\n",
       "<table border=\"1\" class=\"dataframe\">\n",
       "  <thead>\n",
       "    <tr style=\"text-align: right;\">\n",
       "      <th></th>\n",
       "      <th>UID</th>\n",
       "      <th>iso2</th>\n",
       "      <th>iso3</th>\n",
       "      <th>code3</th>\n",
       "      <th>FIPS</th>\n",
       "      <th>Admin2</th>\n",
       "      <th>Province_State</th>\n",
       "      <th>Country_Region</th>\n",
       "      <th>Lat</th>\n",
       "      <th>Long_</th>\n",
       "      <th>...</th>\n",
       "      <th>9/4/21</th>\n",
       "      <th>9/5/21</th>\n",
       "      <th>9/6/21</th>\n",
       "      <th>9/7/21</th>\n",
       "      <th>9/8/21</th>\n",
       "      <th>9/9/21</th>\n",
       "      <th>9/10/21</th>\n",
       "      <th>9/11/21</th>\n",
       "      <th>9/12/21</th>\n",
       "      <th>median_increase</th>\n",
       "    </tr>\n",
       "  </thead>\n",
       "  <tbody>\n",
       "    <tr>\n",
       "      <th>0</th>\n",
       "      <td>84001001</td>\n",
       "      <td>US</td>\n",
       "      <td>USA</td>\n",
       "      <td>840</td>\n",
       "      <td>1001.0</td>\n",
       "      <td>Autauga</td>\n",
       "      <td>Alabama</td>\n",
       "      <td>US</td>\n",
       "      <td>32.539527</td>\n",
       "      <td>-86.644082</td>\n",
       "      <td>...</td>\n",
       "      <td>8959</td>\n",
       "      <td>9012</td>\n",
       "      <td>9048</td>\n",
       "      <td>9063</td>\n",
       "      <td>9108</td>\n",
       "      <td>9145</td>\n",
       "      <td>9207</td>\n",
       "      <td>9246</td>\n",
       "      <td>9287</td>\n",
       "      <td>10.0</td>\n",
       "    </tr>\n",
       "    <tr>\n",
       "      <th>1</th>\n",
       "      <td>84001003</td>\n",
       "      <td>US</td>\n",
       "      <td>USA</td>\n",
       "      <td>840</td>\n",
       "      <td>1003.0</td>\n",
       "      <td>Baldwin</td>\n",
       "      <td>Alabama</td>\n",
       "      <td>US</td>\n",
       "      <td>30.727750</td>\n",
       "      <td>-87.722071</td>\n",
       "      <td>...</td>\n",
       "      <td>33968</td>\n",
       "      <td>34063</td>\n",
       "      <td>34142</td>\n",
       "      <td>34246</td>\n",
       "      <td>34393</td>\n",
       "      <td>34536</td>\n",
       "      <td>34726</td>\n",
       "      <td>34872</td>\n",
       "      <td>34950</td>\n",
       "      <td>24.0</td>\n",
       "    </tr>\n",
       "    <tr>\n",
       "      <th>2</th>\n",
       "      <td>84001005</td>\n",
       "      <td>US</td>\n",
       "      <td>USA</td>\n",
       "      <td>840</td>\n",
       "      <td>1005.0</td>\n",
       "      <td>Barbour</td>\n",
       "      <td>Alabama</td>\n",
       "      <td>US</td>\n",
       "      <td>31.868263</td>\n",
       "      <td>-85.387129</td>\n",
       "      <td>...</td>\n",
       "      <td>3166</td>\n",
       "      <td>3184</td>\n",
       "      <td>3197</td>\n",
       "      <td>3207</td>\n",
       "      <td>3225</td>\n",
       "      <td>3243</td>\n",
       "      <td>3260</td>\n",
       "      <td>3282</td>\n",
       "      <td>3295</td>\n",
       "      <td>3.0</td>\n",
       "    </tr>\n",
       "  </tbody>\n",
       "</table>\n",
       "<p>3 rows × 612 columns</p>\n",
       "</div>"
      ],
      "text/plain": [
       "        UID iso2 iso3  code3    FIPS   Admin2 Province_State Country_Region  \\\n",
       "0  84001001   US  USA    840  1001.0  Autauga        Alabama             US   \n",
       "1  84001003   US  USA    840  1003.0  Baldwin        Alabama             US   \n",
       "2  84001005   US  USA    840  1005.0  Barbour        Alabama             US   \n",
       "\n",
       "         Lat      Long_  ... 9/4/21  9/5/21  9/6/21  9/7/21  9/8/21  9/9/21  \\\n",
       "0  32.539527 -86.644082  ...   8959    9012    9048    9063    9108    9145   \n",
       "1  30.727750 -87.722071  ...  33968   34063   34142   34246   34393   34536   \n",
       "2  31.868263 -85.387129  ...   3166    3184    3197    3207    3225    3243   \n",
       "\n",
       "   9/10/21  9/11/21  9/12/21  median_increase  \n",
       "0     9207     9246     9287             10.0  \n",
       "1    34726    34872    34950             24.0  \n",
       "2     3260     3282     3295              3.0  \n",
       "\n",
       "[3 rows x 612 columns]"
      ]
     },
     "execution_count": 10,
     "metadata": {},
     "output_type": "execute_result"
    }
   ],
   "source": [
    "cases.head(3)"
   ]
  },
  {
   "cell_type": "code",
   "execution_count": 11,
   "id": "21642f00",
   "metadata": {},
   "outputs": [
    {
     "data": {
      "image/png": "[encoded data removed]",
      "text/plain": [
       "<Figure size 1000x500 with 1 Axes>"
      ]
     },
     "metadata": {},
     "output_type": "display_data"
    }
   ],
   "source": [
    "# using box plots with seaborn and matplot  \n",
    "DF = pd.DataFrame()\n",
    "for column in county_data.loc[:,'8/22/20':'9/12/21':10].columns:\n",
    "    m = (county_data[column] / county_data[\"POPESTIMATE2020\"])\n",
    "    DF[column] = m\n",
    "    \n",
    "plt.figure(figsize=(10,5))\n",
    "sns.boxplot( data=DF, palette=\"inferno\")\n",
    "plt.xlabel(\"Dates: 8/22/20 - 9/12/21 (Every 10th Date Selected)\",size=15)\n",
    "plt.ylabel(\"Proportion of Cases by County\", size=15)\n",
    "plt.title(\"Distribution of COVID-19 cases per capita across U.S. from Aug 2020 to Sept 2021\", size=20)\n",
    "plt.xticks(rotation=90);\n"
   ]
  },
  {
   "cell_type": "markdown",
   "id": "92d12eed",
   "metadata": {
    "deletable": false,
    "editable": false,
    "tags": []
   },
   "source": [
    "<!-- END QUESTION -->\n",
    "\n",
    "<!-- BEGIN QUESTION -->\n",
    "\n",
    "### Question 2c\n",
    "\n",
    "Create a visualization that shows states' increases in the number of COVID-19 cases per capita from September 3rd to September 12th, sorted from least to greatest increases. \n",
    "\n",
    "<!--\n",
    "BEGIN QUESTION\n",
    "name: q2c\n",
    "points: 3\n",
    "manual: True\n",
    "-->"
   ]
  },
  {
   "cell_type": "code",
   "execution_count": 12,
   "id": "26063e57",
   "metadata": {},
   "outputs": [
    {
     "data": {
      "application/vnd.plotly.v1+json": {
       "config": {
        "plotlyServerURL": "https://plot.ly"
       },
       "data": [
        {
         "marker": {
          "color": [
           0,
           1,
           2,
           3,
           4,
           5,
           6,
           7,
           8,
           9,
           10,
           11,
           12,
           13,
           14,
           15,
           16,
           17,
           18,
           19,
           20,
           21,
           22,
           23,
           24,
           25,
           26,
           27,
           28,
           29,
           30,
           31,
           32,
           33,
           34,
           35,
           36,
           37,
           38,
           39,
           40,
           41,
           42,
           43,
           44,
           45,
           46,
           47,
           48,
           49,
           50
          ],
          "colorscale": [
           [
            0,
            "#0d0887"
           ],
           [
            0.1111111111111111,
            "#46039f"
           ],
           [
            0.2222222222222222,
            "#7201a8"
           ],
           [
            0.3333333333333333,
            "#9c179e"
           ],
           [
            0.4444444444444444,
            "#bd3786"
           ],
           [
            0.5555555555555556,
            "#d8576b"
           ],
           [
            0.6666666666666666,
            "#ed7953"
           ],
           [
            0.7777777777777778,
            "#fb9f3a"
           ],
           [
            0.8888888888888888,
            "#fdca26"
           ],
           [
            1,
            "#f0f921"
           ]
          ]
         },
         "text": [
          0,
          1048,
          1411,
          2071,
          2303,
          2917,
          2933,
          3437,
          3628,
          3768,
          3820,
          4228,
          4463,
          4472,
          5907,
          7047,
          7306,
          8373,
          8747,
          9508,
          9939,
          10635,
          11069,
          12544,
          12737,
          12952,
          13449,
          14324,
          15652,
          15784,
          17142,
          17525,
          18564,
          19045,
          22241,
          23660,
          24665,
          26053,
          26364,
          27867,
          31674,
          32746,
          34897,
          41378,
          41748,
          49238,
          50021,
          57357,
          67433,
          100248,
          137435
         ],
         "textfont": {
          "size": 14
         },
         "textposition": "outside",
         "type": "bar",
         "uid": "408853e0-d4f7-4b29-a156-9d4af546ef3c",
         "x": [
          "Nebraska",
          "District of Columbia",
          "Vermont",
          "Rhode Island",
          "New Hampshire",
          "South Dakota",
          "Maine",
          "Wyoming",
          "North Dakota",
          "Connecticut",
          "Delaware",
          "Montana",
          "Alaska",
          "New Mexico",
          "Hawaii",
          "Utah",
          "Nevada",
          "Idaho",
          "Iowa",
          "Maryland",
          "Kansas",
          "Massachusetts",
          "Minnesota",
          "Colorado",
          "Wisconsin",
          "Oregon",
          "Mississippi",
          "Arkansas",
          "Louisiana",
          "West Virginia",
          "Michigan",
          "Missouri",
          "Oklahoma",
          "New Jersey",
          "Washington",
          "Virginia",
          "Arizona",
          "Illinois",
          "Indiana",
          "Kentucky",
          "South Carolina",
          "Alabama",
          "Pennsylvania",
          "North Carolina",
          "New York",
          "Georgia",
          "Tennessee",
          "Ohio",
          "California",
          "Florida",
          "Texas"
         ],
         "y": [
          0,
          1048,
          1411,
          2071,
          2303,
          2917,
          2933,
          3437,
          3628,
          3768,
          3820,
          4228,
          4463,
          4472,
          5907,
          7047,
          7306,
          8373,
          8747,
          9508,
          9939,
          10635,
          11069,
          12544,
          12737,
          12952,
          13449,
          14324,
          15652,
          15784,
          17142,
          17525,
          18564,
          19045,
          22241,
          23660,
          24665,
          26053,
          26364,
          27867,
          31674,
          32746,
          34897,
          41378,
          41748,
          49238,
          50021,
          57357,
          67433,
          100248,
          137435
         ]
        }
       ],
       "layout": {
        "height": 600,
        "template": {
         "data": {
          "bar": [
           {
            "error_x": {
             "color": "#2a3f5f"
            },
            "error_y": {
             "color": "#2a3f5f"
            },
            "marker": {
             "line": {
              "color": "#E5ECF6",
              "width": 0.5
             },
             "pattern": {
              "fillmode": "overlay",
              "size": 10,
              "solidity": 0.2
             }
            },
            "type": "bar"
           }
          ],
          "barpolar": [
           {
            "marker": {
             "line": {
              "color": "#E5ECF6",
              "width": 0.5
             },
             "pattern": {
              "fillmode": "overlay",
              "size": 10,
              "solidity": 0.2
             }
            },
            "type": "barpolar"
           }
          ],
          "carpet": [
           {
            "aaxis": {
             "endlinecolor": "#2a3f5f",
             "gridcolor": "white",
             "linecolor": "white",
             "minorgridcolor": "white",
             "startlinecolor": "#2a3f5f"
            },
            "baxis": {
             "endlinecolor": "#2a3f5f",
             "gridcolor": "white",
             "linecolor": "white",
             "minorgridcolor": "white",
             "startlinecolor": "#2a3f5f"
            },
            "type": "carpet"
           }
          ],
          "choropleth": [
           {
            "colorbar": {
             "outlinewidth": 0,
             "ticks": ""
            },
            "type": "choropleth"
           }
          ],
          "contour": [
           {
            "colorbar": {
             "outlinewidth": 0,
             "ticks": ""
            },
            "colorscale": [
             [
              0,
              "#0d0887"
             ],
             [
              0.1111111111111111,
              "#46039f"
             ],
             [
              0.2222222222222222,
              "#7201a8"
             ],
             [
              0.3333333333333333,
              "#9c179e"
             ],
             [
              0.4444444444444444,
              "#bd3786"
             ],
             [
              0.5555555555555556,
              "#d8576b"
             ],
             [
              0.6666666666666666,
              "#ed7953"
             ],
             [
              0.7777777777777778,
              "#fb9f3a"
             ],
             [
              0.8888888888888888,
              "#fdca26"
             ],
             [
              1,
              "#f0f921"
             ]
            ],
            "type": "contour"
           }
          ],
          "contourcarpet": [
           {
            "colorbar": {
             "outlinewidth": 0,
             "ticks": ""
            },
            "type": "contourcarpet"
           }
          ],
          "heatmap": [
           {
            "colorbar": {
             "outlinewidth": 0,
             "ticks": ""
            },
            "colorscale": [
             [
              0,
              "#0d0887"
             ],
             [
              0.1111111111111111,
              "#46039f"
             ],
             [
              0.2222222222222222,
              "#7201a8"
             ],
             [
              0.3333333333333333,
              "#9c179e"
             ],
             [
              0.4444444444444444,
              "#bd3786"
             ],
             [
              0.5555555555555556,
              "#d8576b"
             ],
             [
              0.6666666666666666,
              "#ed7953"
             ],
             [
              0.7777777777777778,
              "#fb9f3a"
             ],
             [
              0.8888888888888888,
              "#fdca26"
             ],
             [
              1,
              "#f0f921"
             ]
            ],
            "type": "heatmap"
           }
          ],
          "heatmapgl": [
           {
            "colorbar": {
             "outlinewidth": 0,
             "ticks": ""
            },
            "colorscale": [
             [
              0,
              "#0d0887"
             ],
             [
              0.1111111111111111,
              "#46039f"
             ],
             [
              0.2222222222222222,
              "#7201a8"
             ],
             [
              0.3333333333333333,
              "#9c179e"
             ],
             [
              0.4444444444444444,
              "#bd3786"
             ],
             [
              0.5555555555555556,
              "#d8576b"
             ],
             [
              0.6666666666666666,
              "#ed7953"
             ],
             [
              0.7777777777777778,
              "#fb9f3a"
             ],
             [
              0.8888888888888888,
              "#fdca26"
             ],
             [
              1,
              "#f0f921"
             ]
            ],
            "type": "heatmapgl"
           }
          ],
          "histogram": [
           {
            "marker": {
             "pattern": {
              "fillmode": "overlay",
              "size": 10,
              "solidity": 0.2
             }
            },
            "type": "histogram"
           }
          ],
          "histogram2d": [
           {
            "colorbar": {
             "outlinewidth": 0,
             "ticks": ""
            },
            "colorscale": [
             [
              0,
              "#0d0887"
             ],
             [
              0.1111111111111111,
              "#46039f"
             ],
             [
              0.2222222222222222,
              "#7201a8"
             ],
             [
              0.3333333333333333,
              "#9c179e"
             ],
             [
              0.4444444444444444,
              "#bd3786"
             ],
             [
              0.5555555555555556,
              "#d8576b"
             ],
             [
              0.6666666666666666,
              "#ed7953"
             ],
             [
              0.7777777777777778,
              "#fb9f3a"
             ],
             [
              0.8888888888888888,
              "#fdca26"
             ],
             [
              1,
              "#f0f921"
             ]
            ],
            "type": "histogram2d"
           }
          ],
          "histogram2dcontour": [
           {
            "colorbar": {
             "outlinewidth": 0,
             "ticks": ""
            },
            "colorscale": [
             [
              0,
              "#0d0887"
             ],
             [
              0.1111111111111111,
              "#46039f"
             ],
             [
              0.2222222222222222,
              "#7201a8"
             ],
             [
              0.3333333333333333,
              "#9c179e"
             ],
             [
              0.4444444444444444,
              "#bd3786"
             ],
             [
              0.5555555555555556,
              "#d8576b"
             ],
             [
              0.6666666666666666,
              "#ed7953"
             ],
             [
              0.7777777777777778,
              "#fb9f3a"
             ],
             [
              0.8888888888888888,
              "#fdca26"
             ],
             [
              1,
              "#f0f921"
             ]
            ],
            "type": "histogram2dcontour"
           }
          ],
          "mesh3d": [
           {
            "colorbar": {
             "outlinewidth": 0,
             "ticks": ""
            },
            "type": "mesh3d"
           }
          ],
          "parcoords": [
           {
            "line": {
             "colorbar": {
              "outlinewidth": 0,
              "ticks": ""
             }
            },
            "type": "parcoords"
           }
          ],
          "pie": [
           {
            "automargin": true,
            "type": "pie"
           }
          ],
          "scatter": [
           {
            "fillpattern": {
             "fillmode": "overlay",
             "size": 10,
             "solidity": 0.2
            },
            "type": "scatter"
           }
          ],
          "scatter3d": [
           {
            "line": {
             "colorbar": {
              "outlinewidth": 0,
              "ticks": ""
             }
            },
            "marker": {
             "colorbar": {
              "outlinewidth": 0,
              "ticks": ""
             }
            },
            "type": "scatter3d"
           }
          ],
          "scattercarpet": [
           {
            "marker": {
             "colorbar": {
              "outlinewidth": 0,
              "ticks": ""
             }
            },
            "type": "scattercarpet"
           }
          ],
          "scattergeo": [
           {
            "marker": {
             "colorbar": {
              "outlinewidth": 0,
              "ticks": ""
             }
            },
            "type": "scattergeo"
           }
          ],
          "scattergl": [
           {
            "marker": {
             "colorbar": {
              "outlinewidth": 0,
              "ticks": ""
             }
            },
            "type": "scattergl"
           }
          ],
          "scattermapbox": [
           {
            "marker": {
             "colorbar": {
              "outlinewidth": 0,
              "ticks": ""
             }
            },
            "type": "scattermapbox"
           }
          ],
          "scatterpolar": [
           {
            "marker": {
             "colorbar": {
              "outlinewidth": 0,
              "ticks": ""
             }
            },
            "type": "scatterpolar"
           }
          ],
          "scatterpolargl": [
           {
            "marker": {
             "colorbar": {
              "outlinewidth": 0,
              "ticks": ""
             }
            },
            "type": "scatterpolargl"
           }
          ],
          "scatterternary": [
           {
            "marker": {
             "colorbar": {
              "outlinewidth": 0,
              "ticks": ""
             }
            },
            "type": "scatterternary"
           }
          ],
          "surface": [
           {
            "colorbar": {
             "outlinewidth": 0,
             "ticks": ""
            },
            "colorscale": [
             [
              0,
              "#0d0887"
             ],
             [
              0.1111111111111111,
              "#46039f"
             ],
             [
              0.2222222222222222,
              "#7201a8"
             ],
             [
              0.3333333333333333,
              "#9c179e"
             ],
             [
              0.4444444444444444,
              "#bd3786"
             ],
             [
              0.5555555555555556,
              "#d8576b"
             ],
             [
              0.6666666666666666,
              "#ed7953"
             ],
             [
              0.7777777777777778,
              "#fb9f3a"
             ],
             [
              0.8888888888888888,
              "#fdca26"
             ],
             [
              1,
              "#f0f921"
             ]
            ],
            "type": "surface"
           }
          ],
          "table": [
           {
            "cells": {
             "fill": {
              "color": "#EBF0F8"
             },
             "line": {
              "color": "white"
             }
            },
            "header": {
             "fill": {
              "color": "#C8D4E3"
             },
             "line": {
              "color": "white"
             }
            },
            "type": "table"
           }
          ]
         },
         "layout": {
          "annotationdefaults": {
           "arrowcolor": "#2a3f5f",
           "arrowhead": 0,
           "arrowwidth": 1
          },
          "autotypenumbers": "strict",
          "coloraxis": {
           "colorbar": {
            "outlinewidth": 0,
            "ticks": ""
           }
          },
          "colorscale": {
           "diverging": [
            [
             0,
             "#8e0152"
            ],
            [
             0.1,
             "#c51b7d"
            ],
            [
             0.2,
             "#de77ae"
            ],
            [
             0.3,
             "#f1b6da"
            ],
            [
             0.4,
             "#fde0ef"
            ],
            [
             0.5,
             "#f7f7f7"
            ],
            [
             0.6,
             "#e6f5d0"
            ],
            [
             0.7,
             "#b8e186"
            ],
            [
             0.8,
             "#7fbc41"
            ],
            [
             0.9,
             "#4d9221"
            ],
            [
             1,
             "#276419"
            ]
           ],
           "sequential": [
            [
             0,
             "#0d0887"
            ],
            [
             0.1111111111111111,
             "#46039f"
            ],
            [
             0.2222222222222222,
             "#7201a8"
            ],
            [
             0.3333333333333333,
             "#9c179e"
            ],
            [
             0.4444444444444444,
             "#bd3786"
            ],
            [
             0.5555555555555556,
             "#d8576b"
            ],
            [
             0.6666666666666666,
             "#ed7953"
            ],
            [
             0.7777777777777778,
             "#fb9f3a"
            ],
            [
             0.8888888888888888,
             "#fdca26"
            ],
            [
             1,
             "#f0f921"
            ]
           ],
           "sequentialminus": [
            [
             0,
             "#0d0887"
            ],
            [
             0.1111111111111111,
             "#46039f"
            ],
            [
             0.2222222222222222,
             "#7201a8"
            ],
            [
             0.3333333333333333,
             "#9c179e"
            ],
            [
             0.4444444444444444,
             "#bd3786"
            ],
            [
             0.5555555555555556,
             "#d8576b"
            ],
            [
             0.6666666666666666,
             "#ed7953"
            ],
            [
             0.7777777777777778,
             "#fb9f3a"
            ],
            [
             0.8888888888888888,
             "#fdca26"
            ],
            [
             1,
             "#f0f921"
            ]
           ]
          },
          "colorway": [
           "#636efa",
           "#EF553B",
           "#00cc96",
           "#ab63fa",
           "#FFA15A",
           "#19d3f3",
           "#FF6692",
           "#B6E880",
           "#FF97FF",
           "#FECB52"
          ],
          "font": {
           "color": "#2a3f5f"
          },
          "geo": {
           "bgcolor": "white",
           "lakecolor": "white",
           "landcolor": "#E5ECF6",
           "showlakes": true,
           "showland": true,
           "subunitcolor": "white"
          },
          "hoverlabel": {
           "align": "left"
          },
          "hovermode": "closest",
          "mapbox": {
           "style": "light"
          },
          "paper_bgcolor": "white",
          "plot_bgcolor": "#E5ECF6",
          "polar": {
           "angularaxis": {
            "gridcolor": "white",
            "linecolor": "white",
            "ticks": ""
           },
           "bgcolor": "#E5ECF6",
           "radialaxis": {
            "gridcolor": "white",
            "linecolor": "white",
            "ticks": ""
           }
          },
          "scene": {
           "xaxis": {
            "backgroundcolor": "#E5ECF6",
            "gridcolor": "white",
            "gridwidth": 2,
            "linecolor": "white",
            "showbackground": true,
            "ticks": "",
            "zerolinecolor": "white"
           },
           "yaxis": {
            "backgroundcolor": "#E5ECF6",
            "gridcolor": "white",
            "gridwidth": 2,
            "linecolor": "white",
            "showbackground": true,
            "ticks": "",
            "zerolinecolor": "white"
           },
           "zaxis": {
            "backgroundcolor": "#E5ECF6",
            "gridcolor": "white",
            "gridwidth": 2,
            "linecolor": "white",
            "showbackground": true,
            "ticks": "",
            "zerolinecolor": "white"
           }
          },
          "shapedefaults": {
           "line": {
            "color": "#2a3f5f"
           }
          },
          "ternary": {
           "aaxis": {
            "gridcolor": "white",
            "linecolor": "white",
            "ticks": ""
           },
           "baxis": {
            "gridcolor": "white",
            "linecolor": "white",
            "ticks": ""
           },
           "bgcolor": "#E5ECF6",
           "caxis": {
            "gridcolor": "white",
            "linecolor": "white",
            "ticks": ""
           }
          },
          "title": {
           "x": 0.05
          },
          "xaxis": {
           "automargin": true,
           "gridcolor": "white",
           "linecolor": "white",
           "ticks": "",
           "title": {
            "standoff": 15
           },
           "zerolinecolor": "white",
           "zerolinewidth": 2
          },
          "yaxis": {
           "automargin": true,
           "gridcolor": "white",
           "linecolor": "white",
           "ticks": "",
           "title": {
            "standoff": 15
           },
           "zerolinecolor": "white",
           "zerolinewidth": 2
          }
         }
        },
        "title": {
         "text": "Covid Cases Increase by State From 9/3/21 - 9/12/21"
        },
        "width": 1000,
        "xaxis": {
         "title": {
          "text": " State"
         }
        },
        "yaxis": {
         "title": {
          "text": "Increase in Number of Covid Cases"
         }
        }
       }
      }
     },
     "metadata": {},
     "output_type": "display_data"
    }
   ],
   "source": [
    "states_left = county_data[[\"9/3/21\", \"STNAME\"]].groupby(\"STNAME\").sum()\n",
    "states_right = county_data[[\"9/12/21\", \"STNAME\"]].groupby(\"STNAME\").sum()\n",
    "\n",
    "differences = states_right[\"9/12/21\"] - states_left[\"9/3/21\"]\n",
    "\n",
    "states_cases = states_left.join(states_right)\n",
    "states_cases[\"State Increase\"] = differences\n",
    "states_cases = states_cases.sort_values(\"State Increase\")\n",
    "states_cases.head()\n",
    "\n",
    "\n",
    "# by_class = highest_median\n",
    "\n",
    "state_x = states_cases.index\n",
    "state_y = states_cases[\"State Increase\"]\n",
    "# state_names = highest_median[\"STNAME\"]\n",
    "fig = go.FigureWidget(data=[go.Bar(x=state_x, \n",
    "                                   y=state_y,\n",
    "                                   marker={'color': np.arange(len(state_x)),'colorscale': \"plasma\"}, \n",
    "                                   text = state_y\n",
    "                                   \n",
    "                                   )]) \n",
    "\n",
    "\n",
    "fig.update_traces(textposition='outside', textfont_size=14)\n",
    "\n",
    "fig.update_layout(height=600, width=1000, yaxis_title = \"Increase in Number of Covid Cases\", xaxis_title = \" State\")\n",
    "\n",
    "fig.layout.title = \"Covid Cases Increase by State From 9/3/21 - 9/12/21\"\n",
    "fig.show()"
   ]
  },
  {
   "cell_type": "markdown",
   "id": "a44f54f7",
   "metadata": {
    "deletable": false,
    "editable": false,
    "tags": []
   },
   "source": [
    "<!-- END QUESTION -->\n",
    "\n",
    "<!-- BEGIN QUESTION -->\n",
    "\n",
    "### Question 2d\n",
    "\n",
    "Create a plot using a technique of your choice that visualizes the relationship between:\n",
    "\n",
    "a) the number of COVID-19 cases as a function of time for the Mobile, Tarrant, Cook, and San Fransisco counties located in Alabama, Texas, Illinois, and California.\n",
    "\n",
    "b) the frequency of never, rarely or sometimes wearing a mask in the respective counties\n",
    "\n",
    "*Hint*: You may find a description of the data [here](https://github.com/CSSEGISandData/COVID-19/blob/846fa9458cc2a8904d2492d14d3e6b4f399ec027/csse_covid_19_data/csse_covid_19_time_series/README.md).\n",
    "\n",
    "<!--\n",
    "BEGIN QUESTION\n",
    "name: q2d\n",
    "points: 3\n",
    "manual: True\n",
    "-->"
   ]
  },
  {
   "cell_type": "code",
   "execution_count": 13,
   "id": "83175649",
   "metadata": {},
   "outputs": [
    {
     "data": {
      "image/png": "[encoded data removed]",
      "text/plain": [
       "<Figure size 2000x800 with 2 Axes>"
      ]
     },
     "metadata": {},
     "output_type": "display_data"
    }
   ],
   "source": [
    "four_counties = (county_data\n",
    "                 .set_index(\"Combined_Key\")\n",
    "                 .loc[['Mobile, Alabama, US','Tarrant, Texas, US','Cook, Illinois, US','San Francisco, California, US'],:]\n",
    "                 .loc[:,'8/22/20':'9/12/21':10]\n",
    "                )\n",
    "\n",
    "frequency_count = (county_data\n",
    "                   .set_index(\"Combined_Key\")\n",
    "                   .loc[['Mobile, Alabama, US','Tarrant, Texas, US','Cook, Illinois, US','San Francisco, California, US'],['NEVER','RARELY','SOMETIMES']]\n",
    "                  )\n",
    "\n",
    "\n",
    "county_total_pop = (county_data\n",
    "                    .groupby(\"Combined_Key\")\n",
    "                    .sum()\n",
    "                    .loc[['Mobile, Alabama, US','Tarrant, Texas, US','Cook, Illinois, US','San Francisco, California, US'],['POPESTIMATE2020']]\n",
    "                    .values\n",
    "                   )\n",
    "\n",
    "four_counties_percapita = four_counties / county_total_pop\n",
    "\n",
    "\n",
    "fig, (ax1,ax2) = plt.subplots(1,2, figsize=(20,8))  # 1 row, 2 columns\n",
    "\n",
    "# plt.title(\"Number Of Covid Cases In Respective Counties Over Time\")\n",
    "four_counties_percapita.T.plot(ax=ax1, title=\"Number Of Covid Cases In Respective Counties Over Time\")\n",
    "\n",
    "\n",
    "# plt.title(\"The Frequency Of Mask Usage In Respective Counties\")\n",
    "frequency_count.T.plot.bar(ax=ax2, title=\"The Frequency Of Mask Usage In Respective Counties\");\n",
    "plt.xticks(rotation=0)\n",
    "\n",
    "plt.show();\n"
   ]
  },
  {
   "cell_type": "markdown",
   "id": "fdf4427b",
   "metadata": {
    "deletable": false,
    "editable": false
   },
   "source": [
    "<!-- END QUESTION -->\n",
    "\n",
    "<!-- BEGIN QUESTION -->\n",
    "\n",
    "### Question 2e\n",
    "\n",
    "Visualize and describe the spatial relationship between the location and the following quantities over the continguous United States:\n",
    "\n",
    "a) the number of most recent **COVID-19 cases per capita on September 12, 2021**\n",
    "\n",
    "b) the **frequency of never, rarely or sometimes wearing a mask**\n",
    "\n",
    "*Hint*: Use `plotly` to generate a heatmap on a geographical plot of the United States!\n",
    "\n",
    "<!--\n",
    "BEGIN QUESTION\n",
    "name: q2e\n",
    "points: 5\n",
    "manual: True\n",
    "-->"
   ]
  },
  {
   "cell_type": "code",
   "execution_count": 14,
   "id": "1f16c533",
   "metadata": {},
   "outputs": [
    {
     "data": {
      "application/vnd.plotly.v1+json": {
       "config": {
        "plotlyServerURL": "https://plot.ly"
       },
       "data": [
        {
         "colorbar": {
          "title": {
           "text": "most recent COVID cases per capita"
          }
         },
         "colorscale": [
          [
           0,
           "rgb(255,245,240)"
          ],
          [
           0.125,
           "rgb(254,224,210)"
          ],
          [
           0.25,
           "rgb(252,187,161)"
          ],
          [
           0.375,
           "rgb(252,146,114)"
          ],
          [
           0.5,
           "rgb(251,106,74)"
          ],
          [
           0.625,
           "rgb(239,59,44)"
          ],
          [
           0.75,
           "rgb(203,24,29)"
          ],
          [
           0.875,
           "rgb(165,15,21)"
          ],
          [
           1,
           "rgb(103,0,13)"
          ]
         ],
         "locationmode": "USA-states",
         "locations": [
          "AL",
          "AK",
          "AZ",
          "AR",
          "CA",
          "CO",
          "CT",
          "DE",
          null,
          "FL",
          "GA",
          "HI",
          "ID",
          "IL",
          "IN",
          "IA",
          "KS",
          "KY",
          "LA",
          "ME",
          "MD",
          "MA",
          "MI",
          "MN",
          "MS",
          "MO",
          "MT",
          "NE",
          "NV",
          "NH",
          "NJ",
          "NM",
          "NY",
          "NC",
          "ND",
          "OH",
          "OK",
          "OR",
          "PA",
          "RI",
          "SC",
          "SD",
          "TN",
          "TX",
          "UT",
          "VT",
          "VA",
          "WA",
          "WV",
          "WI",
          "WY"
         ],
         "type": "choropleth",
         "z": [
          0.1562227171417741,
          0.1329347387790569,
          0.1636560058757594,
          0.16081256729128493,
          0.11984764017786924,
          0.12576386234955292,
          0.10551152458961889,
          0.13879221516883844,
          0.09411480929550194,
          0.18304742779464211,
          0.14834719887102923,
          0.0510475042595183,
          0.14890767173047945,
          0.12182247716121083,
          0.13863899158084325,
          0.13672689202473173,
          0.13575328538351575,
          0.14265887908926003,
          0.1566807895463552,
          0.0606409365111765,
          0.08819520645441253,
          0.10976845901279841,
          0.1072090711941376,
          0.1254001650180552,
          0.15495511872120757,
          0.12224368250704751,
          0.13496613608147529,
          0.12092046801716887,
          0.1487154590796686,
          0.08395155858071836,
          0.12691234941816257,
          0.11386147725434391,
          0.12039181944536369,
          0.13355553963377634,
          0.18163562316228776,
          0.11253786900917019,
          0.15120794762998224,
          0.07734623648965216,
          0.10593784826005873,
          0.14388886464249323,
          0.16912813756108377,
          0.16757311077159445,
          0.16985067149522667,
          0.1514916648301037,
          0.1288276735750679,
          0.04808223861853437,
          0.09992853941747785,
          0.08839940744554842,
          0.11340827767336384,
          0.1324957323894507,
          0.14284955122039356
         ]
        }
       ],
       "layout": {
        "geo": {
         "scope": "usa"
        },
        "template": {
         "data": {
          "bar": [
           {
            "error_x": {
             "color": "#2a3f5f"
            },
            "error_y": {
             "color": "#2a3f5f"
            },
            "marker": {
             "line": {
              "color": "#E5ECF6",
              "width": 0.5
             },
             "pattern": {
              "fillmode": "overlay",
              "size": 10,
              "solidity": 0.2
             }
            },
            "type": "bar"
           }
          ],
          "barpolar": [
           {
            "marker": {
             "line": {
              "color": "#E5ECF6",
              "width": 0.5
             },
             "pattern": {
              "fillmode": "overlay",
              "size": 10,
              "solidity": 0.2
             }
            },
            "type": "barpolar"
           }
          ],
          "carpet": [
           {
            "aaxis": {
             "endlinecolor": "#2a3f5f",
             "gridcolor": "white",
             "linecolor": "white",
             "minorgridcolor": "white",
             "startlinecolor": "#2a3f5f"
            },
            "baxis": {
             "endlinecolor": "#2a3f5f",
             "gridcolor": "white",
             "linecolor": "white",
             "minorgridcolor": "white",
             "startlinecolor": "#2a3f5f"
            },
            "type": "carpet"
           }
          ],
          "choropleth": [
           {
            "colorbar": {
             "outlinewidth": 0,
             "ticks": ""
            },
            "type": "choropleth"
           }
          ],
          "contour": [
           {
            "colorbar": {
             "outlinewidth": 0,
             "ticks": ""
            },
            "colorscale": [
             [
              0,
              "#0d0887"
             ],
             [
              0.1111111111111111,
              "#46039f"
             ],
             [
              0.2222222222222222,
              "#7201a8"
             ],
             [
              0.3333333333333333,
              "#9c179e"
             ],
             [
              0.4444444444444444,
              "#bd3786"
             ],
             [
              0.5555555555555556,
              "#d8576b"
             ],
             [
              0.6666666666666666,
              "#ed7953"
             ],
             [
              0.7777777777777778,
              "#fb9f3a"
             ],
             [
              0.8888888888888888,
              "#fdca26"
             ],
             [
              1,
              "#f0f921"
             ]
            ],
            "type": "contour"
           }
          ],
          "contourcarpet": [
           {
            "colorbar": {
             "outlinewidth": 0,
             "ticks": ""
            },
            "type": "contourcarpet"
           }
          ],
          "heatmap": [
           {
            "colorbar": {
             "outlinewidth": 0,
             "ticks": ""
            },
            "colorscale": [
             [
              0,
              "#0d0887"
             ],
             [
              0.1111111111111111,
              "#46039f"
             ],
             [
              0.2222222222222222,
              "#7201a8"
             ],
             [
              0.3333333333333333,
              "#9c179e"
             ],
             [
              0.4444444444444444,
              "#bd3786"
             ],
             [
              0.5555555555555556,
              "#d8576b"
             ],
             [
              0.6666666666666666,
              "#ed7953"
             ],
             [
              0.7777777777777778,
              "#fb9f3a"
             ],
             [
              0.8888888888888888,
              "#fdca26"
             ],
             [
              1,
              "#f0f921"
             ]
            ],
            "type": "heatmap"
           }
          ],
          "heatmapgl": [
           {
            "colorbar": {
             "outlinewidth": 0,
             "ticks": ""
            },
            "colorscale": [
             [
              0,
              "#0d0887"
             ],
             [
              0.1111111111111111,
              "#46039f"
             ],
             [
              0.2222222222222222,
              "#7201a8"
             ],
             [
              0.3333333333333333,
              "#9c179e"
             ],
             [
              0.4444444444444444,
              "#bd3786"
             ],
             [
              0.5555555555555556,
              "#d8576b"
             ],
             [
              0.6666666666666666,
              "#ed7953"
             ],
             [
              0.7777777777777778,
              "#fb9f3a"
             ],
             [
              0.8888888888888888,
              "#fdca26"
             ],
             [
              1,
              "#f0f921"
             ]
            ],
            "type": "heatmapgl"
           }
          ],
          "histogram": [
           {
            "marker": {
             "pattern": {
              "fillmode": "overlay",
              "size": 10,
              "solidity": 0.2
             }
            },
            "type": "histogram"
           }
          ],
          "histogram2d": [
           {
            "colorbar": {
             "outlinewidth": 0,
             "ticks": ""
            },
            "colorscale": [
             [
              0,
              "#0d0887"
             ],
             [
              0.1111111111111111,
              "#46039f"
             ],
             [
              0.2222222222222222,
              "#7201a8"
             ],
             [
              0.3333333333333333,
              "#9c179e"
             ],
             [
              0.4444444444444444,
              "#bd3786"
             ],
             [
              0.5555555555555556,
              "#d8576b"
             ],
             [
              0.6666666666666666,
              "#ed7953"
             ],
             [
              0.7777777777777778,
              "#fb9f3a"
             ],
             [
              0.8888888888888888,
              "#fdca26"
             ],
             [
              1,
              "#f0f921"
             ]
            ],
            "type": "histogram2d"
           }
          ],
          "histogram2dcontour": [
           {
            "colorbar": {
             "outlinewidth": 0,
             "ticks": ""
            },
            "colorscale": [
             [
              0,
              "#0d0887"
             ],
             [
              0.1111111111111111,
              "#46039f"
             ],
             [
              0.2222222222222222,
              "#7201a8"
             ],
             [
              0.3333333333333333,
              "#9c179e"
             ],
             [
              0.4444444444444444,
              "#bd3786"
             ],
             [
              0.5555555555555556,
              "#d8576b"
             ],
             [
              0.6666666666666666,
              "#ed7953"
             ],
             [
              0.7777777777777778,
              "#fb9f3a"
             ],
             [
              0.8888888888888888,
              "#fdca26"
             ],
             [
              1,
              "#f0f921"
             ]
            ],
            "type": "histogram2dcontour"
           }
          ],
          "mesh3d": [
           {
            "colorbar": {
             "outlinewidth": 0,
             "ticks": ""
            },
            "type": "mesh3d"
           }
          ],
          "parcoords": [
           {
            "line": {
             "colorbar": {
              "outlinewidth": 0,
              "ticks": ""
             }
            },
            "type": "parcoords"
           }
          ],
          "pie": [
           {
            "automargin": true,
            "type": "pie"
           }
          ],
          "scatter": [
           {
            "fillpattern": {
             "fillmode": "overlay",
             "size": 10,
             "solidity": 0.2
            },
            "type": "scatter"
           }
          ],
          "scatter3d": [
           {
            "line": {
             "colorbar": {
              "outlinewidth": 0,
              "ticks": ""
             }
            },
            "marker": {
             "colorbar": {
              "outlinewidth": 0,
              "ticks": ""
             }
            },
            "type": "scatter3d"
           }
          ],
          "scattercarpet": [
           {
            "marker": {
             "colorbar": {
              "outlinewidth": 0,
              "ticks": ""
             }
            },
            "type": "scattercarpet"
           }
          ],
          "scattergeo": [
           {
            "marker": {
             "colorbar": {
              "outlinewidth": 0,
              "ticks": ""
             }
            },
            "type": "scattergeo"
           }
          ],
          "scattergl": [
           {
            "marker": {
             "colorbar": {
              "outlinewidth": 0,
              "ticks": ""
             }
            },
            "type": "scattergl"
           }
          ],
          "scattermapbox": [
           {
            "marker": {
             "colorbar": {
              "outlinewidth": 0,
              "ticks": ""
             }
            },
            "type": "scattermapbox"
           }
          ],
          "scatterpolar": [
           {
            "marker": {
             "colorbar": {
              "outlinewidth": 0,
              "ticks": ""
             }
            },
            "type": "scatterpolar"
           }
          ],
          "scatterpolargl": [
           {
            "marker": {
             "colorbar": {
              "outlinewidth": 0,
              "ticks": ""
             }
            },
            "type": "scatterpolargl"
           }
          ],
          "scatterternary": [
           {
            "marker": {
             "colorbar": {
              "outlinewidth": 0,
              "ticks": ""
             }
            },
            "type": "scatterternary"
           }
          ],
          "surface": [
           {
            "colorbar": {
             "outlinewidth": 0,
             "ticks": ""
            },
            "colorscale": [
             [
              0,
              "#0d0887"
             ],
             [
              0.1111111111111111,
              "#46039f"
             ],
             [
              0.2222222222222222,
              "#7201a8"
             ],
             [
              0.3333333333333333,
              "#9c179e"
             ],
             [
              0.4444444444444444,
              "#bd3786"
             ],
             [
              0.5555555555555556,
              "#d8576b"
             ],
             [
              0.6666666666666666,
              "#ed7953"
             ],
             [
              0.7777777777777778,
              "#fb9f3a"
             ],
             [
              0.8888888888888888,
              "#fdca26"
             ],
             [
              1,
              "#f0f921"
             ]
            ],
            "type": "surface"
           }
          ],
          "table": [
           {
            "cells": {
             "fill": {
              "color": "#EBF0F8"
             },
             "line": {
              "color": "white"
             }
            },
            "header": {
             "fill": {
              "color": "#C8D4E3"
             },
             "line": {
              "color": "white"
             }
            },
            "type": "table"
           }
          ]
         },
         "layout": {
          "annotationdefaults": {
           "arrowcolor": "#2a3f5f",
           "arrowhead": 0,
           "arrowwidth": 1
          },
          "autotypenumbers": "strict",
          "coloraxis": {
           "colorbar": {
            "outlinewidth": 0,
            "ticks": ""
           }
          },
          "colorscale": {
           "diverging": [
            [
             0,
             "#8e0152"
            ],
            [
             0.1,
             "#c51b7d"
            ],
            [
             0.2,
             "#de77ae"
            ],
            [
             0.3,
             "#f1b6da"
            ],
            [
             0.4,
             "#fde0ef"
            ],
            [
             0.5,
             "#f7f7f7"
            ],
            [
             0.6,
             "#e6f5d0"
            ],
            [
             0.7,
             "#b8e186"
            ],
            [
             0.8,
             "#7fbc41"
            ],
            [
             0.9,
             "#4d9221"
            ],
            [
             1,
             "#276419"
            ]
           ],
           "sequential": [
            [
             0,
             "#0d0887"
            ],
            [
             0.1111111111111111,
             "#46039f"
            ],
            [
             0.2222222222222222,
             "#7201a8"
            ],
            [
             0.3333333333333333,
             "#9c179e"
            ],
            [
             0.4444444444444444,
             "#bd3786"
            ],
            [
             0.5555555555555556,
             "#d8576b"
            ],
            [
             0.6666666666666666,
             "#ed7953"
            ],
            [
             0.7777777777777778,
             "#fb9f3a"
            ],
            [
             0.8888888888888888,
             "#fdca26"
            ],
            [
             1,
             "#f0f921"
            ]
           ],
           "sequentialminus": [
            [
             0,
             "#0d0887"
            ],
            [
             0.1111111111111111,
             "#46039f"
            ],
            [
             0.2222222222222222,
             "#7201a8"
            ],
            [
             0.3333333333333333,
             "#9c179e"
            ],
            [
             0.4444444444444444,
             "#bd3786"
            ],
            [
             0.5555555555555556,
             "#d8576b"
            ],
            [
             0.6666666666666666,
             "#ed7953"
            ],
            [
             0.7777777777777778,
             "#fb9f3a"
            ],
            [
             0.8888888888888888,
             "#fdca26"
            ],
            [
             1,
             "#f0f921"
            ]
           ]
          },
          "colorway": [
           "#636efa",
           "#EF553B",
           "#00cc96",
           "#ab63fa",
           "#FFA15A",
           "#19d3f3",
           "#FF6692",
           "#B6E880",
           "#FF97FF",
           "#FECB52"
          ],
          "font": {
           "color": "#2a3f5f"
          },
          "geo": {
           "bgcolor": "white",
           "lakecolor": "white",
           "landcolor": "#E5ECF6",
           "showlakes": true,
           "showland": true,
           "subunitcolor": "white"
          },
          "hoverlabel": {
           "align": "left"
          },
          "hovermode": "closest",
          "mapbox": {
           "style": "light"
          },
          "paper_bgcolor": "white",
          "plot_bgcolor": "#E5ECF6",
          "polar": {
           "angularaxis": {
            "gridcolor": "white",
            "linecolor": "white",
            "ticks": ""
           },
           "bgcolor": "#E5ECF6",
           "radialaxis": {
            "gridcolor": "white",
            "linecolor": "white",
            "ticks": ""
           }
          },
          "scene": {
           "xaxis": {
            "backgroundcolor": "#E5ECF6",
            "gridcolor": "white",
            "gridwidth": 2,
            "linecolor": "white",
            "showbackground": true,
            "ticks": "",
            "zerolinecolor": "white"
           },
           "yaxis": {
            "backgroundcolor": "#E5ECF6",
            "gridcolor": "white",
            "gridwidth": 2,
            "linecolor": "white",
            "showbackground": true,
            "ticks": "",
            "zerolinecolor": "white"
           },
           "zaxis": {
            "backgroundcolor": "#E5ECF6",
            "gridcolor": "white",
            "gridwidth": 2,
            "linecolor": "white",
            "showbackground": true,
            "ticks": "",
            "zerolinecolor": "white"
           }
          },
          "shapedefaults": {
           "line": {
            "color": "#2a3f5f"
           }
          },
          "ternary": {
           "aaxis": {
            "gridcolor": "white",
            "linecolor": "white",
            "ticks": ""
           },
           "baxis": {
            "gridcolor": "white",
            "linecolor": "white",
            "ticks": ""
           },
           "bgcolor": "#E5ECF6",
           "caxis": {
            "gridcolor": "white",
            "linecolor": "white",
            "ticks": ""
           }
          },
          "title": {
           "x": 0.05
          },
          "xaxis": {
           "automargin": true,
           "gridcolor": "white",
           "linecolor": "white",
           "ticks": "",
           "title": {
            "standoff": 15
           },
           "zerolinecolor": "white",
           "zerolinewidth": 2
          },
          "yaxis": {
           "automargin": true,
           "gridcolor": "white",
           "linecolor": "white",
           "ticks": "",
           "title": {
            "standoff": 15
           },
           "zerolinecolor": "white",
           "zerolinewidth": 2
          }
         }
        },
        "title": {
         "text": "most recent COVID cases per capita in the U.S."
        }
       }
      }
     },
     "metadata": {},
     "output_type": "display_data"
    },
    {
     "data": {
      "application/vnd.plotly.v1+json": {
       "config": {
        "plotlyServerURL": "https://plot.ly"
       },
       "data": [
        {
         "colorbar": {
          "title": {
           "text": "mask-use frequency per capita"
          }
         },
         "colorscale": [
          [
           0,
           "rgb(247,251,255)"
          ],
          [
           0.125,
           "rgb(222,235,247)"
          ],
          [
           0.25,
           "rgb(198,219,239)"
          ],
          [
           0.375,
           "rgb(158,202,225)"
          ],
          [
           0.5,
           "rgb(107,174,214)"
          ],
          [
           0.625,
           "rgb(66,146,198)"
          ],
          [
           0.75,
           "rgb(33,113,181)"
          ],
          [
           0.875,
           "rgb(8,81,156)"
          ],
          [
           1,
           "rgb(8,48,107)"
          ]
         ],
         "locationmode": "USA-states",
         "locations": [
          "AL",
          "AK",
          "AZ",
          "AR",
          "CA",
          "CO",
          "CT",
          "DE",
          null,
          "FL",
          "GA",
          "HI",
          "ID",
          "IL",
          "IN",
          "IA",
          "KS",
          "KY",
          "LA",
          "ME",
          "MD",
          "MA",
          "MI",
          "MN",
          "MS",
          "MO",
          "MT",
          "NE",
          "NV",
          "NH",
          "NJ",
          "NM",
          "NY",
          "NC",
          "ND",
          "OH",
          "OK",
          "OR",
          "PA",
          "RI",
          "SC",
          "SD",
          "TN",
          "TX",
          "UT",
          "VT",
          "VA",
          "WA",
          "WV",
          "WI",
          "WY"
         ],
         "type": "choropleth",
         "z": [
          0.3092686567164179,
          0.21057142857142858,
          0.19753333333333334,
          0.31653333333333333,
          0.1267241379310345,
          0.208359375,
          0.094125,
          0.08666666666666667,
          0.094,
          0.22311940298507463,
          0.28785534591194967,
          0.0684,
          0.39334090909090913,
          0.2704607843137255,
          0.31295652173913047,
          0.38907070707070707,
          0.3849428571428571,
          0.30055000000000004,
          0.2691875,
          0.2065,
          0.09537499999999999,
          0.07142857142857142,
          0.20634939759036144,
          0.3812298850574713,
          0.27184146341463417,
          0.41287826086956525,
          0.4673392857142857,
          0.38726881720430106,
          0.17788235294117646,
          0.1862,
          0.09357142857142857,
          0.17042424242424242,
          0.09467741935483871,
          0.19837,
          0.49092452830188676,
          0.34343181818181817,
          0.3877922077922078,
          0.17127777777777778,
          0.15747761194029852,
          0.0618,
          0.27695652173913043,
          0.4200606060606061,
          0.3633578947368421,
          0.20875984251968505,
          0.30831034482758624,
          0.20242857142857143,
          0.1843233082706767,
          0.14743589743589744,
          0.29919999999999997,
          0.3342361111111111,
          0.4316086956521739
         ]
        }
       ],
       "layout": {
        "geo": {
         "scope": "usa"
        },
        "template": {
         "data": {
          "bar": [
           {
            "error_x": {
             "color": "#2a3f5f"
            },
            "error_y": {
             "color": "#2a3f5f"
            },
            "marker": {
             "line": {
              "color": "#E5ECF6",
              "width": 0.5
             },
             "pattern": {
              "fillmode": "overlay",
              "size": 10,
              "solidity": 0.2
             }
            },
            "type": "bar"
           }
          ],
          "barpolar": [
           {
            "marker": {
             "line": {
              "color": "#E5ECF6",
              "width": 0.5
             },
             "pattern": {
              "fillmode": "overlay",
              "size": 10,
              "solidity": 0.2
             }
            },
            "type": "barpolar"
           }
          ],
          "carpet": [
           {
            "aaxis": {
             "endlinecolor": "#2a3f5f",
             "gridcolor": "white",
             "linecolor": "white",
             "minorgridcolor": "white",
             "startlinecolor": "#2a3f5f"
            },
            "baxis": {
             "endlinecolor": "#2a3f5f",
             "gridcolor": "white",
             "linecolor": "white",
             "minorgridcolor": "white",
             "startlinecolor": "#2a3f5f"
            },
            "type": "carpet"
           }
          ],
          "choropleth": [
           {
            "colorbar": {
             "outlinewidth": 0,
             "ticks": ""
            },
            "type": "choropleth"
           }
          ],
          "contour": [
           {
            "colorbar": {
             "outlinewidth": 0,
             "ticks": ""
            },
            "colorscale": [
             [
              0,
              "#0d0887"
             ],
             [
              0.1111111111111111,
              "#46039f"
             ],
             [
              0.2222222222222222,
              "#7201a8"
             ],
             [
              0.3333333333333333,
              "#9c179e"
             ],
             [
              0.4444444444444444,
              "#bd3786"
             ],
             [
              0.5555555555555556,
              "#d8576b"
             ],
             [
              0.6666666666666666,
              "#ed7953"
             ],
             [
              0.7777777777777778,
              "#fb9f3a"
             ],
             [
              0.8888888888888888,
              "#fdca26"
             ],
             [
              1,
              "#f0f921"
             ]
            ],
            "type": "contour"
           }
          ],
          "contourcarpet": [
           {
            "colorbar": {
             "outlinewidth": 0,
             "ticks": ""
            },
            "type": "contourcarpet"
           }
          ],
          "heatmap": [
           {
            "colorbar": {
             "outlinewidth": 0,
             "ticks": ""
            },
            "colorscale": [
             [
              0,
              "#0d0887"
             ],
             [
              0.1111111111111111,
              "#46039f"
             ],
             [
              0.2222222222222222,
              "#7201a8"
             ],
             [
              0.3333333333333333,
              "#9c179e"
             ],
             [
              0.4444444444444444,
              "#bd3786"
             ],
             [
              0.5555555555555556,
              "#d8576b"
             ],
             [
              0.6666666666666666,
              "#ed7953"
             ],
             [
              0.7777777777777778,
              "#fb9f3a"
             ],
             [
              0.8888888888888888,
              "#fdca26"
             ],
             [
              1,
              "#f0f921"
             ]
            ],
            "type": "heatmap"
           }
          ],
          "heatmapgl": [
           {
            "colorbar": {
             "outlinewidth": 0,
             "ticks": ""
            },
            "colorscale": [
             [
              0,
              "#0d0887"
             ],
             [
              0.1111111111111111,
              "#46039f"
             ],
             [
              0.2222222222222222,
              "#7201a8"
             ],
             [
              0.3333333333333333,
              "#9c179e"
             ],
             [
              0.4444444444444444,
              "#bd3786"
             ],
             [
              0.5555555555555556,
              "#d8576b"
             ],
             [
              0.6666666666666666,
              "#ed7953"
             ],
             [
              0.7777777777777778,
              "#fb9f3a"
             ],
             [
              0.8888888888888888,
              "#fdca26"
             ],
             [
              1,
              "#f0f921"
             ]
            ],
            "type": "heatmapgl"
           }
          ],
          "histogram": [
           {
            "marker": {
             "pattern": {
              "fillmode": "overlay",
              "size": 10,
              "solidity": 0.2
             }
            },
            "type": "histogram"
           }
          ],
          "histogram2d": [
           {
            "colorbar": {
             "outlinewidth": 0,
             "ticks": ""
            },
            "colorscale": [
             [
              0,
              "#0d0887"
             ],
             [
              0.1111111111111111,
              "#46039f"
             ],
             [
              0.2222222222222222,
              "#7201a8"
             ],
             [
              0.3333333333333333,
              "#9c179e"
             ],
             [
              0.4444444444444444,
              "#bd3786"
             ],
             [
              0.5555555555555556,
              "#d8576b"
             ],
             [
              0.6666666666666666,
              "#ed7953"
             ],
             [
              0.7777777777777778,
              "#fb9f3a"
             ],
             [
              0.8888888888888888,
              "#fdca26"
             ],
             [
              1,
              "#f0f921"
             ]
            ],
            "type": "histogram2d"
           }
          ],
          "histogram2dcontour": [
           {
            "colorbar": {
             "outlinewidth": 0,
             "ticks": ""
            },
            "colorscale": [
             [
              0,
              "#0d0887"
             ],
             [
              0.1111111111111111,
              "#46039f"
             ],
             [
              0.2222222222222222,
              "#7201a8"
             ],
             [
              0.3333333333333333,
              "#9c179e"
             ],
             [
              0.4444444444444444,
              "#bd3786"
             ],
             [
              0.5555555555555556,
              "#d8576b"
             ],
             [
              0.6666666666666666,
              "#ed7953"
             ],
             [
              0.7777777777777778,
              "#fb9f3a"
             ],
             [
              0.8888888888888888,
              "#fdca26"
             ],
             [
              1,
              "#f0f921"
             ]
            ],
            "type": "histogram2dcontour"
           }
          ],
          "mesh3d": [
           {
            "colorbar": {
             "outlinewidth": 0,
             "ticks": ""
            },
            "type": "mesh3d"
           }
          ],
          "parcoords": [
           {
            "line": {
             "colorbar": {
              "outlinewidth": 0,
              "ticks": ""
             }
            },
            "type": "parcoords"
           }
          ],
          "pie": [
           {
            "automargin": true,
            "type": "pie"
           }
          ],
          "scatter": [
           {
            "fillpattern": {
             "fillmode": "overlay",
             "size": 10,
             "solidity": 0.2
            },
            "type": "scatter"
           }
          ],
          "scatter3d": [
           {
            "line": {
             "colorbar": {
              "outlinewidth": 0,
              "ticks": ""
             }
            },
            "marker": {
             "colorbar": {
              "outlinewidth": 0,
              "ticks": ""
             }
            },
            "type": "scatter3d"
           }
          ],
          "scattercarpet": [
           {
            "marker": {
             "colorbar": {
              "outlinewidth": 0,
              "ticks": ""
             }
            },
            "type": "scattercarpet"
           }
          ],
          "scattergeo": [
           {
            "marker": {
             "colorbar": {
              "outlinewidth": 0,
              "ticks": ""
             }
            },
            "type": "scattergeo"
           }
          ],
          "scattergl": [
           {
            "marker": {
             "colorbar": {
              "outlinewidth": 0,
              "ticks": ""
             }
            },
            "type": "scattergl"
           }
          ],
          "scattermapbox": [
           {
            "marker": {
             "colorbar": {
              "outlinewidth": 0,
              "ticks": ""
             }
            },
            "type": "scattermapbox"
           }
          ],
          "scatterpolar": [
           {
            "marker": {
             "colorbar": {
              "outlinewidth": 0,
              "ticks": ""
             }
            },
            "type": "scatterpolar"
           }
          ],
          "scatterpolargl": [
           {
            "marker": {
             "colorbar": {
              "outlinewidth": 0,
              "ticks": ""
             }
            },
            "type": "scatterpolargl"
           }
          ],
          "scatterternary": [
           {
            "marker": {
             "colorbar": {
              "outlinewidth": 0,
              "ticks": ""
             }
            },
            "type": "scatterternary"
           }
          ],
          "surface": [
           {
            "colorbar": {
             "outlinewidth": 0,
             "ticks": ""
            },
            "colorscale": [
             [
              0,
              "#0d0887"
             ],
             [
              0.1111111111111111,
              "#46039f"
             ],
             [
              0.2222222222222222,
              "#7201a8"
             ],
             [
              0.3333333333333333,
              "#9c179e"
             ],
             [
              0.4444444444444444,
              "#bd3786"
             ],
             [
              0.5555555555555556,
              "#d8576b"
             ],
             [
              0.6666666666666666,
              "#ed7953"
             ],
             [
              0.7777777777777778,
              "#fb9f3a"
             ],
             [
              0.8888888888888888,
              "#fdca26"
             ],
             [
              1,
              "#f0f921"
             ]
            ],
            "type": "surface"
           }
          ],
          "table": [
           {
            "cells": {
             "fill": {
              "color": "#EBF0F8"
             },
             "line": {
              "color": "white"
             }
            },
            "header": {
             "fill": {
              "color": "#C8D4E3"
             },
             "line": {
              "color": "white"
             }
            },
            "type": "table"
           }
          ]
         },
         "layout": {
          "annotationdefaults": {
           "arrowcolor": "#2a3f5f",
           "arrowhead": 0,
           "arrowwidth": 1
          },
          "autotypenumbers": "strict",
          "coloraxis": {
           "colorbar": {
            "outlinewidth": 0,
            "ticks": ""
           }
          },
          "colorscale": {
           "diverging": [
            [
             0,
             "#8e0152"
            ],
            [
             0.1,
             "#c51b7d"
            ],
            [
             0.2,
             "#de77ae"
            ],
            [
             0.3,
             "#f1b6da"
            ],
            [
             0.4,
             "#fde0ef"
            ],
            [
             0.5,
             "#f7f7f7"
            ],
            [
             0.6,
             "#e6f5d0"
            ],
            [
             0.7,
             "#b8e186"
            ],
            [
             0.8,
             "#7fbc41"
            ],
            [
             0.9,
             "#4d9221"
            ],
            [
             1,
             "#276419"
            ]
           ],
           "sequential": [
            [
             0,
             "#0d0887"
            ],
            [
             0.1111111111111111,
             "#46039f"
            ],
            [
             0.2222222222222222,
             "#7201a8"
            ],
            [
             0.3333333333333333,
             "#9c179e"
            ],
            [
             0.4444444444444444,
             "#bd3786"
            ],
            [
             0.5555555555555556,
             "#d8576b"
            ],
            [
             0.6666666666666666,
             "#ed7953"
            ],
            [
             0.7777777777777778,
             "#fb9f3a"
            ],
            [
             0.8888888888888888,
             "#fdca26"
            ],
            [
             1,
             "#f0f921"
            ]
           ],
           "sequentialminus": [
            [
             0,
             "#0d0887"
            ],
            [
             0.1111111111111111,
             "#46039f"
            ],
            [
             0.2222222222222222,
             "#7201a8"
            ],
            [
             0.3333333333333333,
             "#9c179e"
            ],
            [
             0.4444444444444444,
             "#bd3786"
            ],
            [
             0.5555555555555556,
             "#d8576b"
            ],
            [
             0.6666666666666666,
             "#ed7953"
            ],
            [
             0.7777777777777778,
             "#fb9f3a"
            ],
            [
             0.8888888888888888,
             "#fdca26"
            ],
            [
             1,
             "#f0f921"
            ]
           ]
          },
          "colorway": [
           "#636efa",
           "#EF553B",
           "#00cc96",
           "#ab63fa",
           "#FFA15A",
           "#19d3f3",
           "#FF6692",
           "#B6E880",
           "#FF97FF",
           "#FECB52"
          ],
          "font": {
           "color": "#2a3f5f"
          },
          "geo": {
           "bgcolor": "white",
           "lakecolor": "white",
           "landcolor": "#E5ECF6",
           "showlakes": true,
           "showland": true,
           "subunitcolor": "white"
          },
          "hoverlabel": {
           "align": "left"
          },
          "hovermode": "closest",
          "mapbox": {
           "style": "light"
          },
          "paper_bgcolor": "white",
          "plot_bgcolor": "#E5ECF6",
          "polar": {
           "angularaxis": {
            "gridcolor": "white",
            "linecolor": "white",
            "ticks": ""
           },
           "bgcolor": "#E5ECF6",
           "radialaxis": {
            "gridcolor": "white",
            "linecolor": "white",
            "ticks": ""
           }
          },
          "scene": {
           "xaxis": {
            "backgroundcolor": "#E5ECF6",
            "gridcolor": "white",
            "gridwidth": 2,
            "linecolor": "white",
            "showbackground": true,
            "ticks": "",
            "zerolinecolor": "white"
           },
           "yaxis": {
            "backgroundcolor": "#E5ECF6",
            "gridcolor": "white",
            "gridwidth": 2,
            "linecolor": "white",
            "showbackground": true,
            "ticks": "",
            "zerolinecolor": "white"
           },
           "zaxis": {
            "backgroundcolor": "#E5ECF6",
            "gridcolor": "white",
            "gridwidth": 2,
            "linecolor": "white",
            "showbackground": true,
            "ticks": "",
            "zerolinecolor": "white"
           }
          },
          "shapedefaults": {
           "line": {
            "color": "#2a3f5f"
           }
          },
          "ternary": {
           "aaxis": {
            "gridcolor": "white",
            "linecolor": "white",
            "ticks": ""
           },
           "baxis": {
            "gridcolor": "white",
            "linecolor": "white",
            "ticks": ""
           },
           "bgcolor": "#E5ECF6",
           "caxis": {
            "gridcolor": "white",
            "linecolor": "white",
            "ticks": ""
           }
          },
          "title": {
           "x": 0.05
          },
          "xaxis": {
           "automargin": true,
           "gridcolor": "white",
           "linecolor": "white",
           "ticks": "",
           "title": {
            "standoff": 15
           },
           "zerolinecolor": "white",
           "zerolinewidth": 2
          },
          "yaxis": {
           "automargin": true,
           "gridcolor": "white",
           "linecolor": "white",
           "ticks": "",
           "title": {
            "standoff": 15
           },
           "zerolinecolor": "white",
           "zerolinewidth": 2
          }
         }
        },
        "title": {
         "text": "mask-use frequency per capita in the U.S."
        }
       }
      }
     },
     "metadata": {},
     "output_type": "display_data"
    }
   ],
   "source": [
    "import plotly.graph_objects as go\n",
    "\n",
    "# heatmap: x: locations (by states or by county), y: cases per capita, color: frequency\n",
    "\n",
    "states_total_pop = county_data.groupby('STNAME').sum().loc[:,'POPESTIMATE2010']\n",
    "\n",
    "most_recent_by_cases = county_data.groupby('STNAME').sum().loc[:,'9/12/21'] / states_total_pop\n",
    "most_recent_by_cases #series\n",
    "\n",
    "state_names = county_data['STNAME'].unique()\n",
    "state_names # array\n",
    "\n",
    "frequency_by_state_series = county_data.groupby(['STNAME','CTYNAME']).sum().loc[:,['NEVER','RARELY','SOMETIMES']].sum(axis = 1)\n",
    "frequency_by_state = frequency_by_state_series.to_frame().groupby('STNAME').mean().values.flatten()\n",
    "frequency_by_state\n",
    "\n",
    "d = {'most recent cases':most_recent_by_cases, 'frequency': frequency_by_state}\n",
    "\n",
    "df_2e = pd.DataFrame(d).reset_index()\n",
    "df_2e  \n",
    "\n",
    "\n",
    "# https://plotly.com/python/choropleth-maps/\n",
    "df = pd.read_csv('https://raw.githubusercontent.com/plotly/datasets/master/2011_us_ag_exports.csv')\n",
    "merged_2e = df_2e.merge(df, how = 'left', left_on= 'STNAME', right_on = 'state')\n",
    "\n",
    "# most recent cases\n",
    "fig_cases = go.Figure(data=go.Choropleth(\n",
    "    locations=merged_2e['code'], # Spatial coordinates\n",
    "    z = merged_2e['most recent cases'].astype(float), # Data to be color-coded\n",
    "    locationmode = 'USA-states', # set of locations match entries in `locations`\n",
    "    colorscale = 'Reds',\n",
    "    colorbar_title = \"most recent COVID cases per capita\",\n",
    "))\n",
    "\n",
    "fig_cases.update_layout(\n",
    "    title_text = 'most recent COVID cases per capita in the U.S.',\n",
    "    geo_scope='usa', # limite map scope to USA\n",
    ")\n",
    "\n",
    "fig_cases.show()\n",
    "\n",
    "\n",
    "\n",
    "# mask use frequency\n",
    "fig_mask = go.Figure(data=go.Choropleth(\n",
    "    locations=merged_2e['code'], # Spatial coordinates\n",
    "    z = merged_2e['frequency'].astype(float), # Data to be color-coded\n",
    "    locationmode = 'USA-states', # set of locations match entries in `locations`\n",
    "    colorscale = 'Blues',\n",
    "    colorbar_title = \"mask-use frequency per capita\",\n",
    "))\n",
    "\n",
    "fig_mask.update_layout(\n",
    "    title_text = 'mask-use frequency per capita in the U.S.',\n",
    "    geo_scope='usa', # limite map scope to USA\n",
    ")\n",
    "\n",
    "\n",
    "fig_mask.show()\n"
   ]
  },
  {
   "cell_type": "markdown",
   "id": "19076b32",
   "metadata": {
    "deletable": false,
    "editable": false
   },
   "source": [
    "<!-- END QUESTION -->\n",
    "\n",
    "<!-- BEGIN QUESTION -->\n",
    "\n",
    "### Question 2f\n",
    "\n",
    "Describe and interpret the relationships in the plots above. What conclusions can be drawn about the COVID-19 dataset from these plots?\n",
    "\n",
    "<!--\n",
    "BEGIN QUESTION\n",
    "name: q2f\n",
    "points: 3\n",
    "manual: True\n",
    "-->"
   ]
  },
  {
   "cell_type": "markdown",
   "id": "5ba3b47c",
   "metadata": {},
   "source": [
    "From the above first heatmap we can see that the states with the most COVID cases per capita are mostly concentrated in upper midwest (North Dakota) and south (especially around Florida, Tennessee, South Carolina, etc); from the second heatmap showing the mask use frequency, the states that don't like to use masks frequently (the darker region) also happens to concentrate on the upper midwest region and with North Dakota being the least likely to use a mask. \n",
    "\n",
    "From those two heatmaps we can draw a conclusion that the mask-usage frequency and the chances of getting COVID is inversely correlated: if you never/rarely use masks, you are more likely to get COVID."
   ]
  },
  {
   "cell_type": "markdown",
   "id": "bd8caca2",
   "metadata": {},
   "source": [
    "<!-- END QUESTION -->\n",
    "\n",
    "\n",
    "\n",
    "<br/><br/><br/>\n",
    "\n",
    "---\n",
    "\n",
    "<br/><br/><br/>\n",
    "\n",
    "## Guided Unsupervised Exploration with SVD and PCA\n"
   ]
  },
  {
   "cell_type": "markdown",
   "id": "39e706bb",
   "metadata": {
    "deletable": false,
    "editable": false
   },
   "source": [
    "<!-- BEGIN QUESTION -->\n",
    "\n",
    "### Question 3a\n",
    "\n",
    "Using **SVD**, decompose the standardized matrix $X$ that contains the standardized current proportion of fully vaccinated and partially vaccinated, cases per capita, and mask usage for every state as of the most recent day in the data.\n",
    "\n",
    "*Hint*: The matrix $X$ should have rows that describe location.\n",
    "\n",
    "<!--\n",
    "BEGIN QUESTION\n",
    "name: q3a\n",
    "points: 3\n",
    "manual: True\n",
    "-->"
   ]
  },
  {
   "cell_type": "code",
   "execution_count": 15,
   "id": "742ced3d",
   "metadata": {},
   "outputs": [
    {
     "data": {
      "text/plain": [
       "(array([[-9.81877371e-02, -2.26509150e-01,  2.03525935e-03,\n",
       "          7.38137329e-02,  1.14464112e-01,  1.55607414e-01,\n",
       "         -2.89096041e-02,  7.46873964e-02],\n",
       "        [-7.64204288e-02,  7.58530707e-02, -8.08512553e-03,\n",
       "          6.47506013e-01, -9.68382106e-02, -2.83074207e-01,\n",
       "         -1.92707852e-02,  9.30127196e-02],\n",
       "        [ 4.82039568e-02, -1.43447788e-01, -1.74445254e-01,\n",
       "         -1.17602738e-01,  1.38651830e-01,  1.44968512e-02,\n",
       "         -7.61849069e-02,  6.70676365e-02],\n",
       "        [-1.00749046e-01, -2.08765263e-01,  1.28548992e-02,\n",
       "          6.52046722e-02, -1.24956640e-02,  5.26540371e-02,\n",
       "         -2.12361482e-02, -2.54729217e-02],\n",
       "        [ 1.55973986e-01, -1.68048145e-01,  9.15612118e-02,\n",
       "          2.32263064e-02, -4.15604037e-02, -7.75771107e-02,\n",
       "         -3.00907864e-02,  4.90630763e-02],\n",
       "        [ 1.15912071e-02,  1.51096697e-01, -2.74296923e-02,\n",
       "          2.36996611e-01, -6.29774988e-02, -1.77824948e-02,\n",
       "         -2.56366311e-01, -1.15108981e-01],\n",
       "        [ 2.04182632e-01,  5.79530282e-02, -1.35201332e-01,\n",
       "         -1.27387745e-01, -1.03353722e-01, -4.83491128e-03,\n",
       "         -4.24098788e-02,  1.02237695e-02],\n",
       "        [ 1.92412493e-01, -1.44148777e-01, -2.27919781e-01,\n",
       "         -1.96255772e-01,  1.67700816e-01,  3.81313739e-02,\n",
       "          1.04169569e-01, -4.12763120e-02],\n",
       "        [ 2.18468735e-01,  8.09033734e-02,  1.16622658e-01,\n",
       "          5.97833135e-02, -1.83475450e-01,  1.65864956e-01,\n",
       "          6.90174702e-02, -7.84791947e-01],\n",
       "        [ 1.04175278e-02, -1.75229600e-01, -9.86918854e-02,\n",
       "          6.04870280e-02, -2.28705443e-01,  8.29550416e-02,\n",
       "         -1.30854156e-01,  3.97989395e-02],\n",
       "        [-5.76310539e-02, -1.48718315e-01,  1.61124016e-02,\n",
       "          2.34773031e-03,  1.61451697e-01,  3.29129783e-02,\n",
       "          5.81006446e-02,  2.26255313e-02],\n",
       "        [ 3.08277424e-01, -1.86436376e-01,  5.16602131e-01,\n",
       "         -7.50535287e-02,  8.90394470e-02, -1.08670709e-01,\n",
       "         -3.22176917e-03,  1.17688631e-01],\n",
       "        [-1.68709783e-01,  5.70813465e-02, -1.65297561e-02,\n",
       "         -1.05879789e-01,  2.08826363e-01, -5.14152898e-02,\n",
       "         -3.65970558e-01, -8.27979227e-02],\n",
       "        [-2.46266971e-03, -2.33711739e-01,  3.04200413e-01,\n",
       "          1.36568240e-01, -1.68759098e-01,  1.33578349e-01,\n",
       "         -4.26409431e-02,  8.97783423e-02],\n",
       "        [-1.14549128e-01,  1.08575505e-01, -1.51983906e-01,\n",
       "          6.95337312e-02,  7.86900134e-02, -6.07201937e-03,\n",
       "         -2.42601941e-02, -1.36201725e-01],\n",
       "        [-1.43305636e-01,  1.30366597e-01, -6.88773833e-02,\n",
       "         -1.20578482e-01, -1.01441292e-01,  2.69652371e-01,\n",
       "         -5.78763312e-02,  8.56914073e-02],\n",
       "        [-1.31214024e-01, -4.19197613e-02,  1.12110010e-01,\n",
       "         -7.60176217e-02, -1.06408821e-01,  7.10959702e-02,\n",
       "          8.04958457e-03,  5.29337589e-02],\n",
       "        [-6.17276171e-02, -7.03916076e-02, -8.06229034e-03,\n",
       "         -1.46135119e-03, -7.22870268e-02,  8.38475487e-02,\n",
       "          2.78909020e-02,  7.99144411e-02],\n",
       "        [-6.97572224e-02, -9.34411478e-02, -1.86666006e-01,\n",
       "          3.10309332e-02,  8.82142428e-02, -7.25380364e-02,\n",
       "          8.78382913e-02, -7.76270050e-02],\n",
       "        [ 8.68694370e-02,  3.29816403e-01,  1.09858838e-01,\n",
       "          2.43768306e-02,  2.27973262e-03,  1.58121030e-01,\n",
       "          1.15175893e-01, -3.07608233e-04],\n",
       "        [ 1.77911449e-01,  1.50348768e-01, -7.84798640e-02,\n",
       "          1.34004756e-02,  1.00854024e-01, -8.83583617e-02,\n",
       "          1.45088020e-01,  2.77449931e-02],\n",
       "        [ 2.25737319e-01, -1.58012634e-02, -6.37160974e-02,\n",
       "         -6.86166003e-02, -9.29269566e-02, -1.10403477e-01,\n",
       "          7.53499775e-02,  1.32004518e-01],\n",
       "        [ 7.24328005e-03,  1.44530247e-01, -1.20579891e-01,\n",
       "          1.38054929e-01,  2.04277977e-01,  9.16215815e-03,\n",
       "         -3.39469871e-02, -6.96402205e-02],\n",
       "        [-1.31606844e-01,  1.77683855e-01,  6.21322634e-02,\n",
       "         -4.81341879e-03, -1.98388842e-01,  1.61700191e-01,\n",
       "         -1.07523835e-01,  1.88930505e-01],\n",
       "        [-7.09869476e-02, -1.19539841e-01, -1.81082529e-01,\n",
       "          1.73597414e-02,  1.36657789e-01, -1.54919102e-02,\n",
       "         -2.08953341e-01, -3.87276570e-02],\n",
       "        [-1.53586155e-01,  3.89651266e-02,  1.04877976e-01,\n",
       "         -1.75251154e-01,  6.04334984e-02,  6.01694144e-03,\n",
       "          1.50898532e-01,  5.12399631e-02],\n",
       "        [-2.01861906e-01,  8.50907891e-02,  1.22715281e-01,\n",
       "         -2.68358014e-01, -1.40569131e-02, -2.09419426e-01,\n",
       "         -1.79385068e-01, -4.70322312e-02],\n",
       "        [-1.56286720e-01,  1.98768424e-01,  6.32153340e-02,\n",
       "          4.64667819e-02, -1.21930169e-01, -1.43835780e-02,\n",
       "          1.91264936e-01,  1.26218873e-02],\n",
       "        [ 4.62060177e-02, -1.40784057e-01, -4.72837304e-02,\n",
       "          1.42855757e-01,  1.71272739e-01,  1.51930295e-01,\n",
       "         -1.18929849e-01, -1.06558908e-01],\n",
       "        [ 9.24028241e-02,  1.41069178e-01,  8.55361141e-02,\n",
       "          2.22874363e-03,  7.71964299e-02, -1.27512040e-01,\n",
       "          1.02057352e-01, -7.93436594e-02],\n",
       "        [ 1.69051998e-01, -2.12579198e-02, -1.58169982e-01,\n",
       "          1.79383505e-02, -1.71217480e-01, -1.27776023e-01,\n",
       "         -2.35365034e-02,  5.68846611e-02],\n",
       "        [ 1.14649600e-01, -1.93308176e-02,  5.57388116e-03,\n",
       "         -6.19500429e-02, -8.56858654e-02, -8.80125896e-03,\n",
       "         -7.73581557e-02, -8.61834561e-02],\n",
       "        [ 1.78716783e-01, -1.23651272e-02, -1.85406235e-01,\n",
       "         -8.21840079e-02, -5.91075140e-02, -1.07570875e-01,\n",
       "         -1.71497287e-02,  6.21361789e-02],\n",
       "        [ 3.75112941e-02, -8.79239558e-02,  2.09252408e-03,\n",
       "          1.02040770e-01,  9.76342054e-02,  9.29693543e-03,\n",
       "          1.05053503e-01,  2.27797831e-04],\n",
       "        [-2.70295375e-01, -4.27718466e-02,  5.81384315e-02,\n",
       "         -1.35662236e-01, -1.91251806e-01, -3.72736728e-01,\n",
       "          1.22902925e-01, -5.48434607e-02],\n",
       "        [-1.07806801e-01,  1.66201923e-01, -4.79956604e-02,\n",
       "         -4.78841637e-02,  1.40490157e-01,  1.89691929e-01,\n",
       "          4.65774239e-02,  6.45259728e-02],\n",
       "        [-1.52343275e-01, -9.52650759e-02,  8.09092705e-02,\n",
       "         -1.70645574e-02, -3.75190981e-02,  2.03792992e-01,\n",
       "         -2.21823499e-01,  8.85911516e-02],\n",
       "        [ 9.82910248e-02,  2.26740452e-01,  2.37142279e-02,\n",
       "          3.46416351e-02,  2.15325390e-01,  5.17942085e-02,\n",
       "          7.72205103e-02,  1.33644350e-01],\n",
       "        [ 1.29216446e-01, -2.06913299e-01,  2.17386095e-01,\n",
       "          6.63709819e-02,  2.55223846e-02,  6.87156589e-02,\n",
       "         -1.28787340e-02, -2.24274753e-02],\n",
       "        [ 2.11636757e-01, -1.07085656e-02, -2.95329501e-01,\n",
       "         -5.00053745e-02, -4.17430034e-01, -9.08423184e-02,\n",
       "         -8.28775853e-02,  1.60326982e-01],\n",
       "        [-5.38302132e-02, -1.42941960e-01, -1.13770490e-01,\n",
       "         -5.48288958e-02,  5.42674948e-02, -1.24815131e-01,\n",
       "          2.42958675e-01, -1.01529069e-01],\n",
       "        [-1.74975965e-01, -5.72868415e-02,  8.90836179e-03,\n",
       "         -1.29598386e-01, -2.43089227e-01,  1.21795304e-01,\n",
       "          4.43798942e-01, -1.04088478e-02],\n",
       "        [-1.41283939e-01, -1.15108963e-01, -7.32452272e-02,\n",
       "         -7.05297548e-02, -1.96327841e-02,  9.42118414e-02,\n",
       "          6.36745237e-02, -6.90529774e-02],\n",
       "        [ 2.27265104e-02, -9.27563555e-02, -6.99288317e-02,\n",
       "          4.09265745e-02,  1.15830022e-01, -2.69105804e-02,\n",
       "         -8.12512535e-02, -2.45806533e-02],\n",
       "        [-9.30569084e-02,  6.63161567e-02,  1.52624011e-01,\n",
       "          2.30210285e-01, -5.01830059e-03, -1.37976626e-01,\n",
       "          5.08030171e-02,  6.84951456e-02],\n",
       "        [ 1.59457178e-01,  2.67399372e-01,  2.33556516e-01,\n",
       "         -2.69227357e-01, -6.54551442e-03, -4.72704328e-02,\n",
       "         -2.90182441e-01,  1.64712968e-02],\n",
       "        [ 8.90002421e-02,  8.18397691e-02,  2.12583252e-02,\n",
       "          2.59251442e-03,  7.85770695e-02,  1.23377635e-01,\n",
       "          6.36927372e-02,  6.09893106e-02],\n",
       "        [ 1.17911481e-01,  1.74888768e-01, -6.00439034e-03,\n",
       "          3.83951690e-02,  1.92751478e-01, -5.62347892e-02,\n",
       "          1.59183679e-01,  2.59748479e-01],\n",
       "        [-7.10049386e-02, -1.43060356e-02,  3.07604296e-02,\n",
       "          5.17154037e-02,  1.76261542e-01,  1.14654917e-01,\n",
       "          1.89981836e-01, -2.49695435e-02],\n",
       "        [-1.03170328e-01,  1.41868006e-01, -7.22009087e-02,\n",
       "          2.08368426e-02, -1.45030384e-01,  1.62411614e-01,\n",
       "         -8.70278570e-02, -6.36813873e-03],\n",
       "        [-2.07256940e-01, -1.75272609e-02,  6.17288861e-02,\n",
       "         -1.40699108e-01,  9.04630627e-02, -4.39002208e-01,\n",
       "         -5.86317340e-02, -1.61818121e-01]]),\n",
       " array([1.66927366e+01, 7.12411557e+00, 6.00275266e+00, 4.65390134e+00,\n",
       "        3.32242549e+00, 2.74045015e+00, 1.53592453e+00, 6.40478508e-03]),\n",
       " array([[-2.60180771e-01,  3.57102149e-01,  1.90012858e-01,\n",
       "         -3.98881961e-01, -3.95110127e-01, -4.00381027e-01,\n",
       "         -3.41340848e-01,  4.20287714e-01],\n",
       "        [-5.77192657e-01,  3.68091467e-01, -6.79578384e-01,\n",
       "         -4.60795204e-03,  1.50768526e-01, -2.45865299e-02,\n",
       "          1.94817232e-01, -9.06636354e-02],\n",
       "        [-5.92768105e-01,  1.35603760e-01,  6.89507069e-01,\n",
       "          1.86600489e-01,  2.37647899e-01,  1.00539686e-01,\n",
       "          1.40590246e-01, -1.83432504e-01],\n",
       "        [ 3.48348904e-02, -8.32301572e-02,  9.99330531e-02,\n",
       "         -3.77653856e-01, -3.44055622e-01, -7.97144899e-02,\n",
       "          8.44939361e-01, -2.44750203e-02],\n",
       "        [-4.72661263e-01, -8.31262505e-01, -1.14568282e-01,\n",
       "         -1.88973890e-01, -4.45491070e-02, -1.26713105e-02,\n",
       "         -1.49435248e-01,  1.10819123e-01],\n",
       "        [-6.33977390e-02,  1.39863103e-01, -7.74504934e-04,\n",
       "         -3.36714089e-01, -2.58905377e-01,  8.78210202e-01,\n",
       "         -1.56920733e-01, -1.15235039e-02],\n",
       "        [-1.38344270e-01, -3.33456396e-02, -5.94575808e-02,\n",
       "          6.75002311e-01, -7.19700155e-01,  4.58182994e-02,\n",
       "          2.22791792e-02, -4.64923690e-03],\n",
       "        [-1.66767522e-04,  3.41762067e-04,  1.57703787e-04,\n",
       "         -2.42310012e-01, -2.43559260e-01, -2.21618746e-01,\n",
       "         -2.53758070e-01, -8.76616534e-01]]))"
      ]
     },
     "execution_count": 15,
     "metadata": {},
     "output_type": "execute_result"
    }
   ],
   "source": [
    "pop_by_state = county_data.groupby('STNAME').sum().loc[:, ['POPESTIMATE2020','9/12/21']].reset_index() # dataframe, 51\n",
    "\n",
    "#NOTE: vaccinations df columns are total count --> increased by date!!!\n",
    "# use .mean()??? to get the average by states across the dates?\n",
    "vax_stats = vaccinations.groupby('Province_State').sum().loc[:, ['People_Fully_Vaccinated','People_Partially_Vaccinated']] # dataframe,shape 61,2\n",
    "\n",
    "# NOTE: most recent date is 9/26/21\n",
    "vax_stats_recent = vaccinations.groupby('Province_State').last().loc[:, ['People_Fully_Vaccinated','People_Partially_Vaccinated']]\n",
    "\n",
    "vax_stats_by_state = pop_by_state.merge(vax_stats_recent, how = 'left', left_on = 'STNAME', right_on = 'Province_State') # shape 51,4\n",
    "\n",
    "# change vaccination rate to proportions\n",
    "vax_stats_by_state['People_Fully_Vaccinated'] = vax_stats_by_state['People_Fully_Vaccinated'].values / vax_stats_by_state['POPESTIMATE2020'].values\n",
    "vax_stats_by_state['People_Partially_Vaccinated'] = vax_stats_by_state['People_Partially_Vaccinated'].values / vax_stats_by_state['POPESTIMATE2020'].values\n",
    "\n",
    "# standardize proportions???\n",
    "\n",
    "# cases per capita\n",
    "vax_stats_by_state['9/12/21'] = vax_stats_by_state['9/12/21'].values / vax_stats_by_state['POPESTIMATE2020'].values\n",
    "\n",
    "\n",
    "avg_maskuse_by_state = county_data.groupby('STNAME').mean().loc[:,['NEVER','RARELY','SOMETIMES','FREQUENTLY','ALWAYS']].reset_index()\n",
    "\n",
    "matrix_x = vax_stats_by_state.merge(avg_maskuse_by_state, how = 'inner', on = 'STNAME').drop(columns = ['POPESTIMATE2020'])\n",
    "\n",
    "\n",
    "X = matrix_x.set_index('STNAME') # set state as index so X only contains numbers!!\n",
    "\n",
    "#standardize data\n",
    "X_mean = X.mean(axis = 0)\n",
    "X_std = np.std(X, axis = 0)\n",
    "X_stand = (X - X_mean)/ X_std\n",
    "\n",
    "# use standardized X matrix\n",
    "u, s, vt = np.linalg.svd(X_stand, full_matrices = False)\n",
    "\n",
    "u, s, vt"
   ]
  },
  {
   "cell_type": "markdown",
   "id": "282a932a",
   "metadata": {
    "deletable": false,
    "editable": false
   },
   "source": [
    "<!-- END QUESTION -->\n",
    "\n",
    "<!-- BEGIN QUESTION -->\n",
    "\n",
    "### Question 3b\n",
    "\n",
    "Visualize the top 2 principal components and label the data points with the corresponding location. Color each data points based on the number of cases per capita in the location to which it corresponds.\n",
    "\n",
    "<!--\n",
    "BEGIN QUESTION\n",
    "name: q3b\n",
    "points: 3\n",
    "manual: True\n",
    "-->"
   ]
  },
  {
   "cell_type": "code",
   "execution_count": 16,
   "id": "949c91bb",
   "metadata": {},
   "outputs": [
    {
     "data": {
      "application/vnd.plotly.v1+json": {
       "config": {
        "plotlyServerURL": "https://plot.ly"
       },
       "data": [
        {
         "hovertemplate": "<b>%{hovertext}</b><br><br>PC1=%{x}<br>PC2=%{y}<br>cases per capita=%{marker.color}<extra></extra>",
         "hovertext": [
          "Alabama",
          "Alaska",
          "Arizona",
          "Arkansas",
          "California",
          "Colorado",
          "Connecticut",
          "Delaware",
          "District of Columbia",
          "Florida",
          "Georgia",
          "Hawaii",
          "Idaho",
          "Illinois",
          "Indiana",
          "Iowa",
          "Kansas",
          "Kentucky",
          "Louisiana",
          "Maine",
          "Maryland",
          "Massachusetts",
          "Michigan",
          "Minnesota",
          "Mississippi",
          "Missouri",
          "Montana",
          "Nebraska",
          "Nevada",
          "New Hampshire",
          "New Jersey",
          "New Mexico",
          "New York",
          "North Carolina",
          "North Dakota",
          "Ohio",
          "Oklahoma",
          "Oregon",
          "Pennsylvania",
          "Rhode Island",
          "South Carolina",
          "South Dakota",
          "Tennessee",
          "Texas",
          "Utah",
          "Vermont",
          "Virginia",
          "Washington",
          "West Virginia",
          "Wisconsin",
          "Wyoming"
         ],
         "legendgroup": "",
         "marker": {
          "color": [
           0.15190513848126966,
           0.12971106049774733,
           0.14129407641495184,
           0.15505381581126948,
           0.11361133759184282,
           0.10930246453039481,
           0.10616906465718641,
           0.1265330980969975,
           0.07991683688357164,
           0.15873043188263253,
           0.13452630373976063,
           0.049487351155574316,
           0.12803401147181065,
           0.1242711636039795,
           0.13321247386917423,
           0.13185426170065948,
           0.13316574032922587,
           0.13855533227866831,
           0.15328487737545632,
           0.05963080893032654,
           0.08430642217166281,
           0.1045594056145622,
           0.10625216035029154,
           0.117721714543685,
           0.15515510724400075,
           0.11915439821001153,
           0.12374407376799618,
           0.11418274193415195,
           0.1280649557605029,
           0.08091196867394924,
           0.1257275788187636,
           0.11160702628614184,
           0.12078518156284171,
           0.12062638910205369,
           0.16014315786172645,
           0.11105797489262365,
           0.14282215333013631,
           0.06998102325423487,
           0.10534242689693876,
           0.14346269362658154,
           0.15025795126139316,
           0.1532086876356113,
           0.1567467721742676,
           0.13023971893914596,
           0.11001948072528239,
           0.04827808588153949,
           0.09333811998119332,
           0.07747700299937142,
           0.11782302313945586,
           0.12926737480615602,
           0.13848380981165254
          ],
          "coloraxis": "coloraxis",
          "symbol": "circle"
         },
         "mode": "markers",
         "name": "",
         "orientation": "v",
         "showlegend": false,
         "type": "scatter",
         "x": [
          -1.6390220369676969,
          -1.2756660926693035,
          0.8046559564982579,
          -1.681777291164916,
          2.6036326685633098,
          0.19348896738017335,
          3.4083669011338222,
          3.2118910688726467,
          3.646841055306178,
          0.17389704802037012,
          -0.962020005520899,
          5.145993854619179,
          -2.81622798319324,
          -0.041108696894675056,
          -1.9121384341770291,
          -2.392163237127198,
          -2.1903211497613855,
          -1.0304028554920799,
          -1.1644389424902557,
          1.4500886342033037,
          2.9698289708542296,
          3.768173611940404,
          0.12091016637396695,
          -2.19687838673001,
          -1.1849664220242948,
          -2.563773244436238,
          -3.369627628309787,
          -2.6088530564867742,
          0.7713048849746987,
          1.5424560087560844,
          2.8219404798920884,
          1.913815578280862,
          2.9832721875372146,
          0.6261661530513403,
          -4.51196951519473,
          -1.7995905339769807,
          -2.5430261686105577,
          1.6407461910513843,
          2.156976106930025,
          3.532796646836956,
          -0.8985735731720599,
          -2.92082769886441,
          -2.3584155892232013,
          0.37936765309839887,
          -1.5533744656299886,
          2.6617766850065294,
          1.4856576034057314,
          1.9682652990434448,
          -1.1852667406351223,
          -1.7221951139551774,
          -3.459685518922673
         ],
         "xaxis": "x",
         "y": [
          -1.6136773637090278,
          0.5403860425084233,
          -1.0219386239370012,
          -1.4872678588358583,
          -1.1971944060129815,
          1.0764303296336197,
          0.4128640709713929,
          -1.026932545634609,
          0.5763649823831781,
          -1.2483559191233708,
          -1.059486465323868,
          -1.3281942902978214,
          0.40665410931360485,
          -1.6649894401513639,
          0.7735044447864401,
          0.9287467053812254,
          -0.2986412244253171,
          -0.5014779480549607,
          -0.6656855360555879,
          2.349650173665059,
          1.0711019994374094,
          -0.11257002635728425,
          1.0296501840405763,
          1.2658403170575168,
          -0.8516156451785777,
          0.2775920652868753,
          0.606196615451595,
          1.4160492282699788,
          -1.0029618930592616,
          1.0049931313484222,
          -0.15144387769596263,
          -0.1377149784003205,
          -0.08809059551793313,
          -0.6263804229393479,
          -0.30471157852968805,
          1.1840417087317343,
          -0.6786794110378025,
          1.6153251847199417,
          -1.4740742591010771,
          -0.07628905903793526,
          -1.0183350447668789,
          -0.40811807968945285,
          -0.820049558839117,
          -0.6608069967373105,
          0.4724439649945874,
          1.9049840309592485,
          0.5830359737042836,
          1.2459277975698348,
          -0.10191785070398493,
          1.0106840709570926,
          -0.12486623201836017
         ],
         "yaxis": "y"
        }
       ],
       "layout": {
        "coloraxis": {
         "colorbar": {
          "title": {
           "text": "cases per capita"
          }
         },
         "colorscale": [
          [
           0,
           "#0d0887"
          ],
          [
           0.1111111111111111,
           "#46039f"
          ],
          [
           0.2222222222222222,
           "#7201a8"
          ],
          [
           0.3333333333333333,
           "#9c179e"
          ],
          [
           0.4444444444444444,
           "#bd3786"
          ],
          [
           0.5555555555555556,
           "#d8576b"
          ],
          [
           0.6666666666666666,
           "#ed7953"
          ],
          [
           0.7777777777777778,
           "#fb9f3a"
          ],
          [
           0.8888888888888888,
           "#fdca26"
          ],
          [
           1,
           "#f0f921"
          ]
         ]
        },
        "legend": {
         "tracegroupgap": 0
        },
        "template": {
         "data": {
          "bar": [
           {
            "error_x": {
             "color": "#2a3f5f"
            },
            "error_y": {
             "color": "#2a3f5f"
            },
            "marker": {
             "line": {
              "color": "#E5ECF6",
              "width": 0.5
             },
             "pattern": {
              "fillmode": "overlay",
              "size": 10,
              "solidity": 0.2
             }
            },
            "type": "bar"
           }
          ],
          "barpolar": [
           {
            "marker": {
             "line": {
              "color": "#E5ECF6",
              "width": 0.5
             },
             "pattern": {
              "fillmode": "overlay",
              "size": 10,
              "solidity": 0.2
             }
            },
            "type": "barpolar"
           }
          ],
          "carpet": [
           {
            "aaxis": {
             "endlinecolor": "#2a3f5f",
             "gridcolor": "white",
             "linecolor": "white",
             "minorgridcolor": "white",
             "startlinecolor": "#2a3f5f"
            },
            "baxis": {
             "endlinecolor": "#2a3f5f",
             "gridcolor": "white",
             "linecolor": "white",
             "minorgridcolor": "white",
             "startlinecolor": "#2a3f5f"
            },
            "type": "carpet"
           }
          ],
          "choropleth": [
           {
            "colorbar": {
             "outlinewidth": 0,
             "ticks": ""
            },
            "type": "choropleth"
           }
          ],
          "contour": [
           {
            "colorbar": {
             "outlinewidth": 0,
             "ticks": ""
            },
            "colorscale": [
             [
              0,
              "#0d0887"
             ],
             [
              0.1111111111111111,
              "#46039f"
             ],
             [
              0.2222222222222222,
              "#7201a8"
             ],
             [
              0.3333333333333333,
              "#9c179e"
             ],
             [
              0.4444444444444444,
              "#bd3786"
             ],
             [
              0.5555555555555556,
              "#d8576b"
             ],
             [
              0.6666666666666666,
              "#ed7953"
             ],
             [
              0.7777777777777778,
              "#fb9f3a"
             ],
             [
              0.8888888888888888,
              "#fdca26"
             ],
             [
              1,
              "#f0f921"
             ]
            ],
            "type": "contour"
           }
          ],
          "contourcarpet": [
           {
            "colorbar": {
             "outlinewidth": 0,
             "ticks": ""
            },
            "type": "contourcarpet"
           }
          ],
          "heatmap": [
           {
            "colorbar": {
             "outlinewidth": 0,
             "ticks": ""
            },
            "colorscale": [
             [
              0,
              "#0d0887"
             ],
             [
              0.1111111111111111,
              "#46039f"
             ],
             [
              0.2222222222222222,
              "#7201a8"
             ],
             [
              0.3333333333333333,
              "#9c179e"
             ],
             [
              0.4444444444444444,
              "#bd3786"
             ],
             [
              0.5555555555555556,
              "#d8576b"
             ],
             [
              0.6666666666666666,
              "#ed7953"
             ],
             [
              0.7777777777777778,
              "#fb9f3a"
             ],
             [
              0.8888888888888888,
              "#fdca26"
             ],
             [
              1,
              "#f0f921"
             ]
            ],
            "type": "heatmap"
           }
          ],
          "heatmapgl": [
           {
            "colorbar": {
             "outlinewidth": 0,
             "ticks": ""
            },
            "colorscale": [
             [
              0,
              "#0d0887"
             ],
             [
              0.1111111111111111,
              "#46039f"
             ],
             [
              0.2222222222222222,
              "#7201a8"
             ],
             [
              0.3333333333333333,
              "#9c179e"
             ],
             [
              0.4444444444444444,
              "#bd3786"
             ],
             [
              0.5555555555555556,
              "#d8576b"
             ],
             [
              0.6666666666666666,
              "#ed7953"
             ],
             [
              0.7777777777777778,
              "#fb9f3a"
             ],
             [
              0.8888888888888888,
              "#fdca26"
             ],
             [
              1,
              "#f0f921"
             ]
            ],
            "type": "heatmapgl"
           }
          ],
          "histogram": [
           {
            "marker": {
             "pattern": {
              "fillmode": "overlay",
              "size": 10,
              "solidity": 0.2
             }
            },
            "type": "histogram"
           }
          ],
          "histogram2d": [
           {
            "colorbar": {
             "outlinewidth": 0,
             "ticks": ""
            },
            "colorscale": [
             [
              0,
              "#0d0887"
             ],
             [
              0.1111111111111111,
              "#46039f"
             ],
             [
              0.2222222222222222,
              "#7201a8"
             ],
             [
              0.3333333333333333,
              "#9c179e"
             ],
             [
              0.4444444444444444,
              "#bd3786"
             ],
             [
              0.5555555555555556,
              "#d8576b"
             ],
             [
              0.6666666666666666,
              "#ed7953"
             ],
             [
              0.7777777777777778,
              "#fb9f3a"
             ],
             [
              0.8888888888888888,
              "#fdca26"
             ],
             [
              1,
              "#f0f921"
             ]
            ],
            "type": "histogram2d"
           }
          ],
          "histogram2dcontour": [
           {
            "colorbar": {
             "outlinewidth": 0,
             "ticks": ""
            },
            "colorscale": [
             [
              0,
              "#0d0887"
             ],
             [
              0.1111111111111111,
              "#46039f"
             ],
             [
              0.2222222222222222,
              "#7201a8"
             ],
             [
              0.3333333333333333,
              "#9c179e"
             ],
             [
              0.4444444444444444,
              "#bd3786"
             ],
             [
              0.5555555555555556,
              "#d8576b"
             ],
             [
              0.6666666666666666,
              "#ed7953"
             ],
             [
              0.7777777777777778,
              "#fb9f3a"
             ],
             [
              0.8888888888888888,
              "#fdca26"
             ],
             [
              1,
              "#f0f921"
             ]
            ],
            "type": "histogram2dcontour"
           }
          ],
          "mesh3d": [
           {
            "colorbar": {
             "outlinewidth": 0,
             "ticks": ""
            },
            "type": "mesh3d"
           }
          ],
          "parcoords": [
           {
            "line": {
             "colorbar": {
              "outlinewidth": 0,
              "ticks": ""
             }
            },
            "type": "parcoords"
           }
          ],
          "pie": [
           {
            "automargin": true,
            "type": "pie"
           }
          ],
          "scatter": [
           {
            "fillpattern": {
             "fillmode": "overlay",
             "size": 10,
             "solidity": 0.2
            },
            "type": "scatter"
           }
          ],
          "scatter3d": [
           {
            "line": {
             "colorbar": {
              "outlinewidth": 0,
              "ticks": ""
             }
            },
            "marker": {
             "colorbar": {
              "outlinewidth": 0,
              "ticks": ""
             }
            },
            "type": "scatter3d"
           }
          ],
          "scattercarpet": [
           {
            "marker": {
             "colorbar": {
              "outlinewidth": 0,
              "ticks": ""
             }
            },
            "type": "scattercarpet"
           }
          ],
          "scattergeo": [
           {
            "marker": {
             "colorbar": {
              "outlinewidth": 0,
              "ticks": ""
             }
            },
            "type": "scattergeo"
           }
          ],
          "scattergl": [
           {
            "marker": {
             "colorbar": {
              "outlinewidth": 0,
              "ticks": ""
             }
            },
            "type": "scattergl"
           }
          ],
          "scattermapbox": [
           {
            "marker": {
             "colorbar": {
              "outlinewidth": 0,
              "ticks": ""
             }
            },
            "type": "scattermapbox"
           }
          ],
          "scatterpolar": [
           {
            "marker": {
             "colorbar": {
              "outlinewidth": 0,
              "ticks": ""
             }
            },
            "type": "scatterpolar"
           }
          ],
          "scatterpolargl": [
           {
            "marker": {
             "colorbar": {
              "outlinewidth": 0,
              "ticks": ""
             }
            },
            "type": "scatterpolargl"
           }
          ],
          "scatterternary": [
           {
            "marker": {
             "colorbar": {
              "outlinewidth": 0,
              "ticks": ""
             }
            },
            "type": "scatterternary"
           }
          ],
          "surface": [
           {
            "colorbar": {
             "outlinewidth": 0,
             "ticks": ""
            },
            "colorscale": [
             [
              0,
              "#0d0887"
             ],
             [
              0.1111111111111111,
              "#46039f"
             ],
             [
              0.2222222222222222,
              "#7201a8"
             ],
             [
              0.3333333333333333,
              "#9c179e"
             ],
             [
              0.4444444444444444,
              "#bd3786"
             ],
             [
              0.5555555555555556,
              "#d8576b"
             ],
             [
              0.6666666666666666,
              "#ed7953"
             ],
             [
              0.7777777777777778,
              "#fb9f3a"
             ],
             [
              0.8888888888888888,
              "#fdca26"
             ],
             [
              1,
              "#f0f921"
             ]
            ],
            "type": "surface"
           }
          ],
          "table": [
           {
            "cells": {
             "fill": {
              "color": "#EBF0F8"
             },
             "line": {
              "color": "white"
             }
            },
            "header": {
             "fill": {
              "color": "#C8D4E3"
             },
             "line": {
              "color": "white"
             }
            },
            "type": "table"
           }
          ]
         },
         "layout": {
          "annotationdefaults": {
           "arrowcolor": "#2a3f5f",
           "arrowhead": 0,
           "arrowwidth": 1
          },
          "autotypenumbers": "strict",
          "coloraxis": {
           "colorbar": {
            "outlinewidth": 0,
            "ticks": ""
           }
          },
          "colorscale": {
           "diverging": [
            [
             0,
             "#8e0152"
            ],
            [
             0.1,
             "#c51b7d"
            ],
            [
             0.2,
             "#de77ae"
            ],
            [
             0.3,
             "#f1b6da"
            ],
            [
             0.4,
             "#fde0ef"
            ],
            [
             0.5,
             "#f7f7f7"
            ],
            [
             0.6,
             "#e6f5d0"
            ],
            [
             0.7,
             "#b8e186"
            ],
            [
             0.8,
             "#7fbc41"
            ],
            [
             0.9,
             "#4d9221"
            ],
            [
             1,
             "#276419"
            ]
           ],
           "sequential": [
            [
             0,
             "#0d0887"
            ],
            [
             0.1111111111111111,
             "#46039f"
            ],
            [
             0.2222222222222222,
             "#7201a8"
            ],
            [
             0.3333333333333333,
             "#9c179e"
            ],
            [
             0.4444444444444444,
             "#bd3786"
            ],
            [
             0.5555555555555556,
             "#d8576b"
            ],
            [
             0.6666666666666666,
             "#ed7953"
            ],
            [
             0.7777777777777778,
             "#fb9f3a"
            ],
            [
             0.8888888888888888,
             "#fdca26"
            ],
            [
             1,
             "#f0f921"
            ]
           ],
           "sequentialminus": [
            [
             0,
             "#0d0887"
            ],
            [
             0.1111111111111111,
             "#46039f"
            ],
            [
             0.2222222222222222,
             "#7201a8"
            ],
            [
             0.3333333333333333,
             "#9c179e"
            ],
            [
             0.4444444444444444,
             "#bd3786"
            ],
            [
             0.5555555555555556,
             "#d8576b"
            ],
            [
             0.6666666666666666,
             "#ed7953"
            ],
            [
             0.7777777777777778,
             "#fb9f3a"
            ],
            [
             0.8888888888888888,
             "#fdca26"
            ],
            [
             1,
             "#f0f921"
            ]
           ]
          },
          "colorway": [
           "#636efa",
           "#EF553B",
           "#00cc96",
           "#ab63fa",
           "#FFA15A",
           "#19d3f3",
           "#FF6692",
           "#B6E880",
           "#FF97FF",
           "#FECB52"
          ],
          "font": {
           "color": "#2a3f5f"
          },
          "geo": {
           "bgcolor": "white",
           "lakecolor": "white",
           "landcolor": "#E5ECF6",
           "showlakes": true,
           "showland": true,
           "subunitcolor": "white"
          },
          "hoverlabel": {
           "align": "left"
          },
          "hovermode": "closest",
          "mapbox": {
           "style": "light"
          },
          "paper_bgcolor": "white",
          "plot_bgcolor": "#E5ECF6",
          "polar": {
           "angularaxis": {
            "gridcolor": "white",
            "linecolor": "white",
            "ticks": ""
           },
           "bgcolor": "#E5ECF6",
           "radialaxis": {
            "gridcolor": "white",
            "linecolor": "white",
            "ticks": ""
           }
          },
          "scene": {
           "xaxis": {
            "backgroundcolor": "#E5ECF6",
            "gridcolor": "white",
            "gridwidth": 2,
            "linecolor": "white",
            "showbackground": true,
            "ticks": "",
            "zerolinecolor": "white"
           },
           "yaxis": {
            "backgroundcolor": "#E5ECF6",
            "gridcolor": "white",
            "gridwidth": 2,
            "linecolor": "white",
            "showbackground": true,
            "ticks": "",
            "zerolinecolor": "white"
           },
           "zaxis": {
            "backgroundcolor": "#E5ECF6",
            "gridcolor": "white",
            "gridwidth": 2,
            "linecolor": "white",
            "showbackground": true,
            "ticks": "",
            "zerolinecolor": "white"
           }
          },
          "shapedefaults": {
           "line": {
            "color": "#2a3f5f"
           }
          },
          "ternary": {
           "aaxis": {
            "gridcolor": "white",
            "linecolor": "white",
            "ticks": ""
           },
           "baxis": {
            "gridcolor": "white",
            "linecolor": "white",
            "ticks": ""
           },
           "bgcolor": "#E5ECF6",
           "caxis": {
            "gridcolor": "white",
            "linecolor": "white",
            "ticks": ""
           }
          },
          "title": {
           "x": 0.05
          },
          "xaxis": {
           "automargin": true,
           "gridcolor": "white",
           "linecolor": "white",
           "ticks": "",
           "title": {
            "standoff": 15
           },
           "zerolinecolor": "white",
           "zerolinewidth": 2
          },
          "yaxis": {
           "automargin": true,
           "gridcolor": "white",
           "linecolor": "white",
           "ticks": "",
           "title": {
            "standoff": 15
           },
           "zerolinecolor": "white",
           "zerolinewidth": 2
          }
         }
        },
        "title": {
         "text": "PC2 vs. PC1 for COVID Data"
        },
        "xaxis": {
         "anchor": "y",
         "domain": [
          0,
          1
         ],
         "title": {
          "text": "PC1"
         }
        },
        "yaxis": {
         "anchor": "x",
         "domain": [
          0,
          1
         ],
         "title": {
          "text": "PC2"
         }
        }
       }
      }
     },
     "metadata": {},
     "output_type": "display_data"
    }
   ],
   "source": [
    "# lab 11, the same as above\n",
    "X_2d = X_stand @ vt[0:2][:].T\n",
    "\n",
    "state_names = X_2d.index\n",
    "\n",
    "# visualize using the original number of cases per capita\n",
    "import plotly.express as px\n",
    "\n",
    "# color --> number of cases per capita (in each state)\n",
    "# x-axis: PC1, y-axis: PC2\n",
    "\n",
    "X_2d['cases per capita'] = X['9/12/21']\n",
    " \n",
    "X_2d_states_col = X_2d.reset_index().rename(columns = {0:'PC1', 1:'PC2'})\n",
    "\n",
    "plot = px.scatter(X_2d_states_col, x = 'PC1', y = 'PC2', color = 'cases per capita', hover_name = 'STNAME',\n",
    "                 title = 'PC2 vs. PC1 for COVID Data')\n",
    "plot.show()"
   ]
  },
  {
   "cell_type": "markdown",
   "id": "65a62362",
   "metadata": {
    "deletable": false,
    "editable": false
   },
   "source": [
    "<!-- END QUESTION -->\n",
    "\n",
    "<!-- BEGIN QUESTION -->\n",
    "\n",
    "### Question 3c\n",
    "\n",
    "What could the first and second principal component roughly represent? Interpret the visualization above and report any findings from the first two principal components given by PCA.\n",
    "\n",
    "<!--\n",
    "BEGIN QUESTION\n",
    "name: q3c\n",
    "points: 3\n",
    "manual: True\n",
    "-->"
   ]
  },
  {
   "cell_type": "markdown",
   "id": "32a9dad2",
   "metadata": {},
   "source": [
    "The first principal component roughly represents the number of cases per capita. The further a state is plotted to the right of the graph, the lower the cases per capita, but the further a state are to the left of the graph, the higher the cases per capita. The second principal component roughly indicates whether or not the mask usage is commonly never, rarely, sometimes, frequently, or always. The further a state is plotted towards the top of a graph, the higher the mask usage, but the lower a state is plotted towards the bottom of the graph, the lower the mask usage."
   ]
  },
  {
   "cell_type": "markdown",
   "id": "99515479",
   "metadata": {
    "deletable": false,
    "editable": false
   },
   "source": [
    "<!-- END QUESTION -->\n",
    "\n",
    "<!-- BEGIN QUESTION -->\n",
    "\n",
    "### Question 3d\n",
    "\n",
    "Construct a scree plot displaying the proportion of variance captured by each principal component.\n",
    "\n",
    "<!--\n",
    "BEGIN QUESTION\n",
    "name: q3d\n",
    "points: 3\n",
    "manual: True\n",
    "-->"
   ]
  },
  {
   "cell_type": "code",
   "execution_count": 17,
   "id": "800f4bb0",
   "metadata": {},
   "outputs": [
    {
     "data": {
      "text/plain": [
       "Text(0.5, 1.0, 'Fraction of Variance Explained by each Principal Component')"
      ]
     },
     "execution_count": 17,
     "metadata": {},
     "output_type": "execute_result"
    },
    {
     "data": {
      "image/png": "[encoded data removed]",
      "text/plain": [
       "<Figure size 640x480 with 1 Axes>"
      ]
     },
     "metadata": {},
     "output_type": "display_data"
    }
   ],
   "source": [
    "plt.plot(np.arange(len(s)), s**2 / sum(s**2));\n",
    "plt.xticks(np.arange(len(s)),np.arange(len(s)));\n",
    "plt.xlabel('PC #');\n",
    "plt.ylabel('Fraction of Variance Explained');\n",
    "plt.title('Fraction of Variance Explained by each Principal Component')"
   ]
  },
  {
   "cell_type": "markdown",
   "id": "8a891ace",
   "metadata": {
    "deletable": false,
    "editable": false
   },
   "source": [
    "<!-- END QUESTION -->\n",
    "\n",
    "### Question 3e\n",
    "\n",
    "Using the 2D representation of each state's first two principal components $x_i = [\\text{PC}_1, \\text{PC}_2]$, find each state's 5 closest principal component neighbors using Euclidean distance as the metric. In other words, for each state $i$ with first two principal components $x_i$, the following would be its *closest* principal component neighbor:\n",
    "\n",
    "$$\n",
    "\\arg \\min_{j \\ne i} ||x_j - x_i||_2\n",
    "$$\n",
    "\n",
    "Store each state's 5 closest neighbors in a Pandas DataFrame, where the index is the state's name and the columns are the 5 closest PC neighbors.\n",
    "\n",
    "<!--\n",
    "BEGIN QUESTION\n",
    "name: q3e\n",
    "points: 3\n",
    "-->"
   ]
  },
  {
   "cell_type": "code",
   "execution_count": 18,
   "id": "0ea2cd6c",
   "metadata": {},
   "outputs": [
    {
     "data": {
      "text/html": [
       "<div>\n",
       "<style scoped>\n",
       "    .dataframe tbody tr th:only-of-type {\n",
       "        vertical-align: middle;\n",
       "    }\n",
       "\n",
       "    .dataframe tbody tr th {\n",
       "        vertical-align: top;\n",
       "    }\n",
       "\n",
       "    .dataframe thead th {\n",
       "        text-align: right;\n",
       "    }\n",
       "</style>\n",
       "<table border=\"1\" class=\"dataframe\">\n",
       "  <thead>\n",
       "    <tr style=\"text-align: right;\">\n",
       "      <th></th>\n",
       "      <th>1st closest</th>\n",
       "      <th>2nd closest</th>\n",
       "      <th>3rd closest</th>\n",
       "      <th>4th closest</th>\n",
       "      <th>5th closest</th>\n",
       "    </tr>\n",
       "    <tr>\n",
       "      <th>STNAME</th>\n",
       "      <th></th>\n",
       "      <th></th>\n",
       "      <th></th>\n",
       "      <th></th>\n",
       "      <th></th>\n",
       "    </tr>\n",
       "  </thead>\n",
       "  <tbody>\n",
       "    <tr>\n",
       "      <th>Alabama</th>\n",
       "      <td>Arkansas</td>\n",
       "      <td>Georgia</td>\n",
       "      <td>Mississippi</td>\n",
       "      <td>South Carolina</td>\n",
       "      <td>Louisiana</td>\n",
       "    </tr>\n",
       "    <tr>\n",
       "      <th>Alaska</th>\n",
       "      <td>Utah</td>\n",
       "      <td>Wisconsin</td>\n",
       "      <td>West Virginia</td>\n",
       "      <td>Indiana</td>\n",
       "      <td>Ohio</td>\n",
       "    </tr>\n",
       "    <tr>\n",
       "      <th>Arizona</th>\n",
       "      <td>Nevada</td>\n",
       "      <td>North Carolina</td>\n",
       "      <td>Texas</td>\n",
       "      <td>Florida</td>\n",
       "      <td>Illinois</td>\n",
       "    </tr>\n",
       "    <tr>\n",
       "      <th>Arkansas</th>\n",
       "      <td>Alabama</td>\n",
       "      <td>Mississippi</td>\n",
       "      <td>Georgia</td>\n",
       "      <td>South Carolina</td>\n",
       "      <td>Tennessee</td>\n",
       "    </tr>\n",
       "    <tr>\n",
       "      <th>California</th>\n",
       "      <td>Pennsylvania</td>\n",
       "      <td>Delaware</td>\n",
       "      <td>New Jersey</td>\n",
       "      <td>New York</td>\n",
       "      <td>New Mexico</td>\n",
       "    </tr>\n",
       "    <tr>\n",
       "      <th>Colorado</th>\n",
       "      <td>Michigan</td>\n",
       "      <td>New Hampshire</td>\n",
       "      <td>Virginia</td>\n",
       "      <td>Oregon</td>\n",
       "      <td>Alaska</td>\n",
       "    </tr>\n",
       "    <tr>\n",
       "      <th>Connecticut</th>\n",
       "      <td>District of Columbia</td>\n",
       "      <td>Rhode Island</td>\n",
       "      <td>Massachusetts</td>\n",
       "      <td>New York</td>\n",
       "      <td>Maryland</td>\n",
       "    </tr>\n",
       "    <tr>\n",
       "      <th>Delaware</th>\n",
       "      <td>California</td>\n",
       "      <td>New Jersey</td>\n",
       "      <td>New York</td>\n",
       "      <td>Rhode Island</td>\n",
       "      <td>Massachusetts</td>\n",
       "    </tr>\n",
       "    <tr>\n",
       "      <th>District of Columbia</th>\n",
       "      <td>Connecticut</td>\n",
       "      <td>Rhode Island</td>\n",
       "      <td>Massachusetts</td>\n",
       "      <td>Maryland</td>\n",
       "      <td>New York</td>\n",
       "    </tr>\n",
       "    <tr>\n",
       "      <th>Florida</th>\n",
       "      <td>Illinois</td>\n",
       "      <td>Texas</td>\n",
       "      <td>Nevada</td>\n",
       "      <td>Arizona</td>\n",
       "      <td>North Carolina</td>\n",
       "    </tr>\n",
       "  </tbody>\n",
       "</table>\n",
       "</div>"
      ],
      "text/plain": [
       "                               1st closest     2nd closest    3rd closest  \\\n",
       "STNAME                                                                      \n",
       "Alabama                           Arkansas         Georgia    Mississippi   \n",
       "Alaska                                Utah       Wisconsin  West Virginia   \n",
       "Arizona                             Nevada  North Carolina          Texas   \n",
       "Arkansas                           Alabama     Mississippi        Georgia   \n",
       "California                    Pennsylvania        Delaware     New Jersey   \n",
       "Colorado                          Michigan   New Hampshire       Virginia   \n",
       "Connecticut           District of Columbia    Rhode Island  Massachusetts   \n",
       "Delaware                        California      New Jersey       New York   \n",
       "District of Columbia           Connecticut    Rhode Island  Massachusetts   \n",
       "Florida                           Illinois           Texas         Nevada   \n",
       "\n",
       "                         4th closest     5th closest  \n",
       "STNAME                                                \n",
       "Alabama               South Carolina       Louisiana  \n",
       "Alaska                       Indiana            Ohio  \n",
       "Arizona                      Florida        Illinois  \n",
       "Arkansas              South Carolina       Tennessee  \n",
       "California                  New York      New Mexico  \n",
       "Colorado                      Oregon          Alaska  \n",
       "Connecticut                 New York        Maryland  \n",
       "Delaware                Rhode Island   Massachusetts  \n",
       "District of Columbia        Maryland        New York  \n",
       "Florida                      Arizona  North Carolina  "
      ]
     },
     "execution_count": 18,
     "metadata": {},
     "output_type": "execute_result"
    }
   ],
   "source": [
    "X_2d_3e = X_2d_states_col.set_index('STNAME')\n",
    "all_5_closest = [] # this should be a 2d array that stores 5 closests for each state (shape = 51, 5)\n",
    "for state in X_2d_3e.index:\n",
    "    pc1 = X_2d_3e.loc[state, 'PC1']\n",
    "    pc2 = X_2d_3e.loc[state, 'PC2']\n",
    "    exclude_1_state = X_2d_3e.drop(state)\n",
    "    \n",
    "    distance_for_state = {}\n",
    "    for state_index in exclude_1_state.index:\n",
    "        \n",
    "        dist = ((pc1 - exclude_1_state.loc[state_index, 'PC1'])**2 + (pc2 - exclude_1_state.loc[state_index, 'PC2'])**2)**(1/2)\n",
    "        distance_for_state[state_index] = dist\n",
    "        \n",
    "        #sort the dictionary by values\n",
    "        sorted_dist_vals = sorted(distance_for_state.values())\n",
    "        # get matching keys\n",
    "        sorted_dist_keys = sorted(distance_for_state, key=distance_for_state.get)\n",
    "        # get sorted distance dictionary, key = state names, val = distances\n",
    "        distance_sorted = sorted(distance_for_state.items(), key=lambda x:x[1])\n",
    "        \n",
    "        # get closest 5\n",
    "        closest_5 = distance_sorted[:5]\n",
    "        \n",
    "        # get closest 5 state names\n",
    "        closest_5_states = [x[0] for x in closest_5]\n",
    "    # outside of 2nd for loop, add each state's 5 neighbors    \n",
    "    all_5_closest.append(closest_5_states)\n",
    "\n",
    "\n",
    "state_mins = pd.DataFrame(all_5_closest, columns=['1st closest', '2nd closest','3rd closest','4th closest','5th closest']).set_index(X_2d_3e.index)\n",
    "\n",
    "state_mins.head(10)"
   ]
  },
  {
   "cell_type": "markdown",
   "id": "79afbc49",
   "metadata": {
    "deletable": false,
    "editable": false
   },
   "source": [
    "<!-- BEGIN QUESTION -->\n",
    "\n",
    "### Question 3f\n",
    "\n",
    "Investigate the principal component neighbors for two states of your choice, and remark on any observations you have about their COVID-19 statistics given in the dataset, geographical or political ties. \n",
    "\n",
    "Compare these neighbors with the rankings from the visualization from Question 2c that depicted recent greatest increases in cases across states.\n",
    "\n",
    "<!--\n",
    "BEGIN QUESTION\n",
    "name: q3f\n",
    "points: 3\n",
    "manual: True\n",
    "-->"
   ]
  },
  {
   "cell_type": "markdown",
   "id": "55f75c29",
   "metadata": {},
   "source": [
    "Looking at in particular Oregon, Washington, and Maine, we can see that looking geographically at Oregon and Washington are next to one another. This can lead us to believe that since they are close to one another, they must have similar bliefs/laws as to how they are taking precautions with covid. Furthermore, we are assured that Oregon and Washington do have similar standings do to their PCA closest neighbor where Oregon is Washington's 2nd nearest neighbor and Washington is Oregon's 1st nearest neighbor. In contrast, looking at the graph in 2c, Washington has about 10,000 more cases than Oregon. Another discovery was when looking at the PCA graph, since Washington and Oregon (Democratic States) are further towards the top of the graph, people in these states are further likely to wear maskes but looking lower down at Florida or Arkansas (republican states), theses states are less likely to wear masks"
   ]
  },
  {
   "cell_type": "markdown",
   "id": "fbbcc4ba",
   "metadata": {
    "deletable": false,
    "editable": false
   },
   "source": [
    "<!-- END QUESTION -->\n",
    "\n",
    "### Question 3g\n",
    "\n",
    "We will investigate the relationship between geographical distance in miles and top two principal component distance between any two unique pairs of states. \n",
    "\n",
    "For the sake of simplicity, may assume that the singular geographical location of a state is given by the mean latitude and longitude of all the counties in that state. For each unique pair of states, calculate the geographical distance and the Euclidean distance between their top 2 principal components between them. Plot the relationship where the x-axis represents the top 2 principal component distance and the y-axis represents geographical distance.\n",
    "\n",
    "*Hint*: `geopy` has a function that can calculate distance between two pairs of latitude and longitude!\n",
    "\n",
    "*Hint*: You should be plotting 1,275 points.\n",
    "\n",
    "<!--\n",
    "BEGIN QUESTION\n",
    "name: q3g\n",
    "points: 3\n",
    "-->"
   ]
  },
  {
   "cell_type": "code",
   "execution_count": 19,
   "id": "569bc5fc-69a2-429a-a7f1-f750e2131bd2",
   "metadata": {},
   "outputs": [
    {
     "data": {
      "application/vnd.plotly.v1+json": {
       "config": {
        "plotlyServerURL": "https://plot.ly"
       },
       "data": [
        {
         "hovertemplate": "<b>%{hovertext}</b><br><br>PCA distance=%{x}<br>Geo distance=%{y}<extra></extra>",
         "hovertext": [
          [
           "Alabama",
           "Alaska"
          ],
          [
           "Alabama",
           "Arizona"
          ],
          [
           "Alabama",
           "Arkansas"
          ],
          [
           "Alabama",
           "California"
          ],
          [
           "Alabama",
           "Colorado"
          ],
          [
           "Alabama",
           "Connecticut"
          ],
          [
           "Alabama",
           "Delaware"
          ],
          [
           "Alabama",
           "District of Columbia"
          ],
          [
           "Alabama",
           "Florida"
          ],
          [
           "Alabama",
           "Georgia"
          ],
          [
           "Alabama",
           "Hawaii"
          ],
          [
           "Alabama",
           "Idaho"
          ],
          [
           "Alabama",
           "Illinois"
          ],
          [
           "Alabama",
           "Indiana"
          ],
          [
           "Alabama",
           "Iowa"
          ],
          [
           "Alabama",
           "Kansas"
          ],
          [
           "Alabama",
           "Kentucky"
          ],
          [
           "Alabama",
           "Louisiana"
          ],
          [
           "Alabama",
           "Maine"
          ],
          [
           "Alabama",
           "Maryland"
          ],
          [
           "Alabama",
           "Massachusetts"
          ],
          [
           "Alabama",
           "Michigan"
          ],
          [
           "Alabama",
           "Minnesota"
          ],
          [
           "Alabama",
           "Mississippi"
          ],
          [
           "Alabama",
           "Missouri"
          ],
          [
           "Alabama",
           "Montana"
          ],
          [
           "Alabama",
           "Nebraska"
          ],
          [
           "Alabama",
           "Nevada"
          ],
          [
           "Alabama",
           "New Hampshire"
          ],
          [
           "Alabama",
           "New Jersey"
          ],
          [
           "Alabama",
           "New Mexico"
          ],
          [
           "Alabama",
           "New York"
          ],
          [
           "Alabama",
           "North Carolina"
          ],
          [
           "Alabama",
           "North Dakota"
          ],
          [
           "Alabama",
           "Ohio"
          ],
          [
           "Alabama",
           "Oklahoma"
          ],
          [
           "Alabama",
           "Oregon"
          ],
          [
           "Alabama",
           "Pennsylvania"
          ],
          [
           "Alabama",
           "Rhode Island"
          ],
          [
           "Alabama",
           "South Carolina"
          ],
          [
           "Alabama",
           "South Dakota"
          ],
          [
           "Alabama",
           "Tennessee"
          ],
          [
           "Alabama",
           "Texas"
          ],
          [
           "Alabama",
           "Utah"
          ],
          [
           "Alabama",
           "Vermont"
          ],
          [
           "Alabama",
           "Virginia"
          ],
          [
           "Alabama",
           "Washington"
          ],
          [
           "Alabama",
           "West Virginia"
          ],
          [
           "Alabama",
           "Wisconsin"
          ],
          [
           "Alabama",
           "Wyoming"
          ],
          [
           "Alaska",
           "Arizona"
          ],
          [
           "Alaska",
           "Arkansas"
          ],
          [
           "Alaska",
           "California"
          ],
          [
           "Alaska",
           "Colorado"
          ],
          [
           "Alaska",
           "Connecticut"
          ],
          [
           "Alaska",
           "Delaware"
          ],
          [
           "Alaska",
           "District of Columbia"
          ],
          [
           "Alaska",
           "Florida"
          ],
          [
           "Alaska",
           "Georgia"
          ],
          [
           "Alaska",
           "Hawaii"
          ],
          [
           "Alaska",
           "Idaho"
          ],
          [
           "Alaska",
           "Illinois"
          ],
          [
           "Alaska",
           "Indiana"
          ],
          [
           "Alaska",
           "Iowa"
          ],
          [
           "Alaska",
           "Kansas"
          ],
          [
           "Alaska",
           "Kentucky"
          ],
          [
           "Alaska",
           "Louisiana"
          ],
          [
           "Alaska",
           "Maine"
          ],
          [
           "Alaska",
           "Maryland"
          ],
          [
           "Alaska",
           "Massachusetts"
          ],
          [
           "Alaska",
           "Michigan"
          ],
          [
           "Alaska",
           "Minnesota"
          ],
          [
           "Alaska",
           "Mississippi"
          ],
          [
           "Alaska",
           "Missouri"
          ],
          [
           "Alaska",
           "Montana"
          ],
          [
           "Alaska",
           "Nebraska"
          ],
          [
           "Alaska",
           "Nevada"
          ],
          [
           "Alaska",
           "New Hampshire"
          ],
          [
           "Alaska",
           "New Jersey"
          ],
          [
           "Alaska",
           "New Mexico"
          ],
          [
           "Alaska",
           "New York"
          ],
          [
           "Alaska",
           "North Carolina"
          ],
          [
           "Alaska",
           "North Dakota"
          ],
          [
           "Alaska",
           "Ohio"
          ],
          [
           "Alaska",
           "Oklahoma"
          ],
          [
           "Alaska",
           "Oregon"
          ],
          [
           "Alaska",
           "Pennsylvania"
          ],
          [
           "Alaska",
           "Rhode Island"
          ],
          [
           "Alaska",
           "South Carolina"
          ],
          [
           "Alaska",
           "South Dakota"
          ],
          [
           "Alaska",
           "Tennessee"
          ],
          [
           "Alaska",
           "Texas"
          ],
          [
           "Alaska",
           "Utah"
          ],
          [
           "Alaska",
           "Vermont"
          ],
          [
           "Alaska",
           "Virginia"
          ],
          [
           "Alaska",
           "Washington"
          ],
          [
           "Alaska",
           "West Virginia"
          ],
          [
           "Alaska",
           "Wisconsin"
          ],
          [
           "Alaska",
           "Wyoming"
          ],
          [
           "Arizona",
           "Arkansas"
          ],
          [
           "Arizona",
           "California"
          ],
          [
           "Arizona",
           "Colorado"
          ],
          [
           "Arizona",
           "Connecticut"
          ],
          [
           "Arizona",
           "Delaware"
          ],
          [
           "Arizona",
           "District of Columbia"
          ],
          [
           "Arizona",
           "Florida"
          ],
          [
           "Arizona",
           "Georgia"
          ],
          [
           "Arizona",
           "Hawaii"
          ],
          [
           "Arizona",
           "Idaho"
          ],
          [
           "Arizona",
           "Illinois"
          ],
          [
           "Arizona",
           "Indiana"
          ],
          [
           "Arizona",
           "Iowa"
          ],
          [
           "Arizona",
           "Kansas"
          ],
          [
           "Arizona",
           "Kentucky"
          ],
          [
           "Arizona",
           "Louisiana"
          ],
          [
           "Arizona",
           "Maine"
          ],
          [
           "Arizona",
           "Maryland"
          ],
          [
           "Arizona",
           "Massachusetts"
          ],
          [
           "Arizona",
           "Michigan"
          ],
          [
           "Arizona",
           "Minnesota"
          ],
          [
           "Arizona",
           "Mississippi"
          ],
          [
           "Arizona",
           "Missouri"
          ],
          [
           "Arizona",
           "Montana"
          ],
          [
           "Arizona",
           "Nebraska"
          ],
          [
           "Arizona",
           "Nevada"
          ],
          [
           "Arizona",
           "New Hampshire"
          ],
          [
           "Arizona",
           "New Jersey"
          ],
          [
           "Arizona",
           "New Mexico"
          ],
          [
           "Arizona",
           "New York"
          ],
          [
           "Arizona",
           "North Carolina"
          ],
          [
           "Arizona",
           "North Dakota"
          ],
          [
           "Arizona",
           "Ohio"
          ],
          [
           "Arizona",
           "Oklahoma"
          ],
          [
           "Arizona",
           "Oregon"
          ],
          [
           "Arizona",
           "Pennsylvania"
          ],
          [
           "Arizona",
           "Rhode Island"
          ],
          [
           "Arizona",
           "South Carolina"
          ],
          [
           "Arizona",
           "South Dakota"
          ],
          [
           "Arizona",
           "Tennessee"
          ],
          [
           "Arizona",
           "Texas"
          ],
          [
           "Arizona",
           "Utah"
          ],
          [
           "Arizona",
           "Vermont"
          ],
          [
           "Arizona",
           "Virginia"
          ],
          [
           "Arizona",
           "Washington"
          ],
          [
           "Arizona",
           "West Virginia"
          ],
          [
           "Arizona",
           "Wisconsin"
          ],
          [
           "Arizona",
           "Wyoming"
          ],
          [
           "Arkansas",
           "California"
          ],
          [
           "Arkansas",
           "Colorado"
          ],
          [
           "Arkansas",
           "Connecticut"
          ],
          [
           "Arkansas",
           "Delaware"
          ],
          [
           "Arkansas",
           "District of Columbia"
          ],
          [
           "Arkansas",
           "Florida"
          ],
          [
           "Arkansas",
           "Georgia"
          ],
          [
           "Arkansas",
           "Hawaii"
          ],
          [
           "Arkansas",
           "Idaho"
          ],
          [
           "Arkansas",
           "Illinois"
          ],
          [
           "Arkansas",
           "Indiana"
          ],
          [
           "Arkansas",
           "Iowa"
          ],
          [
           "Arkansas",
           "Kansas"
          ],
          [
           "Arkansas",
           "Kentucky"
          ],
          [
           "Arkansas",
           "Louisiana"
          ],
          [
           "Arkansas",
           "Maine"
          ],
          [
           "Arkansas",
           "Maryland"
          ],
          [
           "Arkansas",
           "Massachusetts"
          ],
          [
           "Arkansas",
           "Michigan"
          ],
          [
           "Arkansas",
           "Minnesota"
          ],
          [
           "Arkansas",
           "Mississippi"
          ],
          [
           "Arkansas",
           "Missouri"
          ],
          [
           "Arkansas",
           "Montana"
          ],
          [
           "Arkansas",
           "Nebraska"
          ],
          [
           "Arkansas",
           "Nevada"
          ],
          [
           "Arkansas",
           "New Hampshire"
          ],
          [
           "Arkansas",
           "New Jersey"
          ],
          [
           "Arkansas",
           "New Mexico"
          ],
          [
           "Arkansas",
           "New York"
          ],
          [
           "Arkansas",
           "North Carolina"
          ],
          [
           "Arkansas",
           "North Dakota"
          ],
          [
           "Arkansas",
           "Ohio"
          ],
          [
           "Arkansas",
           "Oklahoma"
          ],
          [
           "Arkansas",
           "Oregon"
          ],
          [
           "Arkansas",
           "Pennsylvania"
          ],
          [
           "Arkansas",
           "Rhode Island"
          ],
          [
           "Arkansas",
           "South Carolina"
          ],
          [
           "Arkansas",
           "South Dakota"
          ],
          [
           "Arkansas",
           "Tennessee"
          ],
          [
           "Arkansas",
           "Texas"
          ],
          [
           "Arkansas",
           "Utah"
          ],
          [
           "Arkansas",
           "Vermont"
          ],
          [
           "Arkansas",
           "Virginia"
          ],
          [
           "Arkansas",
           "Washington"
          ],
          [
           "Arkansas",
           "West Virginia"
          ],
          [
           "Arkansas",
           "Wisconsin"
          ],
          [
           "Arkansas",
           "Wyoming"
          ],
          [
           "California",
           "Colorado"
          ],
          [
           "California",
           "Connecticut"
          ],
          [
           "California",
           "Delaware"
          ],
          [
           "California",
           "District of Columbia"
          ],
          [
           "California",
           "Florida"
          ],
          [
           "California",
           "Georgia"
          ],
          [
           "California",
           "Hawaii"
          ],
          [
           "California",
           "Idaho"
          ],
          [
           "California",
           "Illinois"
          ],
          [
           "California",
           "Indiana"
          ],
          [
           "California",
           "Iowa"
          ],
          [
           "California",
           "Kansas"
          ],
          [
           "California",
           "Kentucky"
          ],
          [
           "California",
           "Louisiana"
          ],
          [
           "California",
           "Maine"
          ],
          [
           "California",
           "Maryland"
          ],
          [
           "California",
           "Massachusetts"
          ],
          [
           "California",
           "Michigan"
          ],
          [
           "California",
           "Minnesota"
          ],
          [
           "California",
           "Mississippi"
          ],
          [
           "California",
           "Missouri"
          ],
          [
           "California",
           "Montana"
          ],
          [
           "California",
           "Nebraska"
          ],
          [
           "California",
           "Nevada"
          ],
          [
           "California",
           "New Hampshire"
          ],
          [
           "California",
           "New Jersey"
          ],
          [
           "California",
           "New Mexico"
          ],
          [
           "California",
           "New York"
          ],
          [
           "California",
           "North Carolina"
          ],
          [
           "California",
           "North Dakota"
          ],
          [
           "California",
           "Ohio"
          ],
          [
           "California",
           "Oklahoma"
          ],
          [
           "California",
           "Oregon"
          ],
          [
           "California",
           "Pennsylvania"
          ],
          [
           "California",
           "Rhode Island"
          ],
          [
           "California",
           "South Carolina"
          ],
          [
           "California",
           "South Dakota"
          ],
          [
           "California",
           "Tennessee"
          ],
          [
           "California",
           "Texas"
          ],
          [
           "California",
           "Utah"
          ],
          [
           "California",
           "Vermont"
          ],
          [
           "California",
           "Virginia"
          ],
          [
           "California",
           "Washington"
          ],
          [
           "California",
           "West Virginia"
          ],
          [
           "California",
           "Wisconsin"
          ],
          [
           "California",
           "Wyoming"
          ],
          [
           "Colorado",
           "Connecticut"
          ],
          [
           "Colorado",
           "Delaware"
          ],
          [
           "Colorado",
           "District of Columbia"
          ],
          [
           "Colorado",
           "Florida"
          ],
          [
           "Colorado",
           "Georgia"
          ],
          [
           "Colorado",
           "Hawaii"
          ],
          [
           "Colorado",
           "Idaho"
          ],
          [
           "Colorado",
           "Illinois"
          ],
          [
           "Colorado",
           "Indiana"
          ],
          [
           "Colorado",
           "Iowa"
          ],
          [
           "Colorado",
           "Kansas"
          ],
          [
           "Colorado",
           "Kentucky"
          ],
          [
           "Colorado",
           "Louisiana"
          ],
          [
           "Colorado",
           "Maine"
          ],
          [
           "Colorado",
           "Maryland"
          ],
          [
           "Colorado",
           "Massachusetts"
          ],
          [
           "Colorado",
           "Michigan"
          ],
          [
           "Colorado",
           "Minnesota"
          ],
          [
           "Colorado",
           "Mississippi"
          ],
          [
           "Colorado",
           "Missouri"
          ],
          [
           "Colorado",
           "Montana"
          ],
          [
           "Colorado",
           "Nebraska"
          ],
          [
           "Colorado",
           "Nevada"
          ],
          [
           "Colorado",
           "New Hampshire"
          ],
          [
           "Colorado",
           "New Jersey"
          ],
          [
           "Colorado",
           "New Mexico"
          ],
          [
           "Colorado",
           "New York"
          ],
          [
           "Colorado",
           "North Carolina"
          ],
          [
           "Colorado",
           "North Dakota"
          ],
          [
           "Colorado",
           "Ohio"
          ],
          [
           "Colorado",
           "Oklahoma"
          ],
          [
           "Colorado",
           "Oregon"
          ],
          [
           "Colorado",
           "Pennsylvania"
          ],
          [
           "Colorado",
           "Rhode Island"
          ],
          [
           "Colorado",
           "South Carolina"
          ],
          [
           "Colorado",
           "South Dakota"
          ],
          [
           "Colorado",
           "Tennessee"
          ],
          [
           "Colorado",
           "Texas"
          ],
          [
           "Colorado",
           "Utah"
          ],
          [
           "Colorado",
           "Vermont"
          ],
          [
           "Colorado",
           "Virginia"
          ],
          [
           "Colorado",
           "Washington"
          ],
          [
           "Colorado",
           "West Virginia"
          ],
          [
           "Colorado",
           "Wisconsin"
          ],
          [
           "Colorado",
           "Wyoming"
          ],
          [
           "Connecticut",
           "Delaware"
          ],
          [
           "Connecticut",
           "District of Columbia"
          ],
          [
           "Connecticut",
           "Florida"
          ],
          [
           "Connecticut",
           "Georgia"
          ],
          [
           "Connecticut",
           "Hawaii"
          ],
          [
           "Connecticut",
           "Idaho"
          ],
          [
           "Connecticut",
           "Illinois"
          ],
          [
           "Connecticut",
           "Indiana"
          ],
          [
           "Connecticut",
           "Iowa"
          ],
          [
           "Connecticut",
           "Kansas"
          ],
          [
           "Connecticut",
           "Kentucky"
          ],
          [
           "Connecticut",
           "Louisiana"
          ],
          [
           "Connecticut",
           "Maine"
          ],
          [
           "Connecticut",
           "Maryland"
          ],
          [
           "Connecticut",
           "Massachusetts"
          ],
          [
           "Connecticut",
           "Michigan"
          ],
          [
           "Connecticut",
           "Minnesota"
          ],
          [
           "Connecticut",
           "Mississippi"
          ],
          [
           "Connecticut",
           "Missouri"
          ],
          [
           "Connecticut",
           "Montana"
          ],
          [
           "Connecticut",
           "Nebraska"
          ],
          [
           "Connecticut",
           "Nevada"
          ],
          [
           "Connecticut",
           "New Hampshire"
          ],
          [
           "Connecticut",
           "New Jersey"
          ],
          [
           "Connecticut",
           "New Mexico"
          ],
          [
           "Connecticut",
           "New York"
          ],
          [
           "Connecticut",
           "North Carolina"
          ],
          [
           "Connecticut",
           "North Dakota"
          ],
          [
           "Connecticut",
           "Ohio"
          ],
          [
           "Connecticut",
           "Oklahoma"
          ],
          [
           "Connecticut",
           "Oregon"
          ],
          [
           "Connecticut",
           "Pennsylvania"
          ],
          [
           "Connecticut",
           "Rhode Island"
          ],
          [
           "Connecticut",
           "South Carolina"
          ],
          [
           "Connecticut",
           "South Dakota"
          ],
          [
           "Connecticut",
           "Tennessee"
          ],
          [
           "Connecticut",
           "Texas"
          ],
          [
           "Connecticut",
           "Utah"
          ],
          [
           "Connecticut",
           "Vermont"
          ],
          [
           "Connecticut",
           "Virginia"
          ],
          [
           "Connecticut",
           "Washington"
          ],
          [
           "Connecticut",
           "West Virginia"
          ],
          [
           "Connecticut",
           "Wisconsin"
          ],
          [
           "Connecticut",
           "Wyoming"
          ],
          [
           "Delaware",
           "District of Columbia"
          ],
          [
           "Delaware",
           "Florida"
          ],
          [
           "Delaware",
           "Georgia"
          ],
          [
           "Delaware",
           "Hawaii"
          ],
          [
           "Delaware",
           "Idaho"
          ],
          [
           "Delaware",
           "Illinois"
          ],
          [
           "Delaware",
           "Indiana"
          ],
          [
           "Delaware",
           "Iowa"
          ],
          [
           "Delaware",
           "Kansas"
          ],
          [
           "Delaware",
           "Kentucky"
          ],
          [
           "Delaware",
           "Louisiana"
          ],
          [
           "Delaware",
           "Maine"
          ],
          [
           "Delaware",
           "Maryland"
          ],
          [
           "Delaware",
           "Massachusetts"
          ],
          [
           "Delaware",
           "Michigan"
          ],
          [
           "Delaware",
           "Minnesota"
          ],
          [
           "Delaware",
           "Mississippi"
          ],
          [
           "Delaware",
           "Missouri"
          ],
          [
           "Delaware",
           "Montana"
          ],
          [
           "Delaware",
           "Nebraska"
          ],
          [
           "Delaware",
           "Nevada"
          ],
          [
           "Delaware",
           "New Hampshire"
          ],
          [
           "Delaware",
           "New Jersey"
          ],
          [
           "Delaware",
           "New Mexico"
          ],
          [
           "Delaware",
           "New York"
          ],
          [
           "Delaware",
           "North Carolina"
          ],
          [
           "Delaware",
           "North Dakota"
          ],
          [
           "Delaware",
           "Ohio"
          ],
          [
           "Delaware",
           "Oklahoma"
          ],
          [
           "Delaware",
           "Oregon"
          ],
          [
           "Delaware",
           "Pennsylvania"
          ],
          [
           "Delaware",
           "Rhode Island"
          ],
          [
           "Delaware",
           "South Carolina"
          ],
          [
           "Delaware",
           "South Dakota"
          ],
          [
           "Delaware",
           "Tennessee"
          ],
          [
           "Delaware",
           "Texas"
          ],
          [
           "Delaware",
           "Utah"
          ],
          [
           "Delaware",
           "Vermont"
          ],
          [
           "Delaware",
           "Virginia"
          ],
          [
           "Delaware",
           "Washington"
          ],
          [
           "Delaware",
           "West Virginia"
          ],
          [
           "Delaware",
           "Wisconsin"
          ],
          [
           "Delaware",
           "Wyoming"
          ],
          [
           "District of Columbia",
           "Florida"
          ],
          [
           "District of Columbia",
           "Georgia"
          ],
          [
           "District of Columbia",
           "Hawaii"
          ],
          [
           "District of Columbia",
           "Idaho"
          ],
          [
           "District of Columbia",
           "Illinois"
          ],
          [
           "District of Columbia",
           "Indiana"
          ],
          [
           "District of Columbia",
           "Iowa"
          ],
          [
           "District of Columbia",
           "Kansas"
          ],
          [
           "District of Columbia",
           "Kentucky"
          ],
          [
           "District of Columbia",
           "Louisiana"
          ],
          [
           "District of Columbia",
           "Maine"
          ],
          [
           "District of Columbia",
           "Maryland"
          ],
          [
           "District of Columbia",
           "Massachusetts"
          ],
          [
           "District of Columbia",
           "Michigan"
          ],
          [
           "District of Columbia",
           "Minnesota"
          ],
          [
           "District of Columbia",
           "Mississippi"
          ],
          [
           "District of Columbia",
           "Missouri"
          ],
          [
           "District of Columbia",
           "Montana"
          ],
          [
           "District of Columbia",
           "Nebraska"
          ],
          [
           "District of Columbia",
           "Nevada"
          ],
          [
           "District of Columbia",
           "New Hampshire"
          ],
          [
           "District of Columbia",
           "New Jersey"
          ],
          [
           "District of Columbia",
           "New Mexico"
          ],
          [
           "District of Columbia",
           "New York"
          ],
          [
           "District of Columbia",
           "North Carolina"
          ],
          [
           "District of Columbia",
           "North Dakota"
          ],
          [
           "District of Columbia",
           "Ohio"
          ],
          [
           "District of Columbia",
           "Oklahoma"
          ],
          [
           "District of Columbia",
           "Oregon"
          ],
          [
           "District of Columbia",
           "Pennsylvania"
          ],
          [
           "District of Columbia",
           "Rhode Island"
          ],
          [
           "District of Columbia",
           "South Carolina"
          ],
          [
           "District of Columbia",
           "South Dakota"
          ],
          [
           "District of Columbia",
           "Tennessee"
          ],
          [
           "District of Columbia",
           "Texas"
          ],
          [
           "District of Columbia",
           "Utah"
          ],
          [
           "District of Columbia",
           "Vermont"
          ],
          [
           "District of Columbia",
           "Virginia"
          ],
          [
           "District of Columbia",
           "Washington"
          ],
          [
           "District of Columbia",
           "West Virginia"
          ],
          [
           "District of Columbia",
           "Wisconsin"
          ],
          [
           "District of Columbia",
           "Wyoming"
          ],
          [
           "Florida",
           "Georgia"
          ],
          [
           "Florida",
           "Hawaii"
          ],
          [
           "Florida",
           "Idaho"
          ],
          [
           "Florida",
           "Illinois"
          ],
          [
           "Florida",
           "Indiana"
          ],
          [
           "Florida",
           "Iowa"
          ],
          [
           "Florida",
           "Kansas"
          ],
          [
           "Florida",
           "Kentucky"
          ],
          [
           "Florida",
           "Louisiana"
          ],
          [
           "Florida",
           "Maine"
          ],
          [
           "Florida",
           "Maryland"
          ],
          [
           "Florida",
           "Massachusetts"
          ],
          [
           "Florida",
           "Michigan"
          ],
          [
           "Florida",
           "Minnesota"
          ],
          [
           "Florida",
           "Mississippi"
          ],
          [
           "Florida",
           "Missouri"
          ],
          [
           "Florida",
           "Montana"
          ],
          [
           "Florida",
           "Nebraska"
          ],
          [
           "Florida",
           "Nevada"
          ],
          [
           "Florida",
           "New Hampshire"
          ],
          [
           "Florida",
           "New Jersey"
          ],
          [
           "Florida",
           "New Mexico"
          ],
          [
           "Florida",
           "New York"
          ],
          [
           "Florida",
           "North Carolina"
          ],
          [
           "Florida",
           "North Dakota"
          ],
          [
           "Florida",
           "Ohio"
          ],
          [
           "Florida",
           "Oklahoma"
          ],
          [
           "Florida",
           "Oregon"
          ],
          [
           "Florida",
           "Pennsylvania"
          ],
          [
           "Florida",
           "Rhode Island"
          ],
          [
           "Florida",
           "South Carolina"
          ],
          [
           "Florida",
           "South Dakota"
          ],
          [
           "Florida",
           "Tennessee"
          ],
          [
           "Florida",
           "Texas"
          ],
          [
           "Florida",
           "Utah"
          ],
          [
           "Florida",
           "Vermont"
          ],
          [
           "Florida",
           "Virginia"
          ],
          [
           "Florida",
           "Washington"
          ],
          [
           "Florida",
           "West Virginia"
          ],
          [
           "Florida",
           "Wisconsin"
          ],
          [
           "Florida",
           "Wyoming"
          ],
          [
           "Georgia",
           "Hawaii"
          ],
          [
           "Georgia",
           "Idaho"
          ],
          [
           "Georgia",
           "Illinois"
          ],
          [
           "Georgia",
           "Indiana"
          ],
          [
           "Georgia",
           "Iowa"
          ],
          [
           "Georgia",
           "Kansas"
          ],
          [
           "Georgia",
           "Kentucky"
          ],
          [
           "Georgia",
           "Louisiana"
          ],
          [
           "Georgia",
           "Maine"
          ],
          [
           "Georgia",
           "Maryland"
          ],
          [
           "Georgia",
           "Massachusetts"
          ],
          [
           "Georgia",
           "Michigan"
          ],
          [
           "Georgia",
           "Minnesota"
          ],
          [
           "Georgia",
           "Mississippi"
          ],
          [
           "Georgia",
           "Missouri"
          ],
          [
           "Georgia",
           "Montana"
          ],
          [
           "Georgia",
           "Nebraska"
          ],
          [
           "Georgia",
           "Nevada"
          ],
          [
           "Georgia",
           "New Hampshire"
          ],
          [
           "Georgia",
           "New Jersey"
          ],
          [
           "Georgia",
           "New Mexico"
          ],
          [
           "Georgia",
           "New York"
          ],
          [
           "Georgia",
           "North Carolina"
          ],
          [
           "Georgia",
           "North Dakota"
          ],
          [
           "Georgia",
           "Ohio"
          ],
          [
           "Georgia",
           "Oklahoma"
          ],
          [
           "Georgia",
           "Oregon"
          ],
          [
           "Georgia",
           "Pennsylvania"
          ],
          [
           "Georgia",
           "Rhode Island"
          ],
          [
           "Georgia",
           "South Carolina"
          ],
          [
           "Georgia",
           "South Dakota"
          ],
          [
           "Georgia",
           "Tennessee"
          ],
          [
           "Georgia",
           "Texas"
          ],
          [
           "Georgia",
           "Utah"
          ],
          [
           "Georgia",
           "Vermont"
          ],
          [
           "Georgia",
           "Virginia"
          ],
          [
           "Georgia",
           "Washington"
          ],
          [
           "Georgia",
           "West Virginia"
          ],
          [
           "Georgia",
           "Wisconsin"
          ],
          [
           "Georgia",
           "Wyoming"
          ],
          [
           "Hawaii",
           "Idaho"
          ],
          [
           "Hawaii",
           "Illinois"
          ],
          [
           "Hawaii",
           "Indiana"
          ],
          [
           "Hawaii",
           "Iowa"
          ],
          [
           "Hawaii",
           "Kansas"
          ],
          [
           "Hawaii",
           "Kentucky"
          ],
          [
           "Hawaii",
           "Louisiana"
          ],
          [
           "Hawaii",
           "Maine"
          ],
          [
           "Hawaii",
           "Maryland"
          ],
          [
           "Hawaii",
           "Massachusetts"
          ],
          [
           "Hawaii",
           "Michigan"
          ],
          [
           "Hawaii",
           "Minnesota"
          ],
          [
           "Hawaii",
           "Mississippi"
          ],
          [
           "Hawaii",
           "Missouri"
          ],
          [
           "Hawaii",
           "Montana"
          ],
          [
           "Hawaii",
           "Nebraska"
          ],
          [
           "Hawaii",
           "Nevada"
          ],
          [
           "Hawaii",
           "New Hampshire"
          ],
          [
           "Hawaii",
           "New Jersey"
          ],
          [
           "Hawaii",
           "New Mexico"
          ],
          [
           "Hawaii",
           "New York"
          ],
          [
           "Hawaii",
           "North Carolina"
          ],
          [
           "Hawaii",
           "North Dakota"
          ],
          [
           "Hawaii",
           "Ohio"
          ],
          [
           "Hawaii",
           "Oklahoma"
          ],
          [
           "Hawaii",
           "Oregon"
          ],
          [
           "Hawaii",
           "Pennsylvania"
          ],
          [
           "Hawaii",
           "Rhode Island"
          ],
          [
           "Hawaii",
           "South Carolina"
          ],
          [
           "Hawaii",
           "South Dakota"
          ],
          [
           "Hawaii",
           "Tennessee"
          ],
          [
           "Hawaii",
           "Texas"
          ],
          [
           "Hawaii",
           "Utah"
          ],
          [
           "Hawaii",
           "Vermont"
          ],
          [
           "Hawaii",
           "Virginia"
          ],
          [
           "Hawaii",
           "Washington"
          ],
          [
           "Hawaii",
           "West Virginia"
          ],
          [
           "Hawaii",
           "Wisconsin"
          ],
          [
           "Hawaii",
           "Wyoming"
          ],
          [
           "Idaho",
           "Illinois"
          ],
          [
           "Idaho",
           "Indiana"
          ],
          [
           "Idaho",
           "Iowa"
          ],
          [
           "Idaho",
           "Kansas"
          ],
          [
           "Idaho",
           "Kentucky"
          ],
          [
           "Idaho",
           "Louisiana"
          ],
          [
           "Idaho",
           "Maine"
          ],
          [
           "Idaho",
           "Maryland"
          ],
          [
           "Idaho",
           "Massachusetts"
          ],
          [
           "Idaho",
           "Michigan"
          ],
          [
           "Idaho",
           "Minnesota"
          ],
          [
           "Idaho",
           "Mississippi"
          ],
          [
           "Idaho",
           "Missouri"
          ],
          [
           "Idaho",
           "Montana"
          ],
          [
           "Idaho",
           "Nebraska"
          ],
          [
           "Idaho",
           "Nevada"
          ],
          [
           "Idaho",
           "New Hampshire"
          ],
          [
           "Idaho",
           "New Jersey"
          ],
          [
           "Idaho",
           "New Mexico"
          ],
          [
           "Idaho",
           "New York"
          ],
          [
           "Idaho",
           "North Carolina"
          ],
          [
           "Idaho",
           "North Dakota"
          ],
          [
           "Idaho",
           "Ohio"
          ],
          [
           "Idaho",
           "Oklahoma"
          ],
          [
           "Idaho",
           "Oregon"
          ],
          [
           "Idaho",
           "Pennsylvania"
          ],
          [
           "Idaho",
           "Rhode Island"
          ],
          [
           "Idaho",
           "South Carolina"
          ],
          [
           "Idaho",
           "South Dakota"
          ],
          [
           "Idaho",
           "Tennessee"
          ],
          [
           "Idaho",
           "Texas"
          ],
          [
           "Idaho",
           "Utah"
          ],
          [
           "Idaho",
           "Vermont"
          ],
          [
           "Idaho",
           "Virginia"
          ],
          [
           "Idaho",
           "Washington"
          ],
          [
           "Idaho",
           "West Virginia"
          ],
          [
           "Idaho",
           "Wisconsin"
          ],
          [
           "Idaho",
           "Wyoming"
          ],
          [
           "Illinois",
           "Indiana"
          ],
          [
           "Illinois",
           "Iowa"
          ],
          [
           "Illinois",
           "Kansas"
          ],
          [
           "Illinois",
           "Kentucky"
          ],
          [
           "Illinois",
           "Louisiana"
          ],
          [
           "Illinois",
           "Maine"
          ],
          [
           "Illinois",
           "Maryland"
          ],
          [
           "Illinois",
           "Massachusetts"
          ],
          [
           "Illinois",
           "Michigan"
          ],
          [
           "Illinois",
           "Minnesota"
          ],
          [
           "Illinois",
           "Mississippi"
          ],
          [
           "Illinois",
           "Missouri"
          ],
          [
           "Illinois",
           "Montana"
          ],
          [
           "Illinois",
           "Nebraska"
          ],
          [
           "Illinois",
           "Nevada"
          ],
          [
           "Illinois",
           "New Hampshire"
          ],
          [
           "Illinois",
           "New Jersey"
          ],
          [
           "Illinois",
           "New Mexico"
          ],
          [
           "Illinois",
           "New York"
          ],
          [
           "Illinois",
           "North Carolina"
          ],
          [
           "Illinois",
           "North Dakota"
          ],
          [
           "Illinois",
           "Ohio"
          ],
          [
           "Illinois",
           "Oklahoma"
          ],
          [
           "Illinois",
           "Oregon"
          ],
          [
           "Illinois",
           "Pennsylvania"
          ],
          [
           "Illinois",
           "Rhode Island"
          ],
          [
           "Illinois",
           "South Carolina"
          ],
          [
           "Illinois",
           "South Dakota"
          ],
          [
           "Illinois",
           "Tennessee"
          ],
          [
           "Illinois",
           "Texas"
          ],
          [
           "Illinois",
           "Utah"
          ],
          [
           "Illinois",
           "Vermont"
          ],
          [
           "Illinois",
           "Virginia"
          ],
          [
           "Illinois",
           "Washington"
          ],
          [
           "Illinois",
           "West Virginia"
          ],
          [
           "Illinois",
           "Wisconsin"
          ],
          [
           "Illinois",
           "Wyoming"
          ],
          [
           "Indiana",
           "Iowa"
          ],
          [
           "Indiana",
           "Kansas"
          ],
          [
           "Indiana",
           "Kentucky"
          ],
          [
           "Indiana",
           "Louisiana"
          ],
          [
           "Indiana",
           "Maine"
          ],
          [
           "Indiana",
           "Maryland"
          ],
          [
           "Indiana",
           "Massachusetts"
          ],
          [
           "Indiana",
           "Michigan"
          ],
          [
           "Indiana",
           "Minnesota"
          ],
          [
           "Indiana",
           "Mississippi"
          ],
          [
           "Indiana",
           "Missouri"
          ],
          [
           "Indiana",
           "Montana"
          ],
          [
           "Indiana",
           "Nebraska"
          ],
          [
           "Indiana",
           "Nevada"
          ],
          [
           "Indiana",
           "New Hampshire"
          ],
          [
           "Indiana",
           "New Jersey"
          ],
          [
           "Indiana",
           "New Mexico"
          ],
          [
           "Indiana",
           "New York"
          ],
          [
           "Indiana",
           "North Carolina"
          ],
          [
           "Indiana",
           "North Dakota"
          ],
          [
           "Indiana",
           "Ohio"
          ],
          [
           "Indiana",
           "Oklahoma"
          ],
          [
           "Indiana",
           "Oregon"
          ],
          [
           "Indiana",
           "Pennsylvania"
          ],
          [
           "Indiana",
           "Rhode Island"
          ],
          [
           "Indiana",
           "South Carolina"
          ],
          [
           "Indiana",
           "South Dakota"
          ],
          [
           "Indiana",
           "Tennessee"
          ],
          [
           "Indiana",
           "Texas"
          ],
          [
           "Indiana",
           "Utah"
          ],
          [
           "Indiana",
           "Vermont"
          ],
          [
           "Indiana",
           "Virginia"
          ],
          [
           "Indiana",
           "Washington"
          ],
          [
           "Indiana",
           "West Virginia"
          ],
          [
           "Indiana",
           "Wisconsin"
          ],
          [
           "Indiana",
           "Wyoming"
          ],
          [
           "Iowa",
           "Kansas"
          ],
          [
           "Iowa",
           "Kentucky"
          ],
          [
           "Iowa",
           "Louisiana"
          ],
          [
           "Iowa",
           "Maine"
          ],
          [
           "Iowa",
           "Maryland"
          ],
          [
           "Iowa",
           "Massachusetts"
          ],
          [
           "Iowa",
           "Michigan"
          ],
          [
           "Iowa",
           "Minnesota"
          ],
          [
           "Iowa",
           "Mississippi"
          ],
          [
           "Iowa",
           "Missouri"
          ],
          [
           "Iowa",
           "Montana"
          ],
          [
           "Iowa",
           "Nebraska"
          ],
          [
           "Iowa",
           "Nevada"
          ],
          [
           "Iowa",
           "New Hampshire"
          ],
          [
           "Iowa",
           "New Jersey"
          ],
          [
           "Iowa",
           "New Mexico"
          ],
          [
           "Iowa",
           "New York"
          ],
          [
           "Iowa",
           "North Carolina"
          ],
          [
           "Iowa",
           "North Dakota"
          ],
          [
           "Iowa",
           "Ohio"
          ],
          [
           "Iowa",
           "Oklahoma"
          ],
          [
           "Iowa",
           "Oregon"
          ],
          [
           "Iowa",
           "Pennsylvania"
          ],
          [
           "Iowa",
           "Rhode Island"
          ],
          [
           "Iowa",
           "South Carolina"
          ],
          [
           "Iowa",
           "South Dakota"
          ],
          [
           "Iowa",
           "Tennessee"
          ],
          [
           "Iowa",
           "Texas"
          ],
          [
           "Iowa",
           "Utah"
          ],
          [
           "Iowa",
           "Vermont"
          ],
          [
           "Iowa",
           "Virginia"
          ],
          [
           "Iowa",
           "Washington"
          ],
          [
           "Iowa",
           "West Virginia"
          ],
          [
           "Iowa",
           "Wisconsin"
          ],
          [
           "Iowa",
           "Wyoming"
          ],
          [
           "Kansas",
           "Kentucky"
          ],
          [
           "Kansas",
           "Louisiana"
          ],
          [
           "Kansas",
           "Maine"
          ],
          [
           "Kansas",
           "Maryland"
          ],
          [
           "Kansas",
           "Massachusetts"
          ],
          [
           "Kansas",
           "Michigan"
          ],
          [
           "Kansas",
           "Minnesota"
          ],
          [
           "Kansas",
           "Mississippi"
          ],
          [
           "Kansas",
           "Missouri"
          ],
          [
           "Kansas",
           "Montana"
          ],
          [
           "Kansas",
           "Nebraska"
          ],
          [
           "Kansas",
           "Nevada"
          ],
          [
           "Kansas",
           "New Hampshire"
          ],
          [
           "Kansas",
           "New Jersey"
          ],
          [
           "Kansas",
           "New Mexico"
          ],
          [
           "Kansas",
           "New York"
          ],
          [
           "Kansas",
           "North Carolina"
          ],
          [
           "Kansas",
           "North Dakota"
          ],
          [
           "Kansas",
           "Ohio"
          ],
          [
           "Kansas",
           "Oklahoma"
          ],
          [
           "Kansas",
           "Oregon"
          ],
          [
           "Kansas",
           "Pennsylvania"
          ],
          [
           "Kansas",
           "Rhode Island"
          ],
          [
           "Kansas",
           "South Carolina"
          ],
          [
           "Kansas",
           "South Dakota"
          ],
          [
           "Kansas",
           "Tennessee"
          ],
          [
           "Kansas",
           "Texas"
          ],
          [
           "Kansas",
           "Utah"
          ],
          [
           "Kansas",
           "Vermont"
          ],
          [
           "Kansas",
           "Virginia"
          ],
          [
           "Kansas",
           "Washington"
          ],
          [
           "Kansas",
           "West Virginia"
          ],
          [
           "Kansas",
           "Wisconsin"
          ],
          [
           "Kansas",
           "Wyoming"
          ],
          [
           "Kentucky",
           "Louisiana"
          ],
          [
           "Kentucky",
           "Maine"
          ],
          [
           "Kentucky",
           "Maryland"
          ],
          [
           "Kentucky",
           "Massachusetts"
          ],
          [
           "Kentucky",
           "Michigan"
          ],
          [
           "Kentucky",
           "Minnesota"
          ],
          [
           "Kentucky",
           "Mississippi"
          ],
          [
           "Kentucky",
           "Missouri"
          ],
          [
           "Kentucky",
           "Montana"
          ],
          [
           "Kentucky",
           "Nebraska"
          ],
          [
           "Kentucky",
           "Nevada"
          ],
          [
           "Kentucky",
           "New Hampshire"
          ],
          [
           "Kentucky",
           "New Jersey"
          ],
          [
           "Kentucky",
           "New Mexico"
          ],
          [
           "Kentucky",
           "New York"
          ],
          [
           "Kentucky",
           "North Carolina"
          ],
          [
           "Kentucky",
           "North Dakota"
          ],
          [
           "Kentucky",
           "Ohio"
          ],
          [
           "Kentucky",
           "Oklahoma"
          ],
          [
           "Kentucky",
           "Oregon"
          ],
          [
           "Kentucky",
           "Pennsylvania"
          ],
          [
           "Kentucky",
           "Rhode Island"
          ],
          [
           "Kentucky",
           "South Carolina"
          ],
          [
           "Kentucky",
           "South Dakota"
          ],
          [
           "Kentucky",
           "Tennessee"
          ],
          [
           "Kentucky",
           "Texas"
          ],
          [
           "Kentucky",
           "Utah"
          ],
          [
           "Kentucky",
           "Vermont"
          ],
          [
           "Kentucky",
           "Virginia"
          ],
          [
           "Kentucky",
           "Washington"
          ],
          [
           "Kentucky",
           "West Virginia"
          ],
          [
           "Kentucky",
           "Wisconsin"
          ],
          [
           "Kentucky",
           "Wyoming"
          ],
          [
           "Louisiana",
           "Maine"
          ],
          [
           "Louisiana",
           "Maryland"
          ],
          [
           "Louisiana",
           "Massachusetts"
          ],
          [
           "Louisiana",
           "Michigan"
          ],
          [
           "Louisiana",
           "Minnesota"
          ],
          [
           "Louisiana",
           "Mississippi"
          ],
          [
           "Louisiana",
           "Missouri"
          ],
          [
           "Louisiana",
           "Montana"
          ],
          [
           "Louisiana",
           "Nebraska"
          ],
          [
           "Louisiana",
           "Nevada"
          ],
          [
           "Louisiana",
           "New Hampshire"
          ],
          [
           "Louisiana",
           "New Jersey"
          ],
          [
           "Louisiana",
           "New Mexico"
          ],
          [
           "Louisiana",
           "New York"
          ],
          [
           "Louisiana",
           "North Carolina"
          ],
          [
           "Louisiana",
           "North Dakota"
          ],
          [
           "Louisiana",
           "Ohio"
          ],
          [
           "Louisiana",
           "Oklahoma"
          ],
          [
           "Louisiana",
           "Oregon"
          ],
          [
           "Louisiana",
           "Pennsylvania"
          ],
          [
           "Louisiana",
           "Rhode Island"
          ],
          [
           "Louisiana",
           "South Carolina"
          ],
          [
           "Louisiana",
           "South Dakota"
          ],
          [
           "Louisiana",
           "Tennessee"
          ],
          [
           "Louisiana",
           "Texas"
          ],
          [
           "Louisiana",
           "Utah"
          ],
          [
           "Louisiana",
           "Vermont"
          ],
          [
           "Louisiana",
           "Virginia"
          ],
          [
           "Louisiana",
           "Washington"
          ],
          [
           "Louisiana",
           "West Virginia"
          ],
          [
           "Louisiana",
           "Wisconsin"
          ],
          [
           "Louisiana",
           "Wyoming"
          ],
          [
           "Maine",
           "Maryland"
          ],
          [
           "Maine",
           "Massachusetts"
          ],
          [
           "Maine",
           "Michigan"
          ],
          [
           "Maine",
           "Minnesota"
          ],
          [
           "Maine",
           "Mississippi"
          ],
          [
           "Maine",
           "Missouri"
          ],
          [
           "Maine",
           "Montana"
          ],
          [
           "Maine",
           "Nebraska"
          ],
          [
           "Maine",
           "Nevada"
          ],
          [
           "Maine",
           "New Hampshire"
          ],
          [
           "Maine",
           "New Jersey"
          ],
          [
           "Maine",
           "New Mexico"
          ],
          [
           "Maine",
           "New York"
          ],
          [
           "Maine",
           "North Carolina"
          ],
          [
           "Maine",
           "North Dakota"
          ],
          [
           "Maine",
           "Ohio"
          ],
          [
           "Maine",
           "Oklahoma"
          ],
          [
           "Maine",
           "Oregon"
          ],
          [
           "Maine",
           "Pennsylvania"
          ],
          [
           "Maine",
           "Rhode Island"
          ],
          [
           "Maine",
           "South Carolina"
          ],
          [
           "Maine",
           "South Dakota"
          ],
          [
           "Maine",
           "Tennessee"
          ],
          [
           "Maine",
           "Texas"
          ],
          [
           "Maine",
           "Utah"
          ],
          [
           "Maine",
           "Vermont"
          ],
          [
           "Maine",
           "Virginia"
          ],
          [
           "Maine",
           "Washington"
          ],
          [
           "Maine",
           "West Virginia"
          ],
          [
           "Maine",
           "Wisconsin"
          ],
          [
           "Maine",
           "Wyoming"
          ],
          [
           "Maryland",
           "Massachusetts"
          ],
          [
           "Maryland",
           "Michigan"
          ],
          [
           "Maryland",
           "Minnesota"
          ],
          [
           "Maryland",
           "Mississippi"
          ],
          [
           "Maryland",
           "Missouri"
          ],
          [
           "Maryland",
           "Montana"
          ],
          [
           "Maryland",
           "Nebraska"
          ],
          [
           "Maryland",
           "Nevada"
          ],
          [
           "Maryland",
           "New Hampshire"
          ],
          [
           "Maryland",
           "New Jersey"
          ],
          [
           "Maryland",
           "New Mexico"
          ],
          [
           "Maryland",
           "New York"
          ],
          [
           "Maryland",
           "North Carolina"
          ],
          [
           "Maryland",
           "North Dakota"
          ],
          [
           "Maryland",
           "Ohio"
          ],
          [
           "Maryland",
           "Oklahoma"
          ],
          [
           "Maryland",
           "Oregon"
          ],
          [
           "Maryland",
           "Pennsylvania"
          ],
          [
           "Maryland",
           "Rhode Island"
          ],
          [
           "Maryland",
           "South Carolina"
          ],
          [
           "Maryland",
           "South Dakota"
          ],
          [
           "Maryland",
           "Tennessee"
          ],
          [
           "Maryland",
           "Texas"
          ],
          [
           "Maryland",
           "Utah"
          ],
          [
           "Maryland",
           "Vermont"
          ],
          [
           "Maryland",
           "Virginia"
          ],
          [
           "Maryland",
           "Washington"
          ],
          [
           "Maryland",
           "West Virginia"
          ],
          [
           "Maryland",
           "Wisconsin"
          ],
          [
           "Maryland",
           "Wyoming"
          ],
          [
           "Massachusetts",
           "Michigan"
          ],
          [
           "Massachusetts",
           "Minnesota"
          ],
          [
           "Massachusetts",
           "Mississippi"
          ],
          [
           "Massachusetts",
           "Missouri"
          ],
          [
           "Massachusetts",
           "Montana"
          ],
          [
           "Massachusetts",
           "Nebraska"
          ],
          [
           "Massachusetts",
           "Nevada"
          ],
          [
           "Massachusetts",
           "New Hampshire"
          ],
          [
           "Massachusetts",
           "New Jersey"
          ],
          [
           "Massachusetts",
           "New Mexico"
          ],
          [
           "Massachusetts",
           "New York"
          ],
          [
           "Massachusetts",
           "North Carolina"
          ],
          [
           "Massachusetts",
           "North Dakota"
          ],
          [
           "Massachusetts",
           "Ohio"
          ],
          [
           "Massachusetts",
           "Oklahoma"
          ],
          [
           "Massachusetts",
           "Oregon"
          ],
          [
           "Massachusetts",
           "Pennsylvania"
          ],
          [
           "Massachusetts",
           "Rhode Island"
          ],
          [
           "Massachusetts",
           "South Carolina"
          ],
          [
           "Massachusetts",
           "South Dakota"
          ],
          [
           "Massachusetts",
           "Tennessee"
          ],
          [
           "Massachusetts",
           "Texas"
          ],
          [
           "Massachusetts",
           "Utah"
          ],
          [
           "Massachusetts",
           "Vermont"
          ],
          [
           "Massachusetts",
           "Virginia"
          ],
          [
           "Massachusetts",
           "Washington"
          ],
          [
           "Massachusetts",
           "West Virginia"
          ],
          [
           "Massachusetts",
           "Wisconsin"
          ],
          [
           "Massachusetts",
           "Wyoming"
          ],
          [
           "Michigan",
           "Minnesota"
          ],
          [
           "Michigan",
           "Mississippi"
          ],
          [
           "Michigan",
           "Missouri"
          ],
          [
           "Michigan",
           "Montana"
          ],
          [
           "Michigan",
           "Nebraska"
          ],
          [
           "Michigan",
           "Nevada"
          ],
          [
           "Michigan",
           "New Hampshire"
          ],
          [
           "Michigan",
           "New Jersey"
          ],
          [
           "Michigan",
           "New Mexico"
          ],
          [
           "Michigan",
           "New York"
          ],
          [
           "Michigan",
           "North Carolina"
          ],
          [
           "Michigan",
           "North Dakota"
          ],
          [
           "Michigan",
           "Ohio"
          ],
          [
           "Michigan",
           "Oklahoma"
          ],
          [
           "Michigan",
           "Oregon"
          ],
          [
           "Michigan",
           "Pennsylvania"
          ],
          [
           "Michigan",
           "Rhode Island"
          ],
          [
           "Michigan",
           "South Carolina"
          ],
          [
           "Michigan",
           "South Dakota"
          ],
          [
           "Michigan",
           "Tennessee"
          ],
          [
           "Michigan",
           "Texas"
          ],
          [
           "Michigan",
           "Utah"
          ],
          [
           "Michigan",
           "Vermont"
          ],
          [
           "Michigan",
           "Virginia"
          ],
          [
           "Michigan",
           "Washington"
          ],
          [
           "Michigan",
           "West Virginia"
          ],
          [
           "Michigan",
           "Wisconsin"
          ],
          [
           "Michigan",
           "Wyoming"
          ],
          [
           "Minnesota",
           "Mississippi"
          ],
          [
           "Minnesota",
           "Missouri"
          ],
          [
           "Minnesota",
           "Montana"
          ],
          [
           "Minnesota",
           "Nebraska"
          ],
          [
           "Minnesota",
           "Nevada"
          ],
          [
           "Minnesota",
           "New Hampshire"
          ],
          [
           "Minnesota",
           "New Jersey"
          ],
          [
           "Minnesota",
           "New Mexico"
          ],
          [
           "Minnesota",
           "New York"
          ],
          [
           "Minnesota",
           "North Carolina"
          ],
          [
           "Minnesota",
           "North Dakota"
          ],
          [
           "Minnesota",
           "Ohio"
          ],
          [
           "Minnesota",
           "Oklahoma"
          ],
          [
           "Minnesota",
           "Oregon"
          ],
          [
           "Minnesota",
           "Pennsylvania"
          ],
          [
           "Minnesota",
           "Rhode Island"
          ],
          [
           "Minnesota",
           "South Carolina"
          ],
          [
           "Minnesota",
           "South Dakota"
          ],
          [
           "Minnesota",
           "Tennessee"
          ],
          [
           "Minnesota",
           "Texas"
          ],
          [
           "Minnesota",
           "Utah"
          ],
          [
           "Minnesota",
           "Vermont"
          ],
          [
           "Minnesota",
           "Virginia"
          ],
          [
           "Minnesota",
           "Washington"
          ],
          [
           "Minnesota",
           "West Virginia"
          ],
          [
           "Minnesota",
           "Wisconsin"
          ],
          [
           "Minnesota",
           "Wyoming"
          ],
          [
           "Mississippi",
           "Missouri"
          ],
          [
           "Mississippi",
           "Montana"
          ],
          [
           "Mississippi",
           "Nebraska"
          ],
          [
           "Mississippi",
           "Nevada"
          ],
          [
           "Mississippi",
           "New Hampshire"
          ],
          [
           "Mississippi",
           "New Jersey"
          ],
          [
           "Mississippi",
           "New Mexico"
          ],
          [
           "Mississippi",
           "New York"
          ],
          [
           "Mississippi",
           "North Carolina"
          ],
          [
           "Mississippi",
           "North Dakota"
          ],
          [
           "Mississippi",
           "Ohio"
          ],
          [
           "Mississippi",
           "Oklahoma"
          ],
          [
           "Mississippi",
           "Oregon"
          ],
          [
           "Mississippi",
           "Pennsylvania"
          ],
          [
           "Mississippi",
           "Rhode Island"
          ],
          [
           "Mississippi",
           "South Carolina"
          ],
          [
           "Mississippi",
           "South Dakota"
          ],
          [
           "Mississippi",
           "Tennessee"
          ],
          [
           "Mississippi",
           "Texas"
          ],
          [
           "Mississippi",
           "Utah"
          ],
          [
           "Mississippi",
           "Vermont"
          ],
          [
           "Mississippi",
           "Virginia"
          ],
          [
           "Mississippi",
           "Washington"
          ],
          [
           "Mississippi",
           "West Virginia"
          ],
          [
           "Mississippi",
           "Wisconsin"
          ],
          [
           "Mississippi",
           "Wyoming"
          ],
          [
           "Missouri",
           "Montana"
          ],
          [
           "Missouri",
           "Nebraska"
          ],
          [
           "Missouri",
           "Nevada"
          ],
          [
           "Missouri",
           "New Hampshire"
          ],
          [
           "Missouri",
           "New Jersey"
          ],
          [
           "Missouri",
           "New Mexico"
          ],
          [
           "Missouri",
           "New York"
          ],
          [
           "Missouri",
           "North Carolina"
          ],
          [
           "Missouri",
           "North Dakota"
          ],
          [
           "Missouri",
           "Ohio"
          ],
          [
           "Missouri",
           "Oklahoma"
          ],
          [
           "Missouri",
           "Oregon"
          ],
          [
           "Missouri",
           "Pennsylvania"
          ],
          [
           "Missouri",
           "Rhode Island"
          ],
          [
           "Missouri",
           "South Carolina"
          ],
          [
           "Missouri",
           "South Dakota"
          ],
          [
           "Missouri",
           "Tennessee"
          ],
          [
           "Missouri",
           "Texas"
          ],
          [
           "Missouri",
           "Utah"
          ],
          [
           "Missouri",
           "Vermont"
          ],
          [
           "Missouri",
           "Virginia"
          ],
          [
           "Missouri",
           "Washington"
          ],
          [
           "Missouri",
           "West Virginia"
          ],
          [
           "Missouri",
           "Wisconsin"
          ],
          [
           "Missouri",
           "Wyoming"
          ],
          [
           "Montana",
           "Nebraska"
          ],
          [
           "Montana",
           "Nevada"
          ],
          [
           "Montana",
           "New Hampshire"
          ],
          [
           "Montana",
           "New Jersey"
          ],
          [
           "Montana",
           "New Mexico"
          ],
          [
           "Montana",
           "New York"
          ],
          [
           "Montana",
           "North Carolina"
          ],
          [
           "Montana",
           "North Dakota"
          ],
          [
           "Montana",
           "Ohio"
          ],
          [
           "Montana",
           "Oklahoma"
          ],
          [
           "Montana",
           "Oregon"
          ],
          [
           "Montana",
           "Pennsylvania"
          ],
          [
           "Montana",
           "Rhode Island"
          ],
          [
           "Montana",
           "South Carolina"
          ],
          [
           "Montana",
           "South Dakota"
          ],
          [
           "Montana",
           "Tennessee"
          ],
          [
           "Montana",
           "Texas"
          ],
          [
           "Montana",
           "Utah"
          ],
          [
           "Montana",
           "Vermont"
          ],
          [
           "Montana",
           "Virginia"
          ],
          [
           "Montana",
           "Washington"
          ],
          [
           "Montana",
           "West Virginia"
          ],
          [
           "Montana",
           "Wisconsin"
          ],
          [
           "Montana",
           "Wyoming"
          ],
          [
           "Nebraska",
           "Nevada"
          ],
          [
           "Nebraska",
           "New Hampshire"
          ],
          [
           "Nebraska",
           "New Jersey"
          ],
          [
           "Nebraska",
           "New Mexico"
          ],
          [
           "Nebraska",
           "New York"
          ],
          [
           "Nebraska",
           "North Carolina"
          ],
          [
           "Nebraska",
           "North Dakota"
          ],
          [
           "Nebraska",
           "Ohio"
          ],
          [
           "Nebraska",
           "Oklahoma"
          ],
          [
           "Nebraska",
           "Oregon"
          ],
          [
           "Nebraska",
           "Pennsylvania"
          ],
          [
           "Nebraska",
           "Rhode Island"
          ],
          [
           "Nebraska",
           "South Carolina"
          ],
          [
           "Nebraska",
           "South Dakota"
          ],
          [
           "Nebraska",
           "Tennessee"
          ],
          [
           "Nebraska",
           "Texas"
          ],
          [
           "Nebraska",
           "Utah"
          ],
          [
           "Nebraska",
           "Vermont"
          ],
          [
           "Nebraska",
           "Virginia"
          ],
          [
           "Nebraska",
           "Washington"
          ],
          [
           "Nebraska",
           "West Virginia"
          ],
          [
           "Nebraska",
           "Wisconsin"
          ],
          [
           "Nebraska",
           "Wyoming"
          ],
          [
           "Nevada",
           "New Hampshire"
          ],
          [
           "Nevada",
           "New Jersey"
          ],
          [
           "Nevada",
           "New Mexico"
          ],
          [
           "Nevada",
           "New York"
          ],
          [
           "Nevada",
           "North Carolina"
          ],
          [
           "Nevada",
           "North Dakota"
          ],
          [
           "Nevada",
           "Ohio"
          ],
          [
           "Nevada",
           "Oklahoma"
          ],
          [
           "Nevada",
           "Oregon"
          ],
          [
           "Nevada",
           "Pennsylvania"
          ],
          [
           "Nevada",
           "Rhode Island"
          ],
          [
           "Nevada",
           "South Carolina"
          ],
          [
           "Nevada",
           "South Dakota"
          ],
          [
           "Nevada",
           "Tennessee"
          ],
          [
           "Nevada",
           "Texas"
          ],
          [
           "Nevada",
           "Utah"
          ],
          [
           "Nevada",
           "Vermont"
          ],
          [
           "Nevada",
           "Virginia"
          ],
          [
           "Nevada",
           "Washington"
          ],
          [
           "Nevada",
           "West Virginia"
          ],
          [
           "Nevada",
           "Wisconsin"
          ],
          [
           "Nevada",
           "Wyoming"
          ],
          [
           "New Hampshire",
           "New Jersey"
          ],
          [
           "New Hampshire",
           "New Mexico"
          ],
          [
           "New Hampshire",
           "New York"
          ],
          [
           "New Hampshire",
           "North Carolina"
          ],
          [
           "New Hampshire",
           "North Dakota"
          ],
          [
           "New Hampshire",
           "Ohio"
          ],
          [
           "New Hampshire",
           "Oklahoma"
          ],
          [
           "New Hampshire",
           "Oregon"
          ],
          [
           "New Hampshire",
           "Pennsylvania"
          ],
          [
           "New Hampshire",
           "Rhode Island"
          ],
          [
           "New Hampshire",
           "South Carolina"
          ],
          [
           "New Hampshire",
           "South Dakota"
          ],
          [
           "New Hampshire",
           "Tennessee"
          ],
          [
           "New Hampshire",
           "Texas"
          ],
          [
           "New Hampshire",
           "Utah"
          ],
          [
           "New Hampshire",
           "Vermont"
          ],
          [
           "New Hampshire",
           "Virginia"
          ],
          [
           "New Hampshire",
           "Washington"
          ],
          [
           "New Hampshire",
           "West Virginia"
          ],
          [
           "New Hampshire",
           "Wisconsin"
          ],
          [
           "New Hampshire",
           "Wyoming"
          ],
          [
           "New Jersey",
           "New Mexico"
          ],
          [
           "New Jersey",
           "New York"
          ],
          [
           "New Jersey",
           "North Carolina"
          ],
          [
           "New Jersey",
           "North Dakota"
          ],
          [
           "New Jersey",
           "Ohio"
          ],
          [
           "New Jersey",
           "Oklahoma"
          ],
          [
           "New Jersey",
           "Oregon"
          ],
          [
           "New Jersey",
           "Pennsylvania"
          ],
          [
           "New Jersey",
           "Rhode Island"
          ],
          [
           "New Jersey",
           "South Carolina"
          ],
          [
           "New Jersey",
           "South Dakota"
          ],
          [
           "New Jersey",
           "Tennessee"
          ],
          [
           "New Jersey",
           "Texas"
          ],
          [
           "New Jersey",
           "Utah"
          ],
          [
           "New Jersey",
           "Vermont"
          ],
          [
           "New Jersey",
           "Virginia"
          ],
          [
           "New Jersey",
           "Washington"
          ],
          [
           "New Jersey",
           "West Virginia"
          ],
          [
           "New Jersey",
           "Wisconsin"
          ],
          [
           "New Jersey",
           "Wyoming"
          ],
          [
           "New Mexico",
           "New York"
          ],
          [
           "New Mexico",
           "North Carolina"
          ],
          [
           "New Mexico",
           "North Dakota"
          ],
          [
           "New Mexico",
           "Ohio"
          ],
          [
           "New Mexico",
           "Oklahoma"
          ],
          [
           "New Mexico",
           "Oregon"
          ],
          [
           "New Mexico",
           "Pennsylvania"
          ],
          [
           "New Mexico",
           "Rhode Island"
          ],
          [
           "New Mexico",
           "South Carolina"
          ],
          [
           "New Mexico",
           "South Dakota"
          ],
          [
           "New Mexico",
           "Tennessee"
          ],
          [
           "New Mexico",
           "Texas"
          ],
          [
           "New Mexico",
           "Utah"
          ],
          [
           "New Mexico",
           "Vermont"
          ],
          [
           "New Mexico",
           "Virginia"
          ],
          [
           "New Mexico",
           "Washington"
          ],
          [
           "New Mexico",
           "West Virginia"
          ],
          [
           "New Mexico",
           "Wisconsin"
          ],
          [
           "New Mexico",
           "Wyoming"
          ],
          [
           "New York",
           "North Carolina"
          ],
          [
           "New York",
           "North Dakota"
          ],
          [
           "New York",
           "Ohio"
          ],
          [
           "New York",
           "Oklahoma"
          ],
          [
           "New York",
           "Oregon"
          ],
          [
           "New York",
           "Pennsylvania"
          ],
          [
           "New York",
           "Rhode Island"
          ],
          [
           "New York",
           "South Carolina"
          ],
          [
           "New York",
           "South Dakota"
          ],
          [
           "New York",
           "Tennessee"
          ],
          [
           "New York",
           "Texas"
          ],
          [
           "New York",
           "Utah"
          ],
          [
           "New York",
           "Vermont"
          ],
          [
           "New York",
           "Virginia"
          ],
          [
           "New York",
           "Washington"
          ],
          [
           "New York",
           "West Virginia"
          ],
          [
           "New York",
           "Wisconsin"
          ],
          [
           "New York",
           "Wyoming"
          ],
          [
           "North Carolina",
           "North Dakota"
          ],
          [
           "North Carolina",
           "Ohio"
          ],
          [
           "North Carolina",
           "Oklahoma"
          ],
          [
           "North Carolina",
           "Oregon"
          ],
          [
           "North Carolina",
           "Pennsylvania"
          ],
          [
           "North Carolina",
           "Rhode Island"
          ],
          [
           "North Carolina",
           "South Carolina"
          ],
          [
           "North Carolina",
           "South Dakota"
          ],
          [
           "North Carolina",
           "Tennessee"
          ],
          [
           "North Carolina",
           "Texas"
          ],
          [
           "North Carolina",
           "Utah"
          ],
          [
           "North Carolina",
           "Vermont"
          ],
          [
           "North Carolina",
           "Virginia"
          ],
          [
           "North Carolina",
           "Washington"
          ],
          [
           "North Carolina",
           "West Virginia"
          ],
          [
           "North Carolina",
           "Wisconsin"
          ],
          [
           "North Carolina",
           "Wyoming"
          ],
          [
           "North Dakota",
           "Ohio"
          ],
          [
           "North Dakota",
           "Oklahoma"
          ],
          [
           "North Dakota",
           "Oregon"
          ],
          [
           "North Dakota",
           "Pennsylvania"
          ],
          [
           "North Dakota",
           "Rhode Island"
          ],
          [
           "North Dakota",
           "South Carolina"
          ],
          [
           "North Dakota",
           "South Dakota"
          ],
          [
           "North Dakota",
           "Tennessee"
          ],
          [
           "North Dakota",
           "Texas"
          ],
          [
           "North Dakota",
           "Utah"
          ],
          [
           "North Dakota",
           "Vermont"
          ],
          [
           "North Dakota",
           "Virginia"
          ],
          [
           "North Dakota",
           "Washington"
          ],
          [
           "North Dakota",
           "West Virginia"
          ],
          [
           "North Dakota",
           "Wisconsin"
          ],
          [
           "North Dakota",
           "Wyoming"
          ],
          [
           "Ohio",
           "Oklahoma"
          ],
          [
           "Ohio",
           "Oregon"
          ],
          [
           "Ohio",
           "Pennsylvania"
          ],
          [
           "Ohio",
           "Rhode Island"
          ],
          [
           "Ohio",
           "South Carolina"
          ],
          [
           "Ohio",
           "South Dakota"
          ],
          [
           "Ohio",
           "Tennessee"
          ],
          [
           "Ohio",
           "Texas"
          ],
          [
           "Ohio",
           "Utah"
          ],
          [
           "Ohio",
           "Vermont"
          ],
          [
           "Ohio",
           "Virginia"
          ],
          [
           "Ohio",
           "Washington"
          ],
          [
           "Ohio",
           "West Virginia"
          ],
          [
           "Ohio",
           "Wisconsin"
          ],
          [
           "Ohio",
           "Wyoming"
          ],
          [
           "Oklahoma",
           "Oregon"
          ],
          [
           "Oklahoma",
           "Pennsylvania"
          ],
          [
           "Oklahoma",
           "Rhode Island"
          ],
          [
           "Oklahoma",
           "South Carolina"
          ],
          [
           "Oklahoma",
           "South Dakota"
          ],
          [
           "Oklahoma",
           "Tennessee"
          ],
          [
           "Oklahoma",
           "Texas"
          ],
          [
           "Oklahoma",
           "Utah"
          ],
          [
           "Oklahoma",
           "Vermont"
          ],
          [
           "Oklahoma",
           "Virginia"
          ],
          [
           "Oklahoma",
           "Washington"
          ],
          [
           "Oklahoma",
           "West Virginia"
          ],
          [
           "Oklahoma",
           "Wisconsin"
          ],
          [
           "Oklahoma",
           "Wyoming"
          ],
          [
           "Oregon",
           "Pennsylvania"
          ],
          [
           "Oregon",
           "Rhode Island"
          ],
          [
           "Oregon",
           "South Carolina"
          ],
          [
           "Oregon",
           "South Dakota"
          ],
          [
           "Oregon",
           "Tennessee"
          ],
          [
           "Oregon",
           "Texas"
          ],
          [
           "Oregon",
           "Utah"
          ],
          [
           "Oregon",
           "Vermont"
          ],
          [
           "Oregon",
           "Virginia"
          ],
          [
           "Oregon",
           "Washington"
          ],
          [
           "Oregon",
           "West Virginia"
          ],
          [
           "Oregon",
           "Wisconsin"
          ],
          [
           "Oregon",
           "Wyoming"
          ],
          [
           "Pennsylvania",
           "Rhode Island"
          ],
          [
           "Pennsylvania",
           "South Carolina"
          ],
          [
           "Pennsylvania",
           "South Dakota"
          ],
          [
           "Pennsylvania",
           "Tennessee"
          ],
          [
           "Pennsylvania",
           "Texas"
          ],
          [
           "Pennsylvania",
           "Utah"
          ],
          [
           "Pennsylvania",
           "Vermont"
          ],
          [
           "Pennsylvania",
           "Virginia"
          ],
          [
           "Pennsylvania",
           "Washington"
          ],
          [
           "Pennsylvania",
           "West Virginia"
          ],
          [
           "Pennsylvania",
           "Wisconsin"
          ],
          [
           "Pennsylvania",
           "Wyoming"
          ],
          [
           "Rhode Island",
           "South Carolina"
          ],
          [
           "Rhode Island",
           "South Dakota"
          ],
          [
           "Rhode Island",
           "Tennessee"
          ],
          [
           "Rhode Island",
           "Texas"
          ],
          [
           "Rhode Island",
           "Utah"
          ],
          [
           "Rhode Island",
           "Vermont"
          ],
          [
           "Rhode Island",
           "Virginia"
          ],
          [
           "Rhode Island",
           "Washington"
          ],
          [
           "Rhode Island",
           "West Virginia"
          ],
          [
           "Rhode Island",
           "Wisconsin"
          ],
          [
           "Rhode Island",
           "Wyoming"
          ],
          [
           "South Carolina",
           "South Dakota"
          ],
          [
           "South Carolina",
           "Tennessee"
          ],
          [
           "South Carolina",
           "Texas"
          ],
          [
           "South Carolina",
           "Utah"
          ],
          [
           "South Carolina",
           "Vermont"
          ],
          [
           "South Carolina",
           "Virginia"
          ],
          [
           "South Carolina",
           "Washington"
          ],
          [
           "South Carolina",
           "West Virginia"
          ],
          [
           "South Carolina",
           "Wisconsin"
          ],
          [
           "South Carolina",
           "Wyoming"
          ],
          [
           "South Dakota",
           "Tennessee"
          ],
          [
           "South Dakota",
           "Texas"
          ],
          [
           "South Dakota",
           "Utah"
          ],
          [
           "South Dakota",
           "Vermont"
          ],
          [
           "South Dakota",
           "Virginia"
          ],
          [
           "South Dakota",
           "Washington"
          ],
          [
           "South Dakota",
           "West Virginia"
          ],
          [
           "South Dakota",
           "Wisconsin"
          ],
          [
           "South Dakota",
           "Wyoming"
          ],
          [
           "Tennessee",
           "Texas"
          ],
          [
           "Tennessee",
           "Utah"
          ],
          [
           "Tennessee",
           "Vermont"
          ],
          [
           "Tennessee",
           "Virginia"
          ],
          [
           "Tennessee",
           "Washington"
          ],
          [
           "Tennessee",
           "West Virginia"
          ],
          [
           "Tennessee",
           "Wisconsin"
          ],
          [
           "Tennessee",
           "Wyoming"
          ],
          [
           "Texas",
           "Utah"
          ],
          [
           "Texas",
           "Vermont"
          ],
          [
           "Texas",
           "Virginia"
          ],
          [
           "Texas",
           "Washington"
          ],
          [
           "Texas",
           "West Virginia"
          ],
          [
           "Texas",
           "Wisconsin"
          ],
          [
           "Texas",
           "Wyoming"
          ],
          [
           "Utah",
           "Vermont"
          ],
          [
           "Utah",
           "Virginia"
          ],
          [
           "Utah",
           "Washington"
          ],
          [
           "Utah",
           "West Virginia"
          ],
          [
           "Utah",
           "Wisconsin"
          ],
          [
           "Utah",
           "Wyoming"
          ],
          [
           "Vermont",
           "Virginia"
          ],
          [
           "Vermont",
           "Washington"
          ],
          [
           "Vermont",
           "West Virginia"
          ],
          [
           "Vermont",
           "Wisconsin"
          ],
          [
           "Vermont",
           "Wyoming"
          ],
          [
           "Virginia",
           "Washington"
          ],
          [
           "Virginia",
           "West Virginia"
          ],
          [
           "Virginia",
           "Wisconsin"
          ],
          [
           "Virginia",
           "Wyoming"
          ],
          [
           "Washington",
           "West Virginia"
          ],
          [
           "Washington",
           "Wisconsin"
          ],
          [
           "Washington",
           "Wyoming"
          ],
          [
           "West Virginia",
           "Wisconsin"
          ],
          [
           "West Virginia",
           "Wyoming"
          ],
          [
           "Wisconsin",
           "Wyoming"
          ]
         ],
         "legendgroup": "",
         "marker": {
          "color": "#636efa",
          "symbol": "circle"
         },
         "mode": "markers",
         "name": "",
         "showlegend": false,
         "type": "scattergl",
         "x": [
          2.1844946098038567,
          2.514302462293823,
          0.1334442755750455,
          4.2630478538735215,
          3.2549617482909596,
          5.439026133320758,
          4.886269276447092,
          5.72159366854552,
          1.8493607994623769,
          0.8749053105542575,
          6.791019160206424,
          2.3382799448985097,
          1.5987369926201573,
          2.4027545761555213,
          2.6516300297113724,
          1.4259210214416909,
          1.2678347085646844,
          1.0601498096313997,
          5.0249945181313675,
          5.333811755309535,
          5.611692082057064,
          3.1756167723846933,
          2.9330574117833548,
          0.887076414020356,
          2.1052469804678533,
          2.814753309996974,
          3.181165734218533,
          2.4864933655112114,
          4.120587059765494,
          4.694498199429403,
          3.847222385458272,
          4.867547522641275,
          2.47099833780901,
          3.1570902171811994,
          2.8023230096708374,
          1.3005555126663166,
          4.602535940900864,
          3.798564325543419,
          5.395486196580467,
          0.9501033650402119,
          1.7596587573038873,
          1.0711545993410225,
          2.2320078129831726,
          2.0878787571475947,
          5.556783931129952,
          3.819577508276766,
          4.603244899302998,
          1.5783886384889836,
          2.625679093205867,
          2.3518873485714544,
          2.601652972945571,
          2.067923269654904,
          4.250664029770494,
          1.5638926012449008,
          4.68576855385122,
          4.753383724763352,
          4.922638632479965,
          2.3023533838549786,
          1.6303269332563606,
          6.687997378794298,
          1.5463554470078054,
          2.5274123096516563,
          0.6778209431590191,
          1.1821124642138052,
          1.2411932275525925,
          1.0703432301571818,
          1.2111895522819034,
          3.271570804270991,
          4.278538040188698,
          5.085928685467965,
          1.47979885373401,
          1.1725681196374653,
          1.3949534503984613,
          1.3146409049231065,
          2.0949954520840754,
          1.5950465496000181,
          2.563593773111855,
          2.856163847811015,
          4.155599627248555,
          3.2607689773862454,
          4.305059599953683,
          2.2312126469156435,
          3.3448243349590223,
          0.8299333930267754,
          1.758499969326041,
          3.108207645588588,
          3.980085775109722,
          4.847845098400654,
          1.6036864394816959,
          1.8990041548993055,
          1.7387154734750487,
          2.0449942340168774,
          0.28589869938383256,
          4.167203294483677,
          2.761653050463889,
          3.3197710828119678,
          0.6486342066866475,
          0.6485124535529181,
          2.28309032738855,
          2.529601073674739,
          1.8074932364198348,
          2.185561107335306,
          2.9728722570153283,
          2.4072402924307448,
          3.2607653325349677,
          0.6701653468986054,
          1.767074926303106,
          4.352126753535458,
          3.892515600766715,
          1.0624651529169444,
          3.2564685741200927,
          3.7449734592850543,
          3.0810788687016357,
          1.907438113964115,
          2.0010624637545993,
          3.4328114369369622,
          3.011443712439412,
          3.099901311393867,
          2.1625274431857617,
          3.774008597822314,
          1.9968993780886612,
          3.610414836821787,
          4.480565567440886,
          4.194738197937847,
          0.03837199873052895,
          2.1570352935675623,
          2.197088517005522,
          1.4184803565503143,
          2.3703250457117835,
          0.43396416938615934,
          5.364785274446536,
          3.412982421764557,
          3.3652343897584984,
          2.766623804706167,
          1.4259019678256355,
          2.8873871797657307,
          1.7032333417719978,
          3.7757123999206748,
          3.169507974111887,
          0.557930276264541,
          2.791681714269052,
          3.466377594550254,
          1.7434754664647552,
          2.548961515569952,
          2.1923116940222855,
          3.2429201889732346,
          4.357676800238608,
          4.295216075003731,
          3.1763456899398372,
          5.433237455612041,
          4.915271978091631,
          5.714258830828902,
          1.8709906915984194,
          0.8372857761079567,
          6.829623944216055,
          2.2076953580787997,
          1.6502661593482346,
          2.2724783090352085,
          2.518288022988989,
          1.292845749556503,
          1.1815542322066794,
          0.9708946802380003,
          4.952829914565333,
          5.308737811248254,
          5.6206546751139035,
          3.095893813444664,
          2.800880891223921,
          0.8067681057303026,
          1.9729793241089704,
          2.6891322514342235,
          3.0477400779803765,
          2.5004328488045164,
          4.075174255846465,
          4.697648291424456,
          3.8405183321917864,
          4.87035765143843,
          2.46327629773545,
          3.0673159897621227,
          2.673906274714964,
          1.181340301019925,
          4.545904297694747,
          3.8387760708928336,
          5.4020961235771745,
          0.9128559842540801,
          1.643109904617466,
          0.9502734586684795,
          2.220665674486571,
          1.9639138774564948,
          5.511246141094884,
          3.7840192613640546,
          4.559952785559288,
          1.4716376496333534,
          2.4982788963515326,
          2.23988746571869,
          3.3133309673041755,
          1.7999681898245021,
          0.6316386487908874,
          2.0576191684417258,
          2.4302741997887662,
          3.5683108705846673,
          2.5457339550797617,
          5.652187146987813,
          2.685793939253177,
          4.927052121998189,
          5.42932798239617,
          4.877436932690287,
          3.7000318349941512,
          3.8053732201810635,
          3.7297145080554164,
          2.297665840541376,
          1.5914036740390916,
          3.3350783875537484,
          5.3955024269334135,
          3.8043275028763057,
          5.373739759760588,
          6.239555893691435,
          5.83087040895022,
          1.842593654498753,
          2.444529781579579,
          1.0682941860566713,
          1.2642564121174924,
          1.1722787325637933,
          2.0582036884728967,
          7.171354128395471,
          5.005862563590184,
          5.1727125365976,
          2.9727793084640193,
          0.5255135936359341,
          1.4559445371986384,
          3.5067704844707968,
          5.580528989266506,
          4.976360230967203,
          2.288026728832202,
          4.479776847531,
          3.1027232847071007,
          2.102162803205872,
          2.524388598431301,
          3.9440321329362633,
          4.8566977848201045,
          6.157411400535207,
          3.2826453217749734,
          3.6789790202379264,
          3.489370429562273,
          2.3248688018281376,
          2.4284442636050674,
          5.5054086334173835,
          3.0833417436079142,
          2.7514393357388727,
          2.127306006642905,
          2.5898663624878697,
          2.7519760997088096,
          1.9969240663810204,
          2.2088313421108294,
          1.7888911352833756,
          2.776345116514336,
          3.7672393280227365,
          0.0863485053559403,
          2.3978599272959293,
          2.3701266931469593,
          2.8706510546033366,
          3.5940116333193237,
          2.8228464030197733,
          2.1581805416649567,
          1.350857265597412,
          2.901108826406108,
          2.1056287605354083,
          3.023077802602113,
          1.7569217415919351,
          4.903967016785605,
          1.9959824918173708,
          3.250988356070516,
          1.5443319385116043,
          3.218750596789755,
          3.532667231299654,
          2.3623383682835657,
          3.4500510542994056,
          3.1794422204837485,
          1.747153231385488,
          1.8483320541120103,
          2.603640814890857,
          1.3831622371909507,
          1.7828517658708833,
          1.8136900883253742,
          1.9168119547862874,
          3.8456205294348704,
          1.4531404095450693,
          0.2891409176175261,
          3.6361307850777593,
          4.611734794585218,
          2.45980317237462,
          6.224597982007708,
          4.026953825794285,
          5.332713990295813,
          5.823425519173405,
          5.643717540470495,
          4.531964064298608,
          4.698278678228928,
          2.754268356264457,
          0.790944174240598,
          0.6368216860134813,
          3.3448164212992197,
          5.669774529335966,
          4.764201923742265,
          5.973671938920943,
          6.7807512352189026,
          6.100271836419407,
          2.993101942382276,
          1.9576108608293095,
          0.8138423732268713,
          1.5927400749176224,
          0.6570092034402667,
          2.9699612995381797,
          7.952775852529551,
          5.264744589712545,
          6.050664975332728,
          2.1378483820864713,
          2.2641809073735013,
          0.5047311623168013,
          4.538509354193753,
          6.3822187346055825,
          5.89710575703547,
          3.2136592859595288,
          4.9620990673733045,
          1.6684780267690544,
          1.9302252511170246,
          1.6636970267802234,
          4.622387960965113,
          5.165273985284517,
          6.889070904221942,
          1.6612478605092247,
          3.0460525243438146,
          4.174038022662494,
          1.9574248962936018,
          6.196239989148688,
          3.314984777751267,
          5.431137238608495,
          5.935495429822961,
          5.45108292944692,
          4.274711718329023,
          4.391214384459658,
          3.808576988729513,
          2.1119524169859103,
          1.070284581025583,
          3.712639958790751,
          5.874656962219812,
          4.4003513281148425,
          5.9211555224068935,
          6.781113420239488,
          6.31262402813095,
          2.4407038970793726,
          2.6297785794110764,
          0.9584059001984857,
          1.5734382292143436,
          0.966276772049265,
          2.616565562582903,
          7.757552800170657,
          5.477531835523284,
          5.765444705834739,
          3.074088830974533,
          1.1457666816818037,
          1.0033461160423591,
          4.110473633356731,
          6.163860059039084,
          5.574147184588183,
          2.8560876769568475,
          4.995586605689593,
          2.9830790548428716,
          2.3604831307510294,
          2.5908491262701308,
          4.493400603947166,
          5.338266379245519,
          6.732284738554947,
          3.9231296749071753,
          4.890563386459001,
          2.4237997315874065,
          6.465296835942479,
          4.315627766869322,
          5.562473993838679,
          6.0492764627459215,
          5.902380745955196,
          4.799828745256945,
          4.969014460388505,
          2.8231651686079147,
          0.8385165940741369,
          0.6995377299099875,
          3.554948116016306,
          5.884252981845362,
          5.038401747645611,
          6.217796654455276,
          7.016532100296776,
          6.311796768996249,
          3.2806983473613376,
          2.14759365668392,
          1.1000757683578866,
          1.8743765615295631,
          0.9390553004355409,
          3.2513187132510897,
          8.20624675667917,
          5.480227008116286,
          6.31582082386574,
          2.259171287536452,
          2.5345608391629515,
          0.6625431494524769,
          4.817038750246498,
          6.641045080709553,
          6.165474915819652,
          3.4938484426282987,
          5.201253795195971,
          1.6539590048949298,
          2.161193747652796,
          1.8071886821783962,
          4.879480848743792,
          5.386574278475729,
          7.141039501800274,
          1.1515117121004028,
          4.972737758991706,
          3.4175877306247977,
          0.46884001662684105,
          2.905075448957574,
          3.365180712032627,
          2.5478394156712136,
          1.4170973718370101,
          1.459673935781692,
          3.817631832482904,
          3.6327841049387657,
          3.7694606526864374,
          2.2786222626137054,
          3.4556850082208004,
          1.4155962613653714,
          3.1342233298418836,
          3.999491497085495,
          3.8526293532587195,
          0.6458439065922992,
          2.6363868404071793,
          2.866243193399226,
          2.0641801741015757,
          3.039540145432615,
          0.7690259171308054,
          4.779938293512981,
          3.132285340816333,
          2.776004879126244,
          3.217501495402927,
          1.995883594523562,
          3.55751981574815,
          1.0968604450706578,
          3.2067617444702132,
          2.5682783398618296,
          0.6224402828771223,
          2.438158961808762,
          4.016602784557796,
          2.252712147563414,
          3.0726549887093535,
          1.7781019231510675,
          2.94930960794011,
          3.803307948066224,
          6.113921590179705,
          2.3638222033524547,
          1.1021395060883226,
          2.0646018272342515,
          2.4491592034821537,
          1.4448561110160631,
          0.5621829946866282,
          0.442778271752765,
          4.176180158126426,
          4.4720066613541585,
          4.824042122645365,
          2.3531318911012917,
          2.6328729301853047,
          0.30482024621009235,
          2.086478477098665,
          2.9276397645360666,
          2.9732702648785128,
          1.7342462925666795,
          3.2456857690116747,
          3.8913877082748867,
          3.0199491683082456,
          4.063119543464274,
          1.6461822858451696,
          3.6293011243169997,
          2.394774114174334,
          1.6262209260495684,
          3.7321587904628926,
          3.146429689065534,
          4.601092683052674,
          0.07562333761249898,
          2.064269447844857,
          1.4167747380477536,
          1.3993806377710898,
          1.6421056424075162,
          4.681878659001171,
          2.9477119330001997,
          3.7284724606331032,
          0.9832480645514653,
          2.205328148999343,
          2.6668048292555246,
          8.149029117887068,
          5.198024995408006,
          7.364398752050461,
          7.868773411264485,
          7.408204732521022,
          6.231479457657275,
          6.345114651153437,
          5.2140440446355765,
          3.2391845096056135,
          1.8374250929538245,
          5.550756402422666,
          7.787604785614999,
          6.348872752656278,
          7.875217999614955,
          8.73256419482659,
          8.226087958677011,
          4.38676186877549,
          4.292930065945155,
          2.6049886030727705,
          3.44444732897591,
          2.493034733627376,
          4.573990069542857,
          9.712042695229233,
          7.385964541881495,
          7.716404505727261,
          4.577233671417304,
          2.9925754896574923,
          2.041977458066624,
          6.052504286752368,
          8.119122502405961,
          7.521593725331084,
          4.813120728241755,
          6.937134424009718,
          4.077349261817654,
          4.129269014484873,
          4.089506485649531,
          6.448923525001889,
          7.2555063018918915,
          8.689402505123486,
          3.4630902456081145,
          0.9756828794628241,
          0.672615482816657,
          0.9429744810601127,
          2.0034658021412115,
          1.9693449037730826,
          4.687930373412038,
          5.824083281871154,
          6.60484201696465,
          3.002483075517378,
          1.059148177648685,
          2.060159473443054,
          0.2835320199364149,
          0.5882757677917301,
          1.0304770091561792,
          3.8545310161329533,
          4.399560856149723,
          5.6657229883955775,
          4.761265566748099,
          5.8205647967582514,
          3.594055889114434,
          1.8389074161565397,
          1.27979810238882,
          1.1191908156742751,
          4.617954586005309,
          5.316944434332423,
          6.367365849123757,
          2.389140541182267,
          0.8214589584947771,
          1.3093487226602092,
          3.369169732087953,
          1.2645660567690413,
          5.679218933877889,
          4.305499989812323,
          4.857546324181293,
          1.7084144734937283,
          1.2497040103705763,
          0.8345965932932168,
          3.0735980063557338,
          3.5007034498497887,
          2.5467668943535235,
          1.5272399695121084,
          1.5034889867940129,
          4.282639455884397,
          4.068407797266663,
          4.113470280034689,
          2.6995060319103095,
          3.638283389368371,
          1.403562405341188,
          3.1839377074141657,
          4.029556349767816,
          4.010749352991857,
          1.0479963268612211,
          3.1042686915109954,
          3.238498225771909,
          2.480785400470492,
          3.410790187086164,
          1.234489536612031,
          4.67321648518755,
          3.3480198414368014,
          2.689311902477507,
          3.6863396346854187,
          2.2063602179065267,
          3.911108322062106,
          1.0739683054538736,
          3.142054605995087,
          2.4665430538032873,
          1.0886609851393207,
          2.618314212756449,
          4.477756131381964,
          2.717468232946587,
          3.5370924529074363,
          1.9370829674522263,
          3.159949410935684,
          3.7494862293835594,
          0.5045036877188587,
          1.1076470373090037,
          1.5501734524802269,
          1.6218268498285309,
          3.713328186144031,
          4.8910295489111375,
          5.749006254099873,
          2.049121092551734,
          0.56874550697548,
          1.7803916541216889,
          0.8188754570033686,
          1.467060551160208,
          0.9477737407852775,
          3.218182825229008,
          3.4623416609500772,
          4.823591251743544,
          3.9329689730069637,
          4.970652992180176,
          2.8987355554503806,
          2.8145464008897263,
          0.42568518288416884,
          1.5833058089248695,
          3.651253390052056,
          4.64858077038762,
          5.5108499376773885,
          2.058640931242435,
          1.553604139748717,
          1.654864846924711,
          2.7033774171037015,
          0.4683470909700651,
          4.711787937866234,
          3.403130345944669,
          3.909055762846892,
          1.1378517716795122,
          0.3038628637516459,
          1.7894054466351266,
          1.2438735299325967,
          1.974825029284286,
          2.0123421965895854,
          4.0965676009219925,
          5.363881567316654,
          6.247726837000696,
          2.5150982969638553,
          0.38957448046248916,
          2.151049569323176,
          0.6733887138384571,
          1.02930811545599,
          0.5333087535638524,
          3.7066195743350585,
          3.9353579414772297,
          5.324818237987375,
          4.436078682994382,
          5.470764489651968,
          3.39539875314434,
          2.452549284863197,
          0.6452270509320668,
          1.6144901188430083,
          4.090934913217609,
          5.144727141355997,
          6.009596202270676,
          2.453963615466502,
          1.437599932758056,
          1.7491218589595403,
          3.1950061732950426,
          0.9548710876731754,
          5.1473632135675835,
          3.8932005318591183,
          4.371949320874295,
          1.5870943829574757,
          0.6749600121074973,
          1.4999013447509144,
          1.1775199301215347,
          1.0895668083672634,
          4.501780839221887,
          5.338852476572771,
          5.961399358873564,
          2.665735970138277,
          1.5644952831495424,
          1.147396548099533,
          0.6866667832286419,
          1.4864371116261015,
          1.7650303979001576,
          3.0442234434895785,
          3.9538699837884614,
          5.014422569247696,
          4.107290535027321,
          5.177875972546442,
          2.8354917931723804,
          2.3216563014189404,
          1.5333033275860513,
          0.5184880457687537,
          4.282562829098789,
          4.503402742043368,
          5.727435534267768,
          1.478705851974025,
          0.7386643352165677,
          0.5478342740046072,
          2.5950846980738977,
          1.000136714538923,
          5.329054105967416,
          3.7802347116862642,
          4.436162160684642,
          1.0241261890374862,
          1.390494413698908,
          1.2812039844155465,
          0.2119665175794665,
          3.7791228607858134,
          4.2982394483985,
          4.81431048908938,
          1.9156917892011482,
          2.117564406382245,
          0.3827352910905763,
          1.7199345439228808,
          2.588226318621208,
          2.483629503159617,
          1.870197029501165,
          2.9814523052397046,
          3.868213156496279,
          2.966605077164865,
          4.0349072423382655,
          1.6612710520257599,
          3.4871225114884083,
          1.8527347889396715,
          1.5229673817494518,
          3.408209607957776,
          3.332465788924401,
          4.5829657744084775,
          0.5334043664036551,
          1.8927287585548342,
          1.3656887244718756,
          1.418745443215759,
          1.105451580906341,
          4.4071815274296915,
          2.7398413602467353,
          3.47065376274673,
          0.42852198813680337,
          1.6628922095590208,
          2.4583023905737207,
          3.9909903397036195,
          4.484261602845401,
          4.963527312224219,
          2.1275068825956898,
          2.190142307537663,
          0.18705983773784068,
          1.687574923313641,
          2.5456907407202887,
          2.533762372779652,
          1.9649069969243687,
          3.1809507205868126,
          4.019411074073645,
          3.123204092658473,
          4.187734892932987,
          1.7910364318172338,
          3.3669367581234813,
          1.9557373096294444,
          1.3786484616497139,
          3.6155322625771062,
          3.4183753828482097,
          4.734069115334394,
          0.4416402049146064,
          1.775173923337223,
          1.2039138193714545,
          1.54381430383609,
          1.2027508479817002,
          4.609584368560452,
          2.929559200887877,
          3.669891197599425,
          0.5641522846025417,
          1.7667221077812592,
          2.3581014325605345,
          1.9860252074595441,
          3.381722383255089,
          1.8732632948813621,
          3.804604086768408,
          4.146277606751296,
          4.517135373806227,
          5.12535805195894,
          4.164927175073367,
          3.420636643691107,
          1.347825765198714,
          2.852621415518227,
          2.5302229305681228,
          2.8797971918089096,
          3.0879777147630434,
          6.526237330063769,
          3.452398845676601,
          5.011561224013709,
          0.7586721909840412,
          3.8885162256097994,
          3.197319787987434,
          4.106036847853334,
          5.168190721121667,
          4.9549672868844015,
          3.195198866143591,
          3.541848915740361,
          1.2907036495370208,
          1.7669722360787599,
          1.2193072375238896,
          3.599344902867536,
          3.4432854083028586,
          5.498100915470749,
          1.4277372414418301,
          2.849220350818964,
          5.170375995153992,
          4.578118379596826,
          5.590206748650998,
          6.356480707808622,
          5.589336432248179,
          3.0224574746968513,
          1.4289030601719768,
          1.2314582524206272,
          1.6051176814187351,
          1.1592705431753567,
          2.893821345181807,
          7.607244677750488,
          4.770756521873641,
          5.783883364415982,
          1.4361893715549925,
          2.6718255866387963,
          1.2780605796559736,
          4.396622044743239,
          6.07354328567705,
          5.65390522633396,
          3.1160870671116045,
          4.562648438136077,
          0.8889631338311971,
          1.5623613837486106,
          1.016707356314363,
          4.3174988060754504,
          4.692413061369748,
          6.539800959119672,
          3.8219363744581742,
          6.122243087437383,
          5.00797210682755,
          6.343955977915845,
          7.173899360229022,
          6.557678396768833,
          3.1263428863376586,
          2.490535336144762,
          0.9470313175940207,
          1.8545285076296159,
          0.7852830627005618,
          3.1837418229734538,
          8.282372159104806,
          5.716747289861054,
          6.336538684917016,
          2.7407242275745505,
          2.1094196301188948,
          0.23815672211998887,
          4.753834195502578,
          6.695527401764327,
          6.167302694751995,
          3.4328660915297227,
          5.35360769126489,
          2.3010081560314224,
          2.386157378828712,
          2.2550357585746386,
          4.953451806101449,
          5.604092122139483,
          7.227869590154102,
          2.329791740871786,
          2.2900818291743015,
          2.7880309234767955,
          3.516129551206335,
          2.7569750586946657,
          2.134133347744663,
          1.42175966753926,
          2.9479735306160935,
          2.1394511535731993,
          3.0728587325950762,
          1.7313927871305295,
          4.821213069062774,
          1.9266965726198146,
          3.164640074680127,
          1.6287776853604148,
          3.227104058049168,
          3.586651776371271,
          2.2877042187774794,
          3.3644236982006563,
          3.0932903745327036,
          1.7101010942302302,
          1.7645701458168637,
          2.6874173492536286,
          1.435966510667669,
          1.8599723095557568,
          1.7281621248191672,
          1.8432028612778002,
          3.7621235514685702,
          2.346824572975953,
          1.0541567453367657,
          1.3455372892247557,
          0.4385040997856555,
          3.7359838601174986,
          3.7484213978097114,
          5.215097056111222,
          4.343704909565629,
          5.35416556412934,
          3.3985408343086863,
          2.7975489611137485,
          0.40562131387434214,
          1.9750886713898992,
          3.8535051670805953,
          5.1442376341504685,
          5.884767391533754,
          2.627366071272397,
          1.8237980481894247,
          2.092135474140573,
          3.216988270025923,
          1.021555220209787,
          4.900513625440836,
          3.7453028035056213,
          4.165191283911319,
          1.7012114883203406,
          0.5389145752123303,
          1.8784958234606732,
          1.7821948004930186,
          2.6263969946473127,
          2.6776402159501087,
          1.9621169978712052,
          3.2993680099378175,
          4.06762134725012,
          3.1799534662384086,
          4.237591722629559,
          1.8250841377419442,
          3.371654436635335,
          2.12642038682918,
          1.3690263753400582,
          3.751059694261793,
          3.3994168018764506,
          4.781047969753873,
          0.3313853075692746,
          1.7916206247494961,
          1.1738736583664349,
          1.5759279929330392,
          1.3743574272674808,
          4.732470211842049,
          3.03157680964334,
          3.7871570842737277,
          0.74969785462634,
          1.9382401554381143,
          2.3879932326794595,
          0.8702771043737589,
          1.1393493324709716,
          3.5724731726789933,
          4.170159588154854,
          5.40277559785613,
          4.496807935175497,
          5.559085970983975,
          3.315551178780585,
          2.03335836561078,
          1.1855910640124483,
          0.9564965120623783,
          4.412200537398689,
          5.035256632031757,
          6.106831935572834,
          2.1100514258544987,
          0.7731017309193249,
          1.1166865726642112,
          3.089121419165789,
          1.0290155271097055,
          5.473095712212085,
          4.060934150247137,
          4.634333549713639,
          1.4297929770975117,
          1.1160992959775484,
          0.982156547931788,
          1.1111431967218497,
          4.442602073682657,
          4.928245561923809,
          6.237750776951531,
          5.335557756855057,
          6.390725373657103,
          4.181580335080607,
          1.4610608215930283,
          1.6729977374189524,
          1.5278011574233339,
          5.110986820473462,
          5.905156709002631,
          6.936083013489564,
          2.957230335713604,
          1.109168912947551,
          1.7483500615358878,
          3.957305115014582,
          1.8211714148999385,
          6.169658559545391,
          4.855340471752827,
          5.376091227765955,
          2.2962705817872706,
          1.696361987022246,
          0.7365889699232006,
          4.156571004366413,
          4.171610488766169,
          5.652482027572064,
          4.782124505890739,
          5.790880878964364,
          3.825816013116634,
          2.5657104298074933,
          0.8418630051624807,
          2.095762689691678,
          4.2542689937868206,
          5.5736829284708955,
          6.320358743149124,
          2.975110535737527,
          1.8506524646498634,
          2.2500792676526227,
          3.639065098146122,
          1.4157775067566396,
          5.293259403542827,
          4.178388280935065,
          4.58027878427887,
          2.081062721671028,
          0.974927288477282,
          1.7602091736183967,
          2.150943382740084,
          2.220402952986338,
          1.4331723230811244,
          2.3936977333553724,
          0.4035825258134896,
          5.329215879397858,
          3.375275990113034,
          3.3301575729844304,
          2.7588685011029233,
          1.4635681045966686,
          2.9128266841929045,
          1.6699492204183997,
          3.739743598022569,
          3.1350609513410403,
          0.5202737421857282,
          2.7533536876157854,
          3.4684338142353903,
          1.7394507868026399,
          2.547590837137207,
          2.1540782001601975,
          3.205044822317255,
          4.321149359581372,
          1.7246527383116006,
          1.2015364139147728,
          1.8085307005902604,
          1.8710870565788575,
          6.194464855993938,
          3.3468393279117867,
          4.418814077506065,
          0.6181959036651236,
          2.5540967243723953,
          2.2650887467918093,
          3.170564985631167,
          4.681643381278787,
          4.306690149630971,
          2.031665471921237,
          3.1413014724348987,
          1.4362668260682128,
          0.4257627293898133,
          0.4892474477013131,
          2.943760064905859,
          3.2646560829302573,
          5.1281577631656345,
          0.908228671427119,
          0.17332500758523417,
          2.2465506040195633,
          7.335511352602025,
          4.810620611076058,
          5.390811112176346,
          2.1252512481821695,
          1.480381283022948,
          0.714817974627856,
          3.820173440381129,
          5.7485013700013345,
          5.223324856801127,
          2.4951177930571626,
          4.419572028235984,
          2.0626556146599433,
          1.5248319835652648,
          1.637500813200441,
          4.007513260813372,
          4.690384809832792,
          6.281682223754662,
          1.0706073129110192,
          1.377256315643694,
          6.427954723859518,
          3.9416272901597647,
          4.48955241357231,
          1.7741805724769386,
          1.3583015754271892,
          1.6201459329062138,
          2.9470365522839255,
          4.842199237374765,
          4.3263771944036185,
          1.621158750630126,
          3.520468823438054,
          2.1753310230888654,
          0.8383323842062086,
          1.3847137262212434,
          3.099289056181915,
          3.8130557471167155,
          5.373516458701061,
          2.4177892373230345,
          7.49837134534247,
          4.9491510799697505,
          5.557766518141864,
          2.1688709900784047,
          1.6136033987774556,
          0.5496511690444784,
          3.991751651254752,
          5.912766954585038,
          5.391603864192719,
          2.6661438259585135,
          4.571144479145475,
          2.018837741091298,
          1.6411155701288371,
          1.676258946817667,
          4.168561860962861,
          4.832052182365315,
          6.443062661085244,
          5.148194731239907,
          3.0268669940232065,
          3.1696238192941526,
          2.4606130709478227,
          1.7498468375148293,
          2.9582260454609157,
          1.5743124398593096,
          3.553702834510655,
          2.990858724600462,
          0.24918805862739205,
          2.4408630326178025,
          3.2483097506654484,
          1.4837161364973963,
          2.3036423746447707,
          1.8858287615807128,
          2.8626527553220398,
          4.116515561621014,
          3.09408889466407,
          2.0041431689899047,
          6.445343414754387,
          6.7706901265358495,
          8.048008415078911,
          3.6831900148363625,
          1.594498411462694,
          2.2143549277423404,
          4.904282133074554,
          3.058963125985586,
          7.506356588352081,
          6.06297177712952,
          6.663176849099444,
          3.332878132531707,
          3.0843324925338798,
          1.0675420167244332,
          2.0055987916027735,
          3.4672643709759665,
          4.766550123767284,
          5.479305310921786,
          2.3795577168896798,
          1.9473432085254514,
          2.08054494090483,
          2.8550526312300506,
          0.7529898413684271,
          4.519242778895537,
          3.339769934847678,
          3.7683640305068353,
          1.4251616440144743,
          0.18984973430362032,
          2.1140376903926033,
          4.7714157482689465,
          4.766830640416361,
          6.105611928455253,
          1.6791635680207906,
          0.4646906823717728,
          0.2325222241229878,
          2.922448472147218,
          1.5180564943573567,
          5.810790783235327,
          4.221636962956699,
          4.904677727797443,
          1.4751828909443336,
          1.878220592631382,
          1.0709684410710945,
          3.132232789805012,
          2.5379940261795184,
          3.6584574713062312,
          4.990218331640937,
          4.682343973521632,
          2.602278525345387,
          3.392430434340483,
          1.0613225319340838,
          1.0438742669484928,
          0.4936832949708152,
          3.3068523905326264,
          3.416864805252267,
          5.38912514189442,
          1.9612969238606774,
          3.089349782568155,
          5.188482828974793,
          4.562511422258827,
          1.954813406738945,
          4.18994445882436,
          3.416556534180546,
          2.1638787034135305,
          2.7265404741736727,
          3.6129489978694127,
          4.606733476090999,
          5.776439224961232,
          4.530396524147833,
          6.462149618693142,
          5.937976194914344,
          3.207144467909623,
          5.115686123772364,
          2.1642825210803847,
          2.150694716118733,
          2.048417866092344,
          4.718132995493743,
          5.366232290101165,
          6.99265089792142,
          2.112315434149937,
          1.4732467022728644,
          1.3270117116775864,
          1.6282463771521425,
          4.606722086192806,
          2.8720980906238016,
          3.6531700396275837,
          0.9602153122316428,
          2.1898107257055903,
          2.7124861138853302,
          0.6971333621234211,
          3.3098551403219667,
          1.6264433158340965,
          6.042839819249101,
          4.5165804627706585,
          5.161307790305676,
          1.7623650075851247,
          1.857342083808325,
          0.6087687241038516,
          2.7424104863279894,
          1.5227050665930972,
          5.7121045627478875,
          4.092132417447044,
          4.794625110067144,
          1.375496772505344,
          1.9381336683565131,
          1.3023345637545887,
          2.240479823558554,
          3.4340463868072564,
          1.6646389366069654,
          2.481981729407213,
          1.6614565488172488,
          2.685227821479596,
          3.8762819506445334,
          4.451928825049475,
          3.041043654572879,
          3.605582320705554,
          0.6821984993632403,
          0.5640946932629891,
          1.9976990021926502,
          1.769407460192728,
          0.9567200014789488,
          4.339054998659972,
          4.47425760909577,
          6.4492318615664646,
          0.8199608271353825,
          2.7573535488148013,
          3.2362326788047415,
          4.995752609009761,
          3.4294973708766623,
          3.6979504689517695,
          5.598368186696343,
          1.2353846017172314,
          2.274534547381504,
          2.075655895841542
         ],
         "xaxis": "x",
         "y": [
          67.24506887036412,
          24.765764872429415,
          6.072373891049296,
          34.37811602227032,
          19.72712705080042,
          16.543804166213533,
          12.793488092298649,
          11.410710649550214,
          5.623745092409877,
          3.1336081092260955,
          71.60151224972931,
          29.992449610022245,
          7.384065650676337,
          6.970426586215517,
          11.370045352447725,
          12.678720104916513,
          4.972740740896898,
          5.418892001017603,
          20.849249311057658,
          11.759211166353369,
          17.816207814891484,
          11.263523070383627,
          14.835183713362651,
          2.9370307381257477,
          8.018605866121359,
          26.96464918686044,
          14.939651179903036,
          31.504922396822664,
          18.472656196518425,
          14.174054159035054,
          19.249136130078885,
          14.817538058274858,
          7.712148512627066,
          19.84513821532694,
          8.376435510018087,
          10.861424075732208,
          36.653494326618556,
          12.068994171623887,
          17.588890207955068,
          5.826413416388105,
          16.984373249933295,
          3.060492289059155,
          12.005467581868857,
          25.785265085340516,
          17.995885995326773,
          9.439335455486338,
          36.91242438182239,
          8.502069493074623,
          11.917836835621419,
          22.847632265969466,
          45.277525679525034,
          61.192944714362866,
          35.38642056238364,
          47.67612469252487,
          77.75381911838075,
          75.62397198449143,
          74.25924509476071,
          72.53765773800721,
          70.14868014412546,
          40.23376580999534,
          37.27571777091144,
          62.39273581535086,
          65.19958814801954,
          57.63066548919849,
          54.57835586970626,
          66.8831090671314,
          63.40895672737912,
          80.14808245117953,
          74.55452053023244,
          78.78985406921056,
          65.01433287610652,
          55.68672943420981,
          64.61244883861512,
          59.77281959123047,
          40.66707377492994,
          52.62097695617567,
          37.07631507981508,
          78.3830421912313,
          76.18283555987114,
          49.444631133133605,
          74.79606349715172,
          72.92183726344497,
          49.58939065493683,
          68.28222822373286,
          56.58106803449928,
          30.961225629481046,
          73.15556456481079,
          78.90271028921288,
          72.11775957870154,
          51.37732244394265,
          66.64241323755869,
          57.1419968348321,
          41.94852215429257,
          77.15779166427181,
          73.22877779155422,
          30.347559600189207,
          70.8442806722589,
          60.46093515957819,
          44.431745458544285,
          19.069351409323687,
          10.159706747934186,
          7.961628014292071,
          39.60991248010874,
          36.338492829420716,
          34.841183620146914,
          29.14965458223423,
          27.899288479873015,
          47.57207486582776,
          11.003475459203951,
          23.12266326376954,
          25.985698074603096,
          19.84205345146574,
          14.2168965206421,
          26.558161061716785,
          19.808242137397933,
          43.361019386537464,
          35.19508009931652,
          40.8729254794777,
          28.252587668001002,
          20.76392314399368,
          21.83537460268068,
          19.573269251180378,
          13.415116244517257,
          14.588382159925189,
          8.26781281838575,
          41.072610011101766,
          37.42916578960209,
          5.644120045793009,
          37.0655831197066,
          32.021459479343655,
          17.717867044621254,
          29.38660300193328,
          14.32866009313759,
          14.740099891684926,
          34.593235773578485,
          40.787233413419806,
          30.48113295218542,
          16.12382007161675,
          25.450573509320467,
          12.967712333590889,
          5.96043439611405,
          40.17094748737732,
          33.178380209031005,
          16.416135495995167,
          31.270827267001394,
          24.171993164811287,
          10.350970619236477,
          28.4461304289507,
          13.658359056807875,
          20.881800822493883,
          17.41416381135352,
          15.92592712268744,
          11.418857142483986,
          9.102887467247031,
          66.3578959693942,
          23.92910174782379,
          5.909415311847265,
          7.930416926247158,
          7.192377554756725,
          6.685716525706103,
          7.725121576400867,
          3.8678334803931955,
          24.908712374634106,
          16.283903833550273,
          22.16577982690403,
          11.661222509115708,
          10.825901264148316,
          3.5021711691593977,
          3.539602533543251,
          21.062771150511953,
          9.203986245197486,
          25.502724090207,
          22.547307347163834,
          18.604740080570057,
          13.458012928190929,
          18.59801246030083,
          12.952481350859346,
          14.726557153671889,
          11.012691820044891,
          4.853419157521755,
          30.582325573785102,
          15.952296543788169,
          22.02741559899632,
          11.49028555062702,
          11.615210044710443,
          6.399687301035428,
          7.017669471306099,
          19.735541090009136,
          21.80744891478507,
          14.171059292476972,
          30.852618522986102,
          12.44422279268064,
          9.84279408418309,
          16.83708087215696,
          15.281386126026218,
          48.21934589176004,
          45.213065483135516,
          43.72488988980119,
          39.05617090443426,
          37.49085961241049,
          40.27325284076307,
          8.97234147924044,
          31.6135696932835,
          34.567549588843605,
          27.58255622884669,
          22.65312523242219,
          35.529395981067395,
          29.68245253125434,
          51.66014667136261,
          44.06868621093966,
          49.44260268358924,
          36.08348329796554,
          27.404014025776462,
          31.490628471315425,
          28.253712207686196,
          14.317520747008489,
          21.96664037123842,
          3.465334075926308,
          49.47290172043708,
          46.17079445834219,
          15.202767373903626,
          45.49784044351841,
          41.28720961277707,
          22.596271235188386,
          37.97338813333792,
          23.593724828426016,
          6.69042094882641,
          43.215737477192846,
          49.4116886921715,
          39.934762855645275,
          22.36196627417969,
          34.67524492294553,
          22.925144553061635,
          9.306481487239038,
          48.45753211253438,
          42.215796541147945,
          9.389829452814134,
          40.12287366012797,
          31.616781577872764,
          14.552609093080319,
          32.938472414442366,
          29.95350674271863,
          28.469697241631756,
          24.881182646809062,
          22.749403932876728,
          54.84288207528575,
          10.436350662061962,
          16.333176332407977,
          19.288767472614445,
          12.412624767255078,
          7.41536092158569,
          20.328817154757903,
          15.753256426116172,
          36.4196006217302,
          28.810881887610606,
          34.16369477117798,
          20.937231812274078,
          12.884019211359192,
          16.989856991570477,
          13.013846873867589,
          9.07678942626613,
          6.874683331220636,
          12.082005875297037,
          34.211626621742234,
          30.893343273177575,
          4.404395962437161,
          30.228233378431646,
          26.19526748301964,
          9.948008405137227,
          22.69253953155078,
          8.921991416420454,
          16.928711237156786,
          27.93443210919567,
          34.13066440297701,
          25.003393538135192,
          8.162352861236606,
          19.616139652037607,
          9.98075133587524,
          6.149712680639603,
          33.215243027303345,
          27.0072643453501,
          17.346632953734325,
          24.86908088444663,
          16.61112539945967,
          4.473601467221789,
          3.813890097707389,
          5.133093714931146,
          16.17044364691208,
          14.02819093750352,
          87.13299613693565,
          41.887187956228885,
          16.616049356032335,
          13.677576393346717,
          20.81285218816679,
          25.619432220854154,
          13.162854541478682,
          21.86513967630671,
          4.389259432742248,
          4.785708044713273,
          1.2871199544668677,
          12.758404010183053,
          22.127424457792223,
          19.142408766389206,
          20.075241855062686,
          37.429482521589584,
          26.383797164355606,
          44.96901195969229,
          2.154978259344341,
          2.3717559101000245,
          33.97287140505407,
          2.9670284987200746,
          9.094931281167154,
          28.191416602676117,
          10.261641812516151,
          25.34258369168631,
          48.90488944435663,
          5.021910695253989,
          1.1934450218379724,
          11.311467157897527,
          26.786111342088844,
          14.620876810068323,
          27.836439745966004,
          38.98947211102457,
          2.545964733949443,
          7.119379539148561,
          48.389864619767586,
          8.438503191403434,
          17.36535551256606,
          34.52785558334499,
          1.4974348627955198,
          12.440739016559311,
          10.218043647823452,
          83.76470782889001,
          39.266621526860575,
          13.664838416196405,
          10.710107075970388,
          18.168567219948397,
          22.559942711613516,
          9.780375648301598,
          18.156676478922897,
          8.199536047218333,
          1.1461207615898479,
          5.052634534561223,
          10.836996205979474,
          19.965783304238386,
          15.461601935133062,
          16.960942535985104,
          35.06079560967904,
          23.609673522837962,
          42.03101216097949,
          5.894137992586056,
          1.4883714590060948,
          30.694466469344075,
          3.435382117205339,
          5.281062009202208,
          26.0675436412806,
          7.400340522955135,
          22.015713228306065,
          46.25797175657181,
          2.693522116171967,
          4.799923769169207,
          7.499690658980612,
          24.33157571408362,
          11.056047944894603,
          24.290095337323713,
          36.06664635821912,
          5.798335665111308,
          3.356257784062034,
          45.91057298849445,
          5.092769552808751,
          15.212602201921259,
          31.869202548378553,
          11.470821353740783,
          8.955551928094525,
          82.27216973130086,
          37.8251482032856,
          12.19799986192492,
          9.249204147595279,
          16.74331123513126,
          21.072153734963987,
          8.283146273143853,
          16.741841387150263,
          9.465247861830967,
          0.3586195310851319,
          6.407487700127437,
          9.647969080978289,
          18.640139505555084,
          14.030169854983203,
          15.471481094561751,
          33.665505408412876,
          22.154757468435403,
          40.54895990535135,
          7.107068228883303,
          2.764491847743771,
          29.197139563247667,
          3.953268704024724,
          4.114744628567127,
          24.735263491650812,
          5.986419049334621,
          20.51887256068873,
          44.81017538805095,
          2.005374440470857,
          6.196576437709143,
          6.340797588664875,
          22.931350011272585,
          9.580305122943829,
          22.816820483622415,
          34.58721311552349,
          6.810737459816119,
          2.0079295040158,
          44.489379803537076,
          3.6020172406336717,
          13.910981410594294,
          30.4255593776119,
          3.965889477720834,
          75.04081295277754,
          35.26246976794846,
          12.681937556377916,
          11.450368715100531,
          16.94716419539516,
          18.104181412504055,
          9.033949785991938,
          9.373734694387846,
          20.532866167873827,
          11.738516571152566,
          17.309902942432547,
          15.305282047142592,
          20.335478888458052,
          7.941691214768027,
          13.642194015753766,
          32.468507964334364,
          20.499491815367495,
          36.35726047481385,
          18.30526840772049,
          13.927793386822941,
          23.855060098301315,
          15.40375192007854,
          7.40987838552761,
          25.464861102994135,
          11.37071237971036,
          15.961528582589928,
          41.77852903031118,
          12.920231084108618,
          16.96813762114209,
          5.302520452226112,
          22.604355929824408,
          7.735520750944584,
          16.182535553548842,
          30.810757722530674,
          18.219154947446842,
          9.587944776151776,
          42.1905150336355,
          10.090890634947725,
          17.006142635663466,
          28.249560785304773,
          74.68077566588572,
          32.93865322660981,
          8.992358489509508,
          7.508657512525413,
          13.520655453376603,
          15.578291508922662,
          5.079688607068878,
          8.423420452274996,
          18.40162355231594,
          9.282044096467056,
          15.2693781677579,
          11.349047064632925,
          16.739034245852192,
          6.068316458080332,
          10.54135796920437,
          29.71681945536929,
          17.650387267502037,
          34.59272041525852,
          16.05779756862636,
          11.666652909027801,
          22.37749287701434,
          12.666684125656307,
          4.954242231963167,
          22.151204275461698,
          7.53874433313231,
          13.936705273278005,
          39.65960288700532,
          9.984969255540157,
          14.999838205658259,
          2.8370858193781703,
          19.46691571460272,
          3.984059229961404,
          15.119276768428238,
          28.838204252053824,
          15.732224800899218,
          6.948105689263033,
          39.844705566145265,
          6.6955317879486005,
          13.150848092862196,
          25.71893217806439,
          48.75568739095268,
          70.6947316946341,
          73.55035646447186,
          67.2225882056029,
          61.75736386294104,
          74.00765660416296,
          66.26773370113435,
          90.9313698289309,
          82.62918224877355,
          88.40387169570725,
          75.72389101820718,
          67.50446392469628,
          68.6924128566298,
          67.14178954132831,
          54.23238088535017,
          61.71610344186141,
          43.73839214781847,
          88.63598550583053,
          84.91346640834688,
          53.18359586621721,
          84.62978255360012,
          79.1790767743242,
          62.86929760826856,
          76.94314155047884,
          61.790869847317616,
          42.84300703769705,
          82.12787769147106,
          88.30208241034173,
          77.42696308279298,
          62.49611570913053,
          72.74772854693344,
          59.625797161310565,
          49.36780165344587,
          87.74274278842411,
          80.5260345850731,
          45.01757880250542,
          78.74082639199456,
          71.45397423772442,
          54.80520294495267,
          25.665222334071043,
          28.58628016223894,
          21.113075166264593,
          17.365049557479,
          30.004459856266124,
          26.188933804571864,
          44.938359295937275,
          38.14743603787539,
          43.04318412395503,
          29.279254274714123,
          20.07058162631289,
          27.3373513980023,
          22.734247232872903,
          5.477784478638639,
          15.699164449764677,
          5.891358107953535,
          42.8896421988069,
          40.03569131685402,
          12.95605057961135,
          39.02383199479352,
          36.010680942810176,
          14.551372770931849,
          31.87078294642523,
          19.31071929525348,
          7.0205304856884885,
          37.00554091820196,
          43.07505932884589,
          35.027179547246185,
          15.149491585363235,
          29.563455249318146,
          20.216145377205123,
          5.443006042148564,
          41.775873430128286,
          36.564980388273824,
          6.928164580269695,
          34.278558154848206,
          24.662496810355556,
          7.400994819024962,
          2.9597682501266243,
          4.812469914081544,
          9.00919493565858,
          4.556635440981218,
          9.142422493806283,
          20.242697608071552,
          12.53029562504145,
          17.852535700124758,
          5.797681231589499,
          7.757307818074691,
          7.066365725214257,
          3.5845809384633416,
          21.725730193569508,
          9.970860570572029,
          28.391745081551353,
          17.972187127170105,
          14.5626146450292,
          17.52747601912634,
          13.967695599778072,
          10.557092876891655,
          13.400345830234405,
          6.36009417953317,
          9.16650633847322,
          32.63142762135207,
          11.604000405972055,
          17.806610767174384,
          10.089776685557913,
          11.05804468516769,
          5.009224741288719,
          12.519254690516581,
          22.418696018714424,
          17.049257150075825,
          10.905087889184935,
          32.395097738632344,
          8.622539099611343,
          4.593512061847457,
          18.265164995140754,
          7.571367379741587,
          11.942754663338386,
          2.4382077097304027,
          10.387332786556978,
          17.38511124524742,
          9.578474243113655,
          14.922493046792027,
          4.332180383596496,
          10.005028597740129,
          7.834039279403859,
          6.414409327438492,
          24.542570482235178,
          12.906097240610777,
          31.350815764832582,
          15.08700403705818,
          11.604811480784655,
          20.36699063042437,
          11.080097850942913,
          7.929374318088636,
          15.936107004512548,
          3.416109370113573,
          11.854087546429446,
          35.564319099257965,
          8.658968932024564,
          14.866019824132541,
          7.872737319030366,
          13.822969800419129,
          3.9537771338522134,
          14.882048783196174,
          25.37829352212362,
          14.20757385387575,
          8.032632154337248,
          35.28458885948113,
          5.693786949413535,
          5.795311863852765,
          21.185372917729534,
          5.822298388852203,
          9.367444805804222,
          11.059950260086516,
          24.08881933753336,
          17.058604884884478,
          21.995006654098074,
          8.525066946272025,
          3.6520229018165153,
          9.995818202591195,
          3.711580056455061,
          16.971212136145482,
          5.618295912271463,
          24.257597766440973,
          21.93577711254882,
          18.92355570690718,
          14.500154896361632,
          17.99868382278021,
          15.36352959257499,
          8.648070086504271,
          10.768242922416965,
          7.5463643557161415,
          28.119431002480585,
          15.896459551617975,
          22.004605956740992,
          14.864977851075253,
          6.260628887185019,
          9.585463829217925,
          11.594496794905503,
          18.28804423496339,
          20.889970368058435,
          15.603900275082488,
          27.74607264656229,
          13.24436549947011,
          4.364077787562345,
          13.728472314719316,
          12.91354566404347,
          9.687512604401965,
          29.226477094203872,
          21.41563188299532,
          26.86002721568732,
          14.049118763444422,
          7.955256079833529,
          10.179394396612613,
          5.6032482935227605,
          14.387363864099132,
          2.992699654628243,
          19.494679084904476,
          26.973161739092053,
          23.531129298559648,
          8.739115001479146,
          22.97177365662197,
          18.80242023800978,
          9.167403226763224,
          15.35799678310352,
          3.097612378049237,
          24.151339390065267,
          20.601723587207072,
          26.808498039848654,
          17.690430575075105,
          5.915767947467036,
          12.254872832435083,
          6.848373944610431,
          13.560309865796032,
          26.026222941941715,
          19.592415663437983,
          24.266496855688306,
          17.470192812488516,
          10.178044295231878,
          10.169317262028171,
          9.301531870289,
          17.194845754405492,
          8.637454194832634,
          14.44516254952643,
          6.421502017349205,
          12.169442781351087,
          6.56420000968819,
          7.328559296914846,
          26.22488989221232,
          14.325107506163077,
          32.405317972868964,
          14.827936573248587,
          10.907829064048151,
          20.91418048660631,
          10.90025414152064,
          6.038871558585706,
          17.943440794642726,
          3.5803561098215626,
          12.236594329200718,
          36.921853425809644,
          8.230415639944173,
          14.31561660510439,
          5.586467088865274,
          15.599454158567974,
          1.960431057018371,
          14.714872918806162,
          26.472787243854096,
          14.120019789788273,
          6.686413338239336,
          36.79682679455947,
          4.734960038312302,
          8.186327013940208,
          22.62328550922851,
          26.11780554527042,
          17.0953089756952,
          23.145779693327103,
          14.555276734039907,
          14.692680032008115,
          2.763459609189293,
          7.388037173085334,
          23.91244701654003,
          12.517734169093716,
          27.003361325856652,
          23.734963330493184,
          19.50460557260533,
          14.481578510646216,
          19.961577866322852,
          13.129948471070954,
          18.349640243713687,
          12.875330485044113,
          6.992725932510442,
          32.53988099371339,
          17.218601566087635,
          22.936954099497765,
          11.212989940382899,
          15.158046676707743,
          7.458971574448757,
          6.852481166631866,
          21.538334712036963,
          23.174996198143624,
          14.801278031020995,
          33.09783146216344,
          13.609461675172488,
          13.456142442447481,
          19.46399161622792,
          9.128367426176142,
          3.22760952775025,
          15.671167762185211,
          24.9221767035386,
          23.37484283612365,
          23.789646890659213,
          40.24166595237406,
          29.706545462134606,
          48.34631819939839,
          2.38315955516975,
          6.735542171057398,
          37.75020703094281,
          6.324728139835729,
          13.479382857932455,
          30.844537159817172,
          14.012781119691356,
          29.209586801992,
          51.953518003268,
          8.969227980964073,
          3.6001725902360557,
          15.69906638739669,
          29.78975827945139,
          18.776214603683588,
          31.909559970949815,
          42.37461858350065,
          3.204443186547328,
          11.468887553048509,
          51.25872509921842,
          12.552573508563233,
          20.27632186825557,
          37.66350822150807,
          6.057259459783014,
          9.881484260445674,
          18.920645814309125,
          14.385523879059205,
          15.81599034042475,
          33.97063094637812,
          22.482210669530158,
          40.88923660463255,
          6.776093116686311,
          2.4148801511185716,
          29.550992220655242,
          3.728076300451941,
          4.413741297396889,
          25.01860673340131,
          6.294746340680468,
          20.873672149316413,
          45.13505164784737,
          2.033395194474848,
          5.842008930304312,
          6.6434979314860305,
          23.237793491044094,
          9.938916981672877,
          23.175425332021348,
          34.92608885725867,
          6.511177137125723,
          2.3405292219448697,
          44.80403904976484,
          3.947091079994434,
          14.182634747626748,
          30.748587638345978,
          13.846226681597468,
          23.21634552217976,
          20.4256529840142,
          21.327513716124443,
          38.53756691840083,
          27.579703485652203,
          46.18180419469255,
          1.369771468596816,
          3.6429981767604396,
          35.23784308599908,
          4.026619962082229,
          10.324590724828694,
          29.25909314493305,
          11.506825292667298,
          26.614986580191708,
          50.06280648299948,
          6.279689808494057,
          0.45829076639368577,
          12.530400319453719,
          27.92357905925847,
          15.907987860778917,
          29.122887107481358,
          40.20185885124615,
          2.3790033246037923,
          8.383422397918382,
          49.51401927258334,
          9.723575383367606,
          18.468802509198127,
          35.69584817492803,
          9.37144670013901,
          12.104138601206518,
          9.195719030978942,
          24.69327428895082,
          14.122094671493258,
          32.73430251351998,
          13.615751869640784,
          11.207768184735937,
          22.77839052482818,
          9.822637130749106,
          10.156557049487478,
          15.435584229351894,
          4.4090796020305145,
          14.786429287551414,
          36.29799848076674,
          8.225216771397426,
          13.92397624558963,
          10.925020303489442,
          14.13079754004258,
          8.211016615333543,
          18.297978111997356,
          26.779759553611154,
          12.49785202075609,
          9.296215494067624,
          35.68042650822137,
          6.941078365517145,
          4.629649099723054,
          21.992366950604872,
          13.627097613805297,
          7.363602339821233,
          15.335575231993507,
          6.255314073963082,
          23.974515294213155,
          22.94712722863792,
          20.496415605572142,
          15.88401297811554,
          19.19391439671508,
          17.929356563987476,
          6.102896690562124,
          12.725106777856494,
          10.438361922564466,
          27.066715463086684,
          17.469279430489674,
          23.295100480446646,
          17.755846028186365,
          5.0445973464241005,
          12.7557311273527,
          14.518829414299425,
          18.156360271423264,
          21.79111084409658,
          17.80821643725831,
          26.3420075961131,
          15.36912948752351,
          4.775226303416725,
          12.958915671434669,
          6.329227476851884,
          24.562529814910235,
          12.687743584774566,
          28.656649048828246,
          20.991688379565833,
          16.788525218818823,
          16.33610216630245,
          17.202409761517437,
          10.532367017719167,
          18.044959092138754,
          10.143958749398417,
          8.07378302359688,
          33.913231529328954,
          14.461569315115723,
          20.226560275103406,
          8.74028179390132,
          15.006670725838784,
          4.698209874487779,
          9.078206682409174,
          22.991991524291883,
          20.41790072943893,
          12.112279369849889,
          34.265234236349876,
          10.852118297135265,
          11.603415872621937,
          20.309673529755347,
          19.21311696540135,
          7.158396586274882,
          25.09549470739218,
          21.499896820092932,
          17.953010396498186,
          13.961982232410337,
          17.492802570938476,
          13.284583058988401,
          11.845122008890327,
          9.823595730857539,
          5.608115178831457,
          29.61817232168964,
          15.053333901370099,
          21.260113284433633,
          12.344940037540328,
          8.973765472543269,
          6.869922475121464,
          9.176094279215684,
          19.151261486511824,
          20.6035727868872,
          13.99570634350514,
          29.57208732508905,
          11.869507595852916,
          6.5216221660046525,
          15.386765395182584,
          12.06732428758648,
          11.018821480618362,
          38.28267509263253,
          35.709871578943684,
          12.997308970278976,
          34.51178409824478,
          32.26191122694625,
          9.460276679084693,
          27.679174481255664,
          16.929326320980323,
          12.035293942359282,
          32.67041551288039,
          38.60455230017031,
          31.52957029928416,
          10.73535604004392,
          26.068102446097132,
          18.882888405961733,
          7.580677734225615,
          37.12291247026178,
          32.57498804035544,
          11.021871279429025,
          30.206127846357028,
          20.06888599076748,
          4.6479048350157965,
          18.639808335978742,
          27.545951854134717,
          24.43850410196199,
          9.631318529263432,
          23.596510695034517,
          20.351720832746942,
          6.191179744280526,
          16.235121301282838,
          6.088231951032134,
          22.66081260622531,
          21.429615291062582,
          27.5769219335423,
          19.499702419133545,
          2.963374810550317,
          14.026760410076221,
          9.668857268532706,
          12.669848341831745,
          26.506964152457503,
          20.86606878842345,
          22.471828372470803,
          18.591437587168855,
          9.738693352276698,
          8.303991380899689,
          46.179830039474425,
          42.95390553687102,
          12.589762057476797,
          42.21805402418923,
          38.23576646666752,
          19.131504000920057,
          34.74459653104844,
          20.65658751450515,
          6.5368888995000365,
          39.97920445536094,
          46.16227477492397,
          36.96233500465643,
          18.93019585920386,
          31.6353753749334,
          20.379216706497303,
          5.979952923043422,
          45.14669368518858,
          39.08682757145621,
          8.579078316933291,
          36.94917972861309,
          28.237605033331313,
          11.093216484420266,
          4.411691831955829,
          35.45245283432062,
          4.0070950678403285,
          11.15698158417483,
          28.93772731971468,
          11.695089083362078,
          26.88446640906053,
          49.90955292416801,
          6.598008155204554,
          1.8273622095936752,
          13.383832693819453,
          27.74433537586975,
          16.39569330640387,
          29.542356711490893,
          40.202603762783575,
          1.2992110921255937,
          9.114292616336812,
          49.284804033819526,
          10.172391525233017,
          18.243342590758946,
          35.57774607992661,
          31.78667849650124,
          2.413028483929006,
          6.748156494827859,
          26.594184119857307,
          8.212994030377406,
          23.129225346656533,
          47.04286816830827,
          3.039720049249217,
          3.442162645714713,
          8.973156102043962,
          25.007934184915477,
          12.300660797821202,
          25.53184337526163,
          36.979345333962726,
          4.330896633070412,
          4.747831187082091,
          46.617355980877655,
          6.173120580261796,
          15.721900514367965,
          32.65110947465716,
          31.44618668749826,
          26.407891956777565,
          14.026972240931613,
          23.760756466726924,
          8.688084472438792,
          18.490709078569605,
          28.958434490459624,
          35.14875875419134,
          24.91074041633675,
          11.738536354602402,
          19.82343815459626,
          7.789479757587071,
          7.645545901117353,
          34.56552893033866,
          27.539132534567052,
          19.516307943431343,
          25.62703034913601,
          18.862648120960866,
          8.630901257067416,
          8.006349977623357,
          25.245341840161434,
          7.6925983106059395,
          22.88755663444346,
          46.043972695849206,
          2.7502336274888872,
          4.107440158339462,
          10.202084340512846,
          23.899044931838446,
          12.547365038943866,
          25.606863680642256,
          36.23884017513588,
          3.2237146740992717,
          5.832600371670898,
          45.48742749506796,
          6.353375087132936,
          14.442898709001545,
          31.68370768953772,
          23.8538903554681,
          5.751567315482466,
          17.750722115672254,
          42.90238160822746,
          5.525616807752222,
          10.048154674378821,
          2.2305224210848964,
          21.615135213411474,
          6.612772725120675,
          19.557806810080546,
          32.34457386822032,
          10.923312380741637,
          2.178546866603372,
          42.82190824642403,
          3.379738290824914,
          13.526087488898684,
          28.641448430893284,
          18.79929432951952,
          12.26368357010174,
          21.424852001162574,
          23.569845914388953,
          29.351689103293538,
          23.488412901076895,
          3.2589463747658796,
          18.231893351727887,
          15.813640951246315,
          13.74566618689854,
          27.754076340121006,
          23.854072877722942,
          20.470450096580915,
          21.4246728855794,
          10.873004427398284,
          8.136959762514419,
          15.196872739627752,
          38.86712352373345,
          5.244693012106137,
          11.450508092905524,
          6.617632173334913,
          16.94493394756108,
          5.504565338008724,
          18.02834831501372,
          28.768585039555997,
          10.856187946544692,
          5.119516176542043,
          38.511203385241274,
          2.675552066676849,
          8.07219510149672,
          24.4757928092138,
          25.839981882448082,
          20.34299153509745,
          26.51125736275089,
          16.34114812231237,
          9.009275555857455,
          11.14926339393305,
          4.089014411245655,
          14.928172552951832,
          26.047881506810445,
          18.851048118491303,
          26.236909799343806,
          16.960534177542705,
          11.603576466283572,
          12.473102014818483,
          44.01523319659846,
          50.093229585637616,
          41.841485080241185,
          22.16737221669702,
          36.40047964198657,
          26.183624039901126,
          11.010323533297818,
          48.79367456070386,
          43.51792933622492,
          2.844170152183161,
          41.25211800546293,
          31.679088910021505,
          14.392470494909809,
          6.207905758192074,
          7.642767373767149,
          21.96864160008261,
          9.82202548699993,
          22.94440174465272,
          34.00133007914794,
          5.956442859732489,
          3.3737438406693867,
          43.578753164071756,
          3.6094511818417305,
          12.696954433794565,
          29.624929733722556,
          12.242184960755418,
          27.969284514749862,
          15.74033651287445,
          28.967736191046974,
          40.18276842714617,
          2.785832007906904,
          8.14965076060918,
          49.57002781228773,
          9.584072851100188,
          18.537491087939618,
          35.71784423165675,
          21.030725587658402,
          5.475828396038746,
          17.81832263306983,
          31.134664274490422,
          13.151235799328154,
          4.372861410420749,
          41.89505901231238,
          4.870548546872334,
          13.661691299609394,
          27.71654461991496,
          15.641042917855737,
          12.629181991818347,
          13.131680207501557,
          26.626496104636924,
          21.851540151970223,
          21.612393241902865,
          19.473818873392666,
          9.513444259515383,
          7.931747170952397,
          13.23656521912803,
          25.76169084399938,
          15.76954517260823,
          7.778825020568161,
          36.423607253749694,
          6.223661136847005,
          9.275312382230135,
          22.242694792225215,
          15.202268599978416,
          28.820028822832782,
          20.987346345215254,
          27.008106893973817,
          19.402513121284628,
          15.510644283820117,
          14.241206371930755,
          39.173851912760426,
          33.1469595496379,
          11.873326302438262,
          30.989466330913675,
          22.311798528157706,
          5.6262840055419,
          8.800755920932364,
          48.1331184192207,
          9.565838857967035,
          17.115221587548195,
          34.48554633253459,
          43.29859294049987,
          2.446118502403065,
          13.189763362419525,
          29.166782860468746,
          40.97609253671771,
          31.051264123368302,
          14.185645985267977,
          10.743759988494528,
          26.877563335824956,
          17.404501308845205
         ],
         "yaxis": "y"
        }
       ],
       "layout": {
        "height": 600,
        "legend": {
         "tracegroupgap": 0
        },
        "margin": {
         "t": 60
        },
        "template": {
         "data": {
          "bar": [
           {
            "error_x": {
             "color": "#2a3f5f"
            },
            "error_y": {
             "color": "#2a3f5f"
            },
            "marker": {
             "line": {
              "color": "#E5ECF6",
              "width": 0.5
             },
             "pattern": {
              "fillmode": "overlay",
              "size": 10,
              "solidity": 0.2
             }
            },
            "type": "bar"
           }
          ],
          "barpolar": [
           {
            "marker": {
             "line": {
              "color": "#E5ECF6",
              "width": 0.5
             },
             "pattern": {
              "fillmode": "overlay",
              "size": 10,
              "solidity": 0.2
             }
            },
            "type": "barpolar"
           }
          ],
          "carpet": [
           {
            "aaxis": {
             "endlinecolor": "#2a3f5f",
             "gridcolor": "white",
             "linecolor": "white",
             "minorgridcolor": "white",
             "startlinecolor": "#2a3f5f"
            },
            "baxis": {
             "endlinecolor": "#2a3f5f",
             "gridcolor": "white",
             "linecolor": "white",
             "minorgridcolor": "white",
             "startlinecolor": "#2a3f5f"
            },
            "type": "carpet"
           }
          ],
          "choropleth": [
           {
            "colorbar": {
             "outlinewidth": 0,
             "ticks": ""
            },
            "type": "choropleth"
           }
          ],
          "contour": [
           {
            "colorbar": {
             "outlinewidth": 0,
             "ticks": ""
            },
            "colorscale": [
             [
              0,
              "#0d0887"
             ],
             [
              0.1111111111111111,
              "#46039f"
             ],
             [
              0.2222222222222222,
              "#7201a8"
             ],
             [
              0.3333333333333333,
              "#9c179e"
             ],
             [
              0.4444444444444444,
              "#bd3786"
             ],
             [
              0.5555555555555556,
              "#d8576b"
             ],
             [
              0.6666666666666666,
              "#ed7953"
             ],
             [
              0.7777777777777778,
              "#fb9f3a"
             ],
             [
              0.8888888888888888,
              "#fdca26"
             ],
             [
              1,
              "#f0f921"
             ]
            ],
            "type": "contour"
           }
          ],
          "contourcarpet": [
           {
            "colorbar": {
             "outlinewidth": 0,
             "ticks": ""
            },
            "type": "contourcarpet"
           }
          ],
          "heatmap": [
           {
            "colorbar": {
             "outlinewidth": 0,
             "ticks": ""
            },
            "colorscale": [
             [
              0,
              "#0d0887"
             ],
             [
              0.1111111111111111,
              "#46039f"
             ],
             [
              0.2222222222222222,
              "#7201a8"
             ],
             [
              0.3333333333333333,
              "#9c179e"
             ],
             [
              0.4444444444444444,
              "#bd3786"
             ],
             [
              0.5555555555555556,
              "#d8576b"
             ],
             [
              0.6666666666666666,
              "#ed7953"
             ],
             [
              0.7777777777777778,
              "#fb9f3a"
             ],
             [
              0.8888888888888888,
              "#fdca26"
             ],
             [
              1,
              "#f0f921"
             ]
            ],
            "type": "heatmap"
           }
          ],
          "heatmapgl": [
           {
            "colorbar": {
             "outlinewidth": 0,
             "ticks": ""
            },
            "colorscale": [
             [
              0,
              "#0d0887"
             ],
             [
              0.1111111111111111,
              "#46039f"
             ],
             [
              0.2222222222222222,
              "#7201a8"
             ],
             [
              0.3333333333333333,
              "#9c179e"
             ],
             [
              0.4444444444444444,
              "#bd3786"
             ],
             [
              0.5555555555555556,
              "#d8576b"
             ],
             [
              0.6666666666666666,
              "#ed7953"
             ],
             [
              0.7777777777777778,
              "#fb9f3a"
             ],
             [
              0.8888888888888888,
              "#fdca26"
             ],
             [
              1,
              "#f0f921"
             ]
            ],
            "type": "heatmapgl"
           }
          ],
          "histogram": [
           {
            "marker": {
             "pattern": {
              "fillmode": "overlay",
              "size": 10,
              "solidity": 0.2
             }
            },
            "type": "histogram"
           }
          ],
          "histogram2d": [
           {
            "colorbar": {
             "outlinewidth": 0,
             "ticks": ""
            },
            "colorscale": [
             [
              0,
              "#0d0887"
             ],
             [
              0.1111111111111111,
              "#46039f"
             ],
             [
              0.2222222222222222,
              "#7201a8"
             ],
             [
              0.3333333333333333,
              "#9c179e"
             ],
             [
              0.4444444444444444,
              "#bd3786"
             ],
             [
              0.5555555555555556,
              "#d8576b"
             ],
             [
              0.6666666666666666,
              "#ed7953"
             ],
             [
              0.7777777777777778,
              "#fb9f3a"
             ],
             [
              0.8888888888888888,
              "#fdca26"
             ],
             [
              1,
              "#f0f921"
             ]
            ],
            "type": "histogram2d"
           }
          ],
          "histogram2dcontour": [
           {
            "colorbar": {
             "outlinewidth": 0,
             "ticks": ""
            },
            "colorscale": [
             [
              0,
              "#0d0887"
             ],
             [
              0.1111111111111111,
              "#46039f"
             ],
             [
              0.2222222222222222,
              "#7201a8"
             ],
             [
              0.3333333333333333,
              "#9c179e"
             ],
             [
              0.4444444444444444,
              "#bd3786"
             ],
             [
              0.5555555555555556,
              "#d8576b"
             ],
             [
              0.6666666666666666,
              "#ed7953"
             ],
             [
              0.7777777777777778,
              "#fb9f3a"
             ],
             [
              0.8888888888888888,
              "#fdca26"
             ],
             [
              1,
              "#f0f921"
             ]
            ],
            "type": "histogram2dcontour"
           }
          ],
          "mesh3d": [
           {
            "colorbar": {
             "outlinewidth": 0,
             "ticks": ""
            },
            "type": "mesh3d"
           }
          ],
          "parcoords": [
           {
            "line": {
             "colorbar": {
              "outlinewidth": 0,
              "ticks": ""
             }
            },
            "type": "parcoords"
           }
          ],
          "pie": [
           {
            "automargin": true,
            "type": "pie"
           }
          ],
          "scatter": [
           {
            "fillpattern": {
             "fillmode": "overlay",
             "size": 10,
             "solidity": 0.2
            },
            "type": "scatter"
           }
          ],
          "scatter3d": [
           {
            "line": {
             "colorbar": {
              "outlinewidth": 0,
              "ticks": ""
             }
            },
            "marker": {
             "colorbar": {
              "outlinewidth": 0,
              "ticks": ""
             }
            },
            "type": "scatter3d"
           }
          ],
          "scattercarpet": [
           {
            "marker": {
             "colorbar": {
              "outlinewidth": 0,
              "ticks": ""
             }
            },
            "type": "scattercarpet"
           }
          ],
          "scattergeo": [
           {
            "marker": {
             "colorbar": {
              "outlinewidth": 0,
              "ticks": ""
             }
            },
            "type": "scattergeo"
           }
          ],
          "scattergl": [
           {
            "marker": {
             "colorbar": {
              "outlinewidth": 0,
              "ticks": ""
             }
            },
            "type": "scattergl"
           }
          ],
          "scattermapbox": [
           {
            "marker": {
             "colorbar": {
              "outlinewidth": 0,
              "ticks": ""
             }
            },
            "type": "scattermapbox"
           }
          ],
          "scatterpolar": [
           {
            "marker": {
             "colorbar": {
              "outlinewidth": 0,
              "ticks": ""
             }
            },
            "type": "scatterpolar"
           }
          ],
          "scatterpolargl": [
           {
            "marker": {
             "colorbar": {
              "outlinewidth": 0,
              "ticks": ""
             }
            },
            "type": "scatterpolargl"
           }
          ],
          "scatterternary": [
           {
            "marker": {
             "colorbar": {
              "outlinewidth": 0,
              "ticks": ""
             }
            },
            "type": "scatterternary"
           }
          ],
          "surface": [
           {
            "colorbar": {
             "outlinewidth": 0,
             "ticks": ""
            },
            "colorscale": [
             [
              0,
              "#0d0887"
             ],
             [
              0.1111111111111111,
              "#46039f"
             ],
             [
              0.2222222222222222,
              "#7201a8"
             ],
             [
              0.3333333333333333,
              "#9c179e"
             ],
             [
              0.4444444444444444,
              "#bd3786"
             ],
             [
              0.5555555555555556,
              "#d8576b"
             ],
             [
              0.6666666666666666,
              "#ed7953"
             ],
             [
              0.7777777777777778,
              "#fb9f3a"
             ],
             [
              0.8888888888888888,
              "#fdca26"
             ],
             [
              1,
              "#f0f921"
             ]
            ],
            "type": "surface"
           }
          ],
          "table": [
           {
            "cells": {
             "fill": {
              "color": "#EBF0F8"
             },
             "line": {
              "color": "white"
             }
            },
            "header": {
             "fill": {
              "color": "#C8D4E3"
             },
             "line": {
              "color": "white"
             }
            },
            "type": "table"
           }
          ]
         },
         "layout": {
          "annotationdefaults": {
           "arrowcolor": "#2a3f5f",
           "arrowhead": 0,
           "arrowwidth": 1
          },
          "autotypenumbers": "strict",
          "coloraxis": {
           "colorbar": {
            "outlinewidth": 0,
            "ticks": ""
           }
          },
          "colorscale": {
           "diverging": [
            [
             0,
             "#8e0152"
            ],
            [
             0.1,
             "#c51b7d"
            ],
            [
             0.2,
             "#de77ae"
            ],
            [
             0.3,
             "#f1b6da"
            ],
            [
             0.4,
             "#fde0ef"
            ],
            [
             0.5,
             "#f7f7f7"
            ],
            [
             0.6,
             "#e6f5d0"
            ],
            [
             0.7,
             "#b8e186"
            ],
            [
             0.8,
             "#7fbc41"
            ],
            [
             0.9,
             "#4d9221"
            ],
            [
             1,
             "#276419"
            ]
           ],
           "sequential": [
            [
             0,
             "#0d0887"
            ],
            [
             0.1111111111111111,
             "#46039f"
            ],
            [
             0.2222222222222222,
             "#7201a8"
            ],
            [
             0.3333333333333333,
             "#9c179e"
            ],
            [
             0.4444444444444444,
             "#bd3786"
            ],
            [
             0.5555555555555556,
             "#d8576b"
            ],
            [
             0.6666666666666666,
             "#ed7953"
            ],
            [
             0.7777777777777778,
             "#fb9f3a"
            ],
            [
             0.8888888888888888,
             "#fdca26"
            ],
            [
             1,
             "#f0f921"
            ]
           ],
           "sequentialminus": [
            [
             0,
             "#0d0887"
            ],
            [
             0.1111111111111111,
             "#46039f"
            ],
            [
             0.2222222222222222,
             "#7201a8"
            ],
            [
             0.3333333333333333,
             "#9c179e"
            ],
            [
             0.4444444444444444,
             "#bd3786"
            ],
            [
             0.5555555555555556,
             "#d8576b"
            ],
            [
             0.6666666666666666,
             "#ed7953"
            ],
            [
             0.7777777777777778,
             "#fb9f3a"
            ],
            [
             0.8888888888888888,
             "#fdca26"
            ],
            [
             1,
             "#f0f921"
            ]
           ]
          },
          "colorway": [
           "#636efa",
           "#EF553B",
           "#00cc96",
           "#ab63fa",
           "#FFA15A",
           "#19d3f3",
           "#FF6692",
           "#B6E880",
           "#FF97FF",
           "#FECB52"
          ],
          "font": {
           "color": "#2a3f5f"
          },
          "geo": {
           "bgcolor": "white",
           "lakecolor": "white",
           "landcolor": "#E5ECF6",
           "showlakes": true,
           "showland": true,
           "subunitcolor": "white"
          },
          "hoverlabel": {
           "align": "left"
          },
          "hovermode": "closest",
          "mapbox": {
           "style": "light"
          },
          "paper_bgcolor": "white",
          "plot_bgcolor": "#E5ECF6",
          "polar": {
           "angularaxis": {
            "gridcolor": "white",
            "linecolor": "white",
            "ticks": ""
           },
           "bgcolor": "#E5ECF6",
           "radialaxis": {
            "gridcolor": "white",
            "linecolor": "white",
            "ticks": ""
           }
          },
          "scene": {
           "xaxis": {
            "backgroundcolor": "#E5ECF6",
            "gridcolor": "white",
            "gridwidth": 2,
            "linecolor": "white",
            "showbackground": true,
            "ticks": "",
            "zerolinecolor": "white"
           },
           "yaxis": {
            "backgroundcolor": "#E5ECF6",
            "gridcolor": "white",
            "gridwidth": 2,
            "linecolor": "white",
            "showbackground": true,
            "ticks": "",
            "zerolinecolor": "white"
           },
           "zaxis": {
            "backgroundcolor": "#E5ECF6",
            "gridcolor": "white",
            "gridwidth": 2,
            "linecolor": "white",
            "showbackground": true,
            "ticks": "",
            "zerolinecolor": "white"
           }
          },
          "shapedefaults": {
           "line": {
            "color": "#2a3f5f"
           }
          },
          "ternary": {
           "aaxis": {
            "gridcolor": "white",
            "linecolor": "white",
            "ticks": ""
           },
           "baxis": {
            "gridcolor": "white",
            "linecolor": "white",
            "ticks": ""
           },
           "bgcolor": "#E5ECF6",
           "caxis": {
            "gridcolor": "white",
            "linecolor": "white",
            "ticks": ""
           }
          },
          "title": {
           "x": 0.05
          },
          "xaxis": {
           "automargin": true,
           "gridcolor": "white",
           "linecolor": "white",
           "ticks": "",
           "title": {
            "standoff": 15
           },
           "zerolinecolor": "white",
           "zerolinewidth": 2
          },
          "yaxis": {
           "automargin": true,
           "gridcolor": "white",
           "linecolor": "white",
           "ticks": "",
           "title": {
            "standoff": 15
           },
           "zerolinecolor": "white",
           "zerolinewidth": 2
          }
         }
        },
        "width": 800,
        "xaxis": {
         "anchor": "y",
         "domain": [
          0,
          1
         ],
         "title": {
          "text": "PCA distance"
         }
        },
        "yaxis": {
         "anchor": "x",
         "domain": [
          0,
          1
         ],
         "title": {
          "text": "Geo distance"
         }
        }
       }
      }
     },
     "metadata": {},
     "output_type": "display_data"
    }
   ],
   "source": [
    "# 1275 --> total number of unique pairs of states n(n-1)/2\n",
    "\n",
    "# create a new dataframe that contains \n",
    "#1) col of state pairs (a tuple?), \n",
    "#2) distance of PCA, \n",
    "#3) geographical distance\n",
    "# x: PCA distance, y: geo distance\n",
    "# the new dataframe has a shape of (1275, 3)\n",
    "\n",
    "from itertools import combinations\n",
    "\n",
    "# a clean PCA df, index = STNAME, col labels = 0,1\n",
    "pca_df = X_2d.drop(columns = ['cases per capita']) # columns labeled 0,1\n",
    "\n",
    "#NOTE: state_names is defined in previous questions\n",
    "\n",
    "unique_pairs_states = [\",\".join(map(str, comb)) for comb in combinations(state_names, 2)] # each elem in the list is a str (of two states)\n",
    "unique_pairs_states\n",
    "\n",
    "state_pairs = []\n",
    "for pair in unique_pairs_states:\n",
    "    state_pairs.append(pair.split(','))\n",
    "state_pairs\n",
    "\n",
    "# use pca_df, calculate pca distance\n",
    "pca_distance = []\n",
    "for pair in state_pairs: # note: a pair looks like: ['Alabama', 'Alaska']\n",
    "    pc1_0 = pca_df.loc[pair[0]][0]\n",
    "    pc2_0 = pca_df.loc[pair[0]][1]\n",
    "    \n",
    "    pc1_1 = pca_df.loc[pair[1]][0]\n",
    "    pc2_1 = pca_df.loc[pair[1]][1]\n",
    "    \n",
    "    dist = np.sqrt((pc1_1 - pc1_0 )**2 + (pc2_1 - pc2_0)**2 )\n",
    "    pca_distance.append(dist)\n",
    "    \n",
    "\n",
    "# calculate geo distance\n",
    "# dataframe with lat and long, index = STNAME\n",
    "lat_long_df = county_data.groupby('STNAME').mean().loc[:,['Lat','Long_']]\n",
    "\n",
    "geo_distance = []\n",
    "for pair in state_pairs: # note: a pair looks like: ['Alabama', 'Alaska']\n",
    "    lat_0 = lat_long_df.loc[pair[0]][0]\n",
    "    long_0 = lat_long_df.loc[pair[0]][1]\n",
    "    \n",
    "    lat_1 = lat_long_df.loc[pair[1]][0]\n",
    "    long_1 = lat_long_df.loc[pair[1]][1]\n",
    "    \n",
    "    dist = np.sqrt((lat_0 - lat_1 )**2 + (long_0 - long_1)**2 )\n",
    "    geo_distance.append(dist)\n",
    "    \n",
    "\n",
    "three_g = {'state pairs':state_pairs, 'PCA distance':pca_distance, 'Geo distance':geo_distance}\n",
    "df_3g = pd.DataFrame(data = three_g)\n",
    "df_3g\n",
    "\n",
    "\n",
    "# plotting, scatter plot\n",
    "x, y = df_3g['PCA distance'], df_3g['Geo distance']\n",
    "\n",
    "\n",
    "fig = px.scatter(df_3g, x= x , y= y, hover_name = 'state pairs')\n",
    "fig.update_layout(width = 800, height = 600)\n",
    "\n",
    "fig.show()"
   ]
  },
  {
   "cell_type": "markdown",
   "id": "ac3f30eb",
   "metadata": {
    "deletable": false,
    "editable": false
   },
   "source": [
    "### Question 3h\n",
    "\n",
    "Interpret the relationship displayed in part (g). What does this suggest about the role that geography plays within this dataset despite no geographical information explicitly encoded within the matrix  $X$ from part (a)?\n",
    "\n",
    "<!--\n",
    "BEGIN QUESTION\n",
    "name: q3h\n",
    "points: 3\n",
    "-->"
   ]
  },
  {
   "cell_type": "markdown",
   "id": "baa0db52",
   "metadata": {},
   "source": [
    "As the PCA distance for a state pair increases, the geographical distance between the state pair also roughly increases. The PCA distance and the geographical distance have a roughly postive relationship, so this suggests that we can probably get a rough idea of how two states are geographically related just by examing the distance of first two PCs, and since the correlation between the PCA distance and the geographical distance is not very strong, we can also infer that the geographical distance/location does not contribute much to the total variance showed in the data."
   ]
  },
  {
   "cell_type": "markdown",
   "id": "2cf828e9",
   "metadata": {
    "deletable": false,
    "editable": false
   },
   "source": [
    "<!-- BEGIN QUESTION -->\n",
    "\n",
    "<br/><br/><br/>\n",
    "\n",
    "---\n",
    "\n",
    "<br/><br/><br/>\n",
    "\n",
    "## Looking at State's Voting Preference using Open EDA\n",
    "\n",
    "Perform EDA of your choice on the data to generate 2 visualizations. You may follow the line of investigation in the guided sections by visualizing the relationship between safety protocols and the spread of COVID-19 spatially or temporally, or you may explore other areas of your choice. \n",
    "\n",
    "For each visualization, make sure to address the following:\n",
    "\n",
    "1. Address a relationship in the data concerning the spread, effect, or prevention of COVID-19 through a visualization, with at *most* one univariate data visualization. If needed, use an unsupervised learning technique such as PCA to reveal patterns within the data.\n",
    "2. Comment on the visualization in terms of the distribution, trends, and patterns it shows.\n",
    "3. Comment on what the visualization indicates about the data with regards to the features you may choose for a supervised learning task.\n",
    "\n",
    "<!--\n",
    "BEGIN QUESTION\n",
    "name: q4\n",
    "points: 30\n",
    "manual: True\n",
    "-->"
   ]
  },
  {
   "cell_type": "code",
   "execution_count": 21,
   "id": "a58aff78-4d77-4cc7-b00b-403d066479bd",
   "metadata": {},
   "outputs": [
    {
     "data": {
      "application/vnd.plotly.v1+json": {
       "config": {
        "plotlyServerURL": "https://plot.ly"
       },
       "data": [
        {
         "colorbar": {
          "title": {
           "text": "People Fully Vaccinated per capita"
          }
         },
         "colorscale": [
          [
           0,
           "rgb(255,245,240)"
          ],
          [
           0.125,
           "rgb(254,224,210)"
          ],
          [
           0.25,
           "rgb(252,187,161)"
          ],
          [
           0.375,
           "rgb(252,146,114)"
          ],
          [
           0.5,
           "rgb(251,106,74)"
          ],
          [
           0.625,
           "rgb(239,59,44)"
          ],
          [
           0.75,
           "rgb(203,24,29)"
          ],
          [
           0.875,
           "rgb(165,15,21)"
          ],
          [
           1,
           "rgb(103,0,13)"
          ]
         ],
         "locationmode": "USA-states",
         "locations": [
          "AL",
          "AK",
          "AZ",
          "AR",
          "CA",
          "CO",
          "CT",
          "DE",
          null,
          "FL",
          "GA",
          "HI",
          "ID",
          "IL",
          "IN",
          "IA",
          "KS",
          "KY",
          "LA",
          "ME",
          "MD",
          "MA",
          "MI",
          "MN",
          "MS",
          "MO",
          "MT",
          "NE",
          "NV",
          "NH",
          "NJ",
          "NM",
          "NY",
          "NC",
          "ND",
          "OH",
          "OK",
          "OR",
          "PA",
          "RI",
          "SC",
          "SD",
          "TN",
          "TX",
          "UT",
          "VT",
          "VA",
          "WA",
          "WV",
          "WI",
          "WY"
         ],
         "type": "choropleth",
         "z": [
          0.42040283391431776,
          0.5167051808504154,
          0.4989036436651247,
          0.4512113754660088,
          0.6032791593229418,
          0.5937310327858493,
          0.686170054253493,
          0.565387020183237,
          0.7347786806132298,
          0.56220170216118,
          0.4468143234506537,
          0.678931006690803,
          0.42519375580555835,
          0.5550403454847774,
          0.4807737374338504,
          0.5357389979203815,
          0.5083034039683506,
          0.5189572798129924,
          0.45175723169005866,
          0.6789461248862156,
          0.6402190824600936,
          0.6770553271786159,
          0.5224212378299222,
          0.5778855158482552,
          0.4376089141582844,
          0.4750974876567654,
          0.47717099290471665,
          0.5426775642666622,
          0.49563914259466796,
          0.6103244222429599,
          0.6554839918305596,
          0.6256597409983958,
          0.6376814832007156,
          0.5199965134782459,
          0.43925656172866123,
          0.5000979627761976,
          0.4698829350909105,
          0.600355486858798,
          0.5766805541061767,
          0.7331923850065035,
          0.4624997125357414,
          0.5091893623623164,
          0.45275535899369723,
          0.5034395057702697,
          0.513809591064775,
          0.7180751651969128,
          0.59869044671461,
          0.6205233640583903,
          0.4684928789821979,
          0.5611989737092284,
          0.4090461046008435
         ]
        }
       ],
       "layout": {
        "geo": {
         "scope": "usa"
        },
        "template": {
         "data": {
          "bar": [
           {
            "error_x": {
             "color": "#2a3f5f"
            },
            "error_y": {
             "color": "#2a3f5f"
            },
            "marker": {
             "line": {
              "color": "#E5ECF6",
              "width": 0.5
             },
             "pattern": {
              "fillmode": "overlay",
              "size": 10,
              "solidity": 0.2
             }
            },
            "type": "bar"
           }
          ],
          "barpolar": [
           {
            "marker": {
             "line": {
              "color": "#E5ECF6",
              "width": 0.5
             },
             "pattern": {
              "fillmode": "overlay",
              "size": 10,
              "solidity": 0.2
             }
            },
            "type": "barpolar"
           }
          ],
          "carpet": [
           {
            "aaxis": {
             "endlinecolor": "#2a3f5f",
             "gridcolor": "white",
             "linecolor": "white",
             "minorgridcolor": "white",
             "startlinecolor": "#2a3f5f"
            },
            "baxis": {
             "endlinecolor": "#2a3f5f",
             "gridcolor": "white",
             "linecolor": "white",
             "minorgridcolor": "white",
             "startlinecolor": "#2a3f5f"
            },
            "type": "carpet"
           }
          ],
          "choropleth": [
           {
            "colorbar": {
             "outlinewidth": 0,
             "ticks": ""
            },
            "type": "choropleth"
           }
          ],
          "contour": [
           {
            "colorbar": {
             "outlinewidth": 0,
             "ticks": ""
            },
            "colorscale": [
             [
              0,
              "#0d0887"
             ],
             [
              0.1111111111111111,
              "#46039f"
             ],
             [
              0.2222222222222222,
              "#7201a8"
             ],
             [
              0.3333333333333333,
              "#9c179e"
             ],
             [
              0.4444444444444444,
              "#bd3786"
             ],
             [
              0.5555555555555556,
              "#d8576b"
             ],
             [
              0.6666666666666666,
              "#ed7953"
             ],
             [
              0.7777777777777778,
              "#fb9f3a"
             ],
             [
              0.8888888888888888,
              "#fdca26"
             ],
             [
              1,
              "#f0f921"
             ]
            ],
            "type": "contour"
           }
          ],
          "contourcarpet": [
           {
            "colorbar": {
             "outlinewidth": 0,
             "ticks": ""
            },
            "type": "contourcarpet"
           }
          ],
          "heatmap": [
           {
            "colorbar": {
             "outlinewidth": 0,
             "ticks": ""
            },
            "colorscale": [
             [
              0,
              "#0d0887"
             ],
             [
              0.1111111111111111,
              "#46039f"
             ],
             [
              0.2222222222222222,
              "#7201a8"
             ],
             [
              0.3333333333333333,
              "#9c179e"
             ],
             [
              0.4444444444444444,
              "#bd3786"
             ],
             [
              0.5555555555555556,
              "#d8576b"
             ],
             [
              0.6666666666666666,
              "#ed7953"
             ],
             [
              0.7777777777777778,
              "#fb9f3a"
             ],
             [
              0.8888888888888888,
              "#fdca26"
             ],
             [
              1,
              "#f0f921"
             ]
            ],
            "type": "heatmap"
           }
          ],
          "heatmapgl": [
           {
            "colorbar": {
             "outlinewidth": 0,
             "ticks": ""
            },
            "colorscale": [
             [
              0,
              "#0d0887"
             ],
             [
              0.1111111111111111,
              "#46039f"
             ],
             [
              0.2222222222222222,
              "#7201a8"
             ],
             [
              0.3333333333333333,
              "#9c179e"
             ],
             [
              0.4444444444444444,
              "#bd3786"
             ],
             [
              0.5555555555555556,
              "#d8576b"
             ],
             [
              0.6666666666666666,
              "#ed7953"
             ],
             [
              0.7777777777777778,
              "#fb9f3a"
             ],
             [
              0.8888888888888888,
              "#fdca26"
             ],
             [
              1,
              "#f0f921"
             ]
            ],
            "type": "heatmapgl"
           }
          ],
          "histogram": [
           {
            "marker": {
             "pattern": {
              "fillmode": "overlay",
              "size": 10,
              "solidity": 0.2
             }
            },
            "type": "histogram"
           }
          ],
          "histogram2d": [
           {
            "colorbar": {
             "outlinewidth": 0,
             "ticks": ""
            },
            "colorscale": [
             [
              0,
              "#0d0887"
             ],
             [
              0.1111111111111111,
              "#46039f"
             ],
             [
              0.2222222222222222,
              "#7201a8"
             ],
             [
              0.3333333333333333,
              "#9c179e"
             ],
             [
              0.4444444444444444,
              "#bd3786"
             ],
             [
              0.5555555555555556,
              "#d8576b"
             ],
             [
              0.6666666666666666,
              "#ed7953"
             ],
             [
              0.7777777777777778,
              "#fb9f3a"
             ],
             [
              0.8888888888888888,
              "#fdca26"
             ],
             [
              1,
              "#f0f921"
             ]
            ],
            "type": "histogram2d"
           }
          ],
          "histogram2dcontour": [
           {
            "colorbar": {
             "outlinewidth": 0,
             "ticks": ""
            },
            "colorscale": [
             [
              0,
              "#0d0887"
             ],
             [
              0.1111111111111111,
              "#46039f"
             ],
             [
              0.2222222222222222,
              "#7201a8"
             ],
             [
              0.3333333333333333,
              "#9c179e"
             ],
             [
              0.4444444444444444,
              "#bd3786"
             ],
             [
              0.5555555555555556,
              "#d8576b"
             ],
             [
              0.6666666666666666,
              "#ed7953"
             ],
             [
              0.7777777777777778,
              "#fb9f3a"
             ],
             [
              0.8888888888888888,
              "#fdca26"
             ],
             [
              1,
              "#f0f921"
             ]
            ],
            "type": "histogram2dcontour"
           }
          ],
          "mesh3d": [
           {
            "colorbar": {
             "outlinewidth": 0,
             "ticks": ""
            },
            "type": "mesh3d"
           }
          ],
          "parcoords": [
           {
            "line": {
             "colorbar": {
              "outlinewidth": 0,
              "ticks": ""
             }
            },
            "type": "parcoords"
           }
          ],
          "pie": [
           {
            "automargin": true,
            "type": "pie"
           }
          ],
          "scatter": [
           {
            "fillpattern": {
             "fillmode": "overlay",
             "size": 10,
             "solidity": 0.2
            },
            "type": "scatter"
           }
          ],
          "scatter3d": [
           {
            "line": {
             "colorbar": {
              "outlinewidth": 0,
              "ticks": ""
             }
            },
            "marker": {
             "colorbar": {
              "outlinewidth": 0,
              "ticks": ""
             }
            },
            "type": "scatter3d"
           }
          ],
          "scattercarpet": [
           {
            "marker": {
             "colorbar": {
              "outlinewidth": 0,
              "ticks": ""
             }
            },
            "type": "scattercarpet"
           }
          ],
          "scattergeo": [
           {
            "marker": {
             "colorbar": {
              "outlinewidth": 0,
              "ticks": ""
             }
            },
            "type": "scattergeo"
           }
          ],
          "scattergl": [
           {
            "marker": {
             "colorbar": {
              "outlinewidth": 0,
              "ticks": ""
             }
            },
            "type": "scattergl"
           }
          ],
          "scattermapbox": [
           {
            "marker": {
             "colorbar": {
              "outlinewidth": 0,
              "ticks": ""
             }
            },
            "type": "scattermapbox"
           }
          ],
          "scatterpolar": [
           {
            "marker": {
             "colorbar": {
              "outlinewidth": 0,
              "ticks": ""
             }
            },
            "type": "scatterpolar"
           }
          ],
          "scatterpolargl": [
           {
            "marker": {
             "colorbar": {
              "outlinewidth": 0,
              "ticks": ""
             }
            },
            "type": "scatterpolargl"
           }
          ],
          "scatterternary": [
           {
            "marker": {
             "colorbar": {
              "outlinewidth": 0,
              "ticks": ""
             }
            },
            "type": "scatterternary"
           }
          ],
          "surface": [
           {
            "colorbar": {
             "outlinewidth": 0,
             "ticks": ""
            },
            "colorscale": [
             [
              0,
              "#0d0887"
             ],
             [
              0.1111111111111111,
              "#46039f"
             ],
             [
              0.2222222222222222,
              "#7201a8"
             ],
             [
              0.3333333333333333,
              "#9c179e"
             ],
             [
              0.4444444444444444,
              "#bd3786"
             ],
             [
              0.5555555555555556,
              "#d8576b"
             ],
             [
              0.6666666666666666,
              "#ed7953"
             ],
             [
              0.7777777777777778,
              "#fb9f3a"
             ],
             [
              0.8888888888888888,
              "#fdca26"
             ],
             [
              1,
              "#f0f921"
             ]
            ],
            "type": "surface"
           }
          ],
          "table": [
           {
            "cells": {
             "fill": {
              "color": "#EBF0F8"
             },
             "line": {
              "color": "white"
             }
            },
            "header": {
             "fill": {
              "color": "#C8D4E3"
             },
             "line": {
              "color": "white"
             }
            },
            "type": "table"
           }
          ]
         },
         "layout": {
          "annotationdefaults": {
           "arrowcolor": "#2a3f5f",
           "arrowhead": 0,
           "arrowwidth": 1
          },
          "autotypenumbers": "strict",
          "coloraxis": {
           "colorbar": {
            "outlinewidth": 0,
            "ticks": ""
           }
          },
          "colorscale": {
           "diverging": [
            [
             0,
             "#8e0152"
            ],
            [
             0.1,
             "#c51b7d"
            ],
            [
             0.2,
             "#de77ae"
            ],
            [
             0.3,
             "#f1b6da"
            ],
            [
             0.4,
             "#fde0ef"
            ],
            [
             0.5,
             "#f7f7f7"
            ],
            [
             0.6,
             "#e6f5d0"
            ],
            [
             0.7,
             "#b8e186"
            ],
            [
             0.8,
             "#7fbc41"
            ],
            [
             0.9,
             "#4d9221"
            ],
            [
             1,
             "#276419"
            ]
           ],
           "sequential": [
            [
             0,
             "#0d0887"
            ],
            [
             0.1111111111111111,
             "#46039f"
            ],
            [
             0.2222222222222222,
             "#7201a8"
            ],
            [
             0.3333333333333333,
             "#9c179e"
            ],
            [
             0.4444444444444444,
             "#bd3786"
            ],
            [
             0.5555555555555556,
             "#d8576b"
            ],
            [
             0.6666666666666666,
             "#ed7953"
            ],
            [
             0.7777777777777778,
             "#fb9f3a"
            ],
            [
             0.8888888888888888,
             "#fdca26"
            ],
            [
             1,
             "#f0f921"
            ]
           ],
           "sequentialminus": [
            [
             0,
             "#0d0887"
            ],
            [
             0.1111111111111111,
             "#46039f"
            ],
            [
             0.2222222222222222,
             "#7201a8"
            ],
            [
             0.3333333333333333,
             "#9c179e"
            ],
            [
             0.4444444444444444,
             "#bd3786"
            ],
            [
             0.5555555555555556,
             "#d8576b"
            ],
            [
             0.6666666666666666,
             "#ed7953"
            ],
            [
             0.7777777777777778,
             "#fb9f3a"
            ],
            [
             0.8888888888888888,
             "#fdca26"
            ],
            [
             1,
             "#f0f921"
            ]
           ]
          },
          "colorway": [
           "#636efa",
           "#EF553B",
           "#00cc96",
           "#ab63fa",
           "#FFA15A",
           "#19d3f3",
           "#FF6692",
           "#B6E880",
           "#FF97FF",
           "#FECB52"
          ],
          "font": {
           "color": "#2a3f5f"
          },
          "geo": {
           "bgcolor": "white",
           "lakecolor": "white",
           "landcolor": "#E5ECF6",
           "showlakes": true,
           "showland": true,
           "subunitcolor": "white"
          },
          "hoverlabel": {
           "align": "left"
          },
          "hovermode": "closest",
          "mapbox": {
           "style": "light"
          },
          "paper_bgcolor": "white",
          "plot_bgcolor": "#E5ECF6",
          "polar": {
           "angularaxis": {
            "gridcolor": "white",
            "linecolor": "white",
            "ticks": ""
           },
           "bgcolor": "#E5ECF6",
           "radialaxis": {
            "gridcolor": "white",
            "linecolor": "white",
            "ticks": ""
           }
          },
          "scene": {
           "xaxis": {
            "backgroundcolor": "#E5ECF6",
            "gridcolor": "white",
            "gridwidth": 2,
            "linecolor": "white",
            "showbackground": true,
            "ticks": "",
            "zerolinecolor": "white"
           },
           "yaxis": {
            "backgroundcolor": "#E5ECF6",
            "gridcolor": "white",
            "gridwidth": 2,
            "linecolor": "white",
            "showbackground": true,
            "ticks": "",
            "zerolinecolor": "white"
           },
           "zaxis": {
            "backgroundcolor": "#E5ECF6",
            "gridcolor": "white",
            "gridwidth": 2,
            "linecolor": "white",
            "showbackground": true,
            "ticks": "",
            "zerolinecolor": "white"
           }
          },
          "shapedefaults": {
           "line": {
            "color": "#2a3f5f"
           }
          },
          "ternary": {
           "aaxis": {
            "gridcolor": "white",
            "linecolor": "white",
            "ticks": ""
           },
           "baxis": {
            "gridcolor": "white",
            "linecolor": "white",
            "ticks": ""
           },
           "bgcolor": "#E5ECF6",
           "caxis": {
            "gridcolor": "white",
            "linecolor": "white",
            "ticks": ""
           }
          },
          "title": {
           "x": 0.05
          },
          "xaxis": {
           "automargin": true,
           "gridcolor": "white",
           "linecolor": "white",
           "ticks": "",
           "title": {
            "standoff": 15
           },
           "zerolinecolor": "white",
           "zerolinewidth": 2
          },
          "yaxis": {
           "automargin": true,
           "gridcolor": "white",
           "linecolor": "white",
           "ticks": "",
           "title": {
            "standoff": 15
           },
           "zerolinecolor": "white",
           "zerolinewidth": 2
          }
         }
        },
        "title": {
         "text": "People Fully Vaccinated per capita by states"
        }
       }
      }
     },
     "metadata": {},
     "output_type": "display_data"
    },
    {
     "data": {
      "application/vnd.plotly.v1+json": {
       "config": {
        "plotlyServerURL": "https://plot.ly"
       },
       "data": [
        {
         "autocolorscale": true,
         "colorbar": {
          "title": {
           "text": "Voting results (1 for Democrat and 0 for Republican)"
          }
         },
         "locationmode": "USA-states",
         "locations": [
          "AL",
          "AK",
          "AZ",
          "AR",
          "CA",
          "CO",
          "CT",
          "DE",
          null,
          "FL",
          "GA",
          "HI",
          "ID",
          "IL",
          "IN",
          "IA",
          "KS",
          "KY",
          "LA",
          "ME",
          "MD",
          "MA",
          "MI",
          "MN",
          "MS",
          "MO",
          "MT",
          "NE",
          "NV",
          "NH",
          "NJ",
          "NM",
          "NY",
          "NC",
          "ND",
          "OH",
          "OK",
          "OR",
          "PA",
          "RI",
          "SC",
          "SD",
          "TN",
          "TX",
          "UT",
          "VT",
          "VA",
          "WA",
          "WV",
          "WI",
          "WY"
         ],
         "type": "choropleth",
         "z": [
          0,
          0,
          1,
          0,
          1,
          1,
          1,
          1,
          1,
          0,
          1,
          1,
          0,
          1,
          0,
          0,
          0,
          0,
          0,
          1,
          1,
          1,
          1,
          1,
          0,
          0,
          0,
          0,
          1,
          1,
          1,
          1,
          1,
          0,
          0,
          0,
          0,
          1,
          1,
          1,
          0,
          0,
          0,
          0,
          0,
          1,
          1,
          1,
          0,
          1,
          0
         ]
        }
       ],
       "layout": {
        "geo": {
         "scope": "usa"
        },
        "template": {
         "data": {
          "bar": [
           {
            "error_x": {
             "color": "#2a3f5f"
            },
            "error_y": {
             "color": "#2a3f5f"
            },
            "marker": {
             "line": {
              "color": "#E5ECF6",
              "width": 0.5
             },
             "pattern": {
              "fillmode": "overlay",
              "size": 10,
              "solidity": 0.2
             }
            },
            "type": "bar"
           }
          ],
          "barpolar": [
           {
            "marker": {
             "line": {
              "color": "#E5ECF6",
              "width": 0.5
             },
             "pattern": {
              "fillmode": "overlay",
              "size": 10,
              "solidity": 0.2
             }
            },
            "type": "barpolar"
           }
          ],
          "carpet": [
           {
            "aaxis": {
             "endlinecolor": "#2a3f5f",
             "gridcolor": "white",
             "linecolor": "white",
             "minorgridcolor": "white",
             "startlinecolor": "#2a3f5f"
            },
            "baxis": {
             "endlinecolor": "#2a3f5f",
             "gridcolor": "white",
             "linecolor": "white",
             "minorgridcolor": "white",
             "startlinecolor": "#2a3f5f"
            },
            "type": "carpet"
           }
          ],
          "choropleth": [
           {
            "colorbar": {
             "outlinewidth": 0,
             "ticks": ""
            },
            "type": "choropleth"
           }
          ],
          "contour": [
           {
            "colorbar": {
             "outlinewidth": 0,
             "ticks": ""
            },
            "colorscale": [
             [
              0,
              "#0d0887"
             ],
             [
              0.1111111111111111,
              "#46039f"
             ],
             [
              0.2222222222222222,
              "#7201a8"
             ],
             [
              0.3333333333333333,
              "#9c179e"
             ],
             [
              0.4444444444444444,
              "#bd3786"
             ],
             [
              0.5555555555555556,
              "#d8576b"
             ],
             [
              0.6666666666666666,
              "#ed7953"
             ],
             [
              0.7777777777777778,
              "#fb9f3a"
             ],
             [
              0.8888888888888888,
              "#fdca26"
             ],
             [
              1,
              "#f0f921"
             ]
            ],
            "type": "contour"
           }
          ],
          "contourcarpet": [
           {
            "colorbar": {
             "outlinewidth": 0,
             "ticks": ""
            },
            "type": "contourcarpet"
           }
          ],
          "heatmap": [
           {
            "colorbar": {
             "outlinewidth": 0,
             "ticks": ""
            },
            "colorscale": [
             [
              0,
              "#0d0887"
             ],
             [
              0.1111111111111111,
              "#46039f"
             ],
             [
              0.2222222222222222,
              "#7201a8"
             ],
             [
              0.3333333333333333,
              "#9c179e"
             ],
             [
              0.4444444444444444,
              "#bd3786"
             ],
             [
              0.5555555555555556,
              "#d8576b"
             ],
             [
              0.6666666666666666,
              "#ed7953"
             ],
             [
              0.7777777777777778,
              "#fb9f3a"
             ],
             [
              0.8888888888888888,
              "#fdca26"
             ],
             [
              1,
              "#f0f921"
             ]
            ],
            "type": "heatmap"
           }
          ],
          "heatmapgl": [
           {
            "colorbar": {
             "outlinewidth": 0,
             "ticks": ""
            },
            "colorscale": [
             [
              0,
              "#0d0887"
             ],
             [
              0.1111111111111111,
              "#46039f"
             ],
             [
              0.2222222222222222,
              "#7201a8"
             ],
             [
              0.3333333333333333,
              "#9c179e"
             ],
             [
              0.4444444444444444,
              "#bd3786"
             ],
             [
              0.5555555555555556,
              "#d8576b"
             ],
             [
              0.6666666666666666,
              "#ed7953"
             ],
             [
              0.7777777777777778,
              "#fb9f3a"
             ],
             [
              0.8888888888888888,
              "#fdca26"
             ],
             [
              1,
              "#f0f921"
             ]
            ],
            "type": "heatmapgl"
           }
          ],
          "histogram": [
           {
            "marker": {
             "pattern": {
              "fillmode": "overlay",
              "size": 10,
              "solidity": 0.2
             }
            },
            "type": "histogram"
           }
          ],
          "histogram2d": [
           {
            "colorbar": {
             "outlinewidth": 0,
             "ticks": ""
            },
            "colorscale": [
             [
              0,
              "#0d0887"
             ],
             [
              0.1111111111111111,
              "#46039f"
             ],
             [
              0.2222222222222222,
              "#7201a8"
             ],
             [
              0.3333333333333333,
              "#9c179e"
             ],
             [
              0.4444444444444444,
              "#bd3786"
             ],
             [
              0.5555555555555556,
              "#d8576b"
             ],
             [
              0.6666666666666666,
              "#ed7953"
             ],
             [
              0.7777777777777778,
              "#fb9f3a"
             ],
             [
              0.8888888888888888,
              "#fdca26"
             ],
             [
              1,
              "#f0f921"
             ]
            ],
            "type": "histogram2d"
           }
          ],
          "histogram2dcontour": [
           {
            "colorbar": {
             "outlinewidth": 0,
             "ticks": ""
            },
            "colorscale": [
             [
              0,
              "#0d0887"
             ],
             [
              0.1111111111111111,
              "#46039f"
             ],
             [
              0.2222222222222222,
              "#7201a8"
             ],
             [
              0.3333333333333333,
              "#9c179e"
             ],
             [
              0.4444444444444444,
              "#bd3786"
             ],
             [
              0.5555555555555556,
              "#d8576b"
             ],
             [
              0.6666666666666666,
              "#ed7953"
             ],
             [
              0.7777777777777778,
              "#fb9f3a"
             ],
             [
              0.8888888888888888,
              "#fdca26"
             ],
             [
              1,
              "#f0f921"
             ]
            ],
            "type": "histogram2dcontour"
           }
          ],
          "mesh3d": [
           {
            "colorbar": {
             "outlinewidth": 0,
             "ticks": ""
            },
            "type": "mesh3d"
           }
          ],
          "parcoords": [
           {
            "line": {
             "colorbar": {
              "outlinewidth": 0,
              "ticks": ""
             }
            },
            "type": "parcoords"
           }
          ],
          "pie": [
           {
            "automargin": true,
            "type": "pie"
           }
          ],
          "scatter": [
           {
            "fillpattern": {
             "fillmode": "overlay",
             "size": 10,
             "solidity": 0.2
            },
            "type": "scatter"
           }
          ],
          "scatter3d": [
           {
            "line": {
             "colorbar": {
              "outlinewidth": 0,
              "ticks": ""
             }
            },
            "marker": {
             "colorbar": {
              "outlinewidth": 0,
              "ticks": ""
             }
            },
            "type": "scatter3d"
           }
          ],
          "scattercarpet": [
           {
            "marker": {
             "colorbar": {
              "outlinewidth": 0,
              "ticks": ""
             }
            },
            "type": "scattercarpet"
           }
          ],
          "scattergeo": [
           {
            "marker": {
             "colorbar": {
              "outlinewidth": 0,
              "ticks": ""
             }
            },
            "type": "scattergeo"
           }
          ],
          "scattergl": [
           {
            "marker": {
             "colorbar": {
              "outlinewidth": 0,
              "ticks": ""
             }
            },
            "type": "scattergl"
           }
          ],
          "scattermapbox": [
           {
            "marker": {
             "colorbar": {
              "outlinewidth": 0,
              "ticks": ""
             }
            },
            "type": "scattermapbox"
           }
          ],
          "scatterpolar": [
           {
            "marker": {
             "colorbar": {
              "outlinewidth": 0,
              "ticks": ""
             }
            },
            "type": "scatterpolar"
           }
          ],
          "scatterpolargl": [
           {
            "marker": {
             "colorbar": {
              "outlinewidth": 0,
              "ticks": ""
             }
            },
            "type": "scatterpolargl"
           }
          ],
          "scatterternary": [
           {
            "marker": {
             "colorbar": {
              "outlinewidth": 0,
              "ticks": ""
             }
            },
            "type": "scatterternary"
           }
          ],
          "surface": [
           {
            "colorbar": {
             "outlinewidth": 0,
             "ticks": ""
            },
            "colorscale": [
             [
              0,
              "#0d0887"
             ],
             [
              0.1111111111111111,
              "#46039f"
             ],
             [
              0.2222222222222222,
              "#7201a8"
             ],
             [
              0.3333333333333333,
              "#9c179e"
             ],
             [
              0.4444444444444444,
              "#bd3786"
             ],
             [
              0.5555555555555556,
              "#d8576b"
             ],
             [
              0.6666666666666666,
              "#ed7953"
             ],
             [
              0.7777777777777778,
              "#fb9f3a"
             ],
             [
              0.8888888888888888,
              "#fdca26"
             ],
             [
              1,
              "#f0f921"
             ]
            ],
            "type": "surface"
           }
          ],
          "table": [
           {
            "cells": {
             "fill": {
              "color": "#EBF0F8"
             },
             "line": {
              "color": "white"
             }
            },
            "header": {
             "fill": {
              "color": "#C8D4E3"
             },
             "line": {
              "color": "white"
             }
            },
            "type": "table"
           }
          ]
         },
         "layout": {
          "annotationdefaults": {
           "arrowcolor": "#2a3f5f",
           "arrowhead": 0,
           "arrowwidth": 1
          },
          "autotypenumbers": "strict",
          "coloraxis": {
           "colorbar": {
            "outlinewidth": 0,
            "ticks": ""
           }
          },
          "colorscale": {
           "diverging": [
            [
             0,
             "#8e0152"
            ],
            [
             0.1,
             "#c51b7d"
            ],
            [
             0.2,
             "#de77ae"
            ],
            [
             0.3,
             "#f1b6da"
            ],
            [
             0.4,
             "#fde0ef"
            ],
            [
             0.5,
             "#f7f7f7"
            ],
            [
             0.6,
             "#e6f5d0"
            ],
            [
             0.7,
             "#b8e186"
            ],
            [
             0.8,
             "#7fbc41"
            ],
            [
             0.9,
             "#4d9221"
            ],
            [
             1,
             "#276419"
            ]
           ],
           "sequential": [
            [
             0,
             "#0d0887"
            ],
            [
             0.1111111111111111,
             "#46039f"
            ],
            [
             0.2222222222222222,
             "#7201a8"
            ],
            [
             0.3333333333333333,
             "#9c179e"
            ],
            [
             0.4444444444444444,
             "#bd3786"
            ],
            [
             0.5555555555555556,
             "#d8576b"
            ],
            [
             0.6666666666666666,
             "#ed7953"
            ],
            [
             0.7777777777777778,
             "#fb9f3a"
            ],
            [
             0.8888888888888888,
             "#fdca26"
            ],
            [
             1,
             "#f0f921"
            ]
           ],
           "sequentialminus": [
            [
             0,
             "#0d0887"
            ],
            [
             0.1111111111111111,
             "#46039f"
            ],
            [
             0.2222222222222222,
             "#7201a8"
            ],
            [
             0.3333333333333333,
             "#9c179e"
            ],
            [
             0.4444444444444444,
             "#bd3786"
            ],
            [
             0.5555555555555556,
             "#d8576b"
            ],
            [
             0.6666666666666666,
             "#ed7953"
            ],
            [
             0.7777777777777778,
             "#fb9f3a"
            ],
            [
             0.8888888888888888,
             "#fdca26"
            ],
            [
             1,
             "#f0f921"
            ]
           ]
          },
          "colorway": [
           "#636efa",
           "#EF553B",
           "#00cc96",
           "#ab63fa",
           "#FFA15A",
           "#19d3f3",
           "#FF6692",
           "#B6E880",
           "#FF97FF",
           "#FECB52"
          ],
          "font": {
           "color": "#2a3f5f"
          },
          "geo": {
           "bgcolor": "white",
           "lakecolor": "white",
           "landcolor": "#E5ECF6",
           "showlakes": true,
           "showland": true,
           "subunitcolor": "white"
          },
          "hoverlabel": {
           "align": "left"
          },
          "hovermode": "closest",
          "mapbox": {
           "style": "light"
          },
          "paper_bgcolor": "white",
          "plot_bgcolor": "#E5ECF6",
          "polar": {
           "angularaxis": {
            "gridcolor": "white",
            "linecolor": "white",
            "ticks": ""
           },
           "bgcolor": "#E5ECF6",
           "radialaxis": {
            "gridcolor": "white",
            "linecolor": "white",
            "ticks": ""
           }
          },
          "scene": {
           "xaxis": {
            "backgroundcolor": "#E5ECF6",
            "gridcolor": "white",
            "gridwidth": 2,
            "linecolor": "white",
            "showbackground": true,
            "ticks": "",
            "zerolinecolor": "white"
           },
           "yaxis": {
            "backgroundcolor": "#E5ECF6",
            "gridcolor": "white",
            "gridwidth": 2,
            "linecolor": "white",
            "showbackground": true,
            "ticks": "",
            "zerolinecolor": "white"
           },
           "zaxis": {
            "backgroundcolor": "#E5ECF6",
            "gridcolor": "white",
            "gridwidth": 2,
            "linecolor": "white",
            "showbackground": true,
            "ticks": "",
            "zerolinecolor": "white"
           }
          },
          "shapedefaults": {
           "line": {
            "color": "#2a3f5f"
           }
          },
          "ternary": {
           "aaxis": {
            "gridcolor": "white",
            "linecolor": "white",
            "ticks": ""
           },
           "baxis": {
            "gridcolor": "white",
            "linecolor": "white",
            "ticks": ""
           },
           "bgcolor": "#E5ECF6",
           "caxis": {
            "gridcolor": "white",
            "linecolor": "white",
            "ticks": ""
           }
          },
          "title": {
           "x": 0.05
          },
          "xaxis": {
           "automargin": true,
           "gridcolor": "white",
           "linecolor": "white",
           "ticks": "",
           "title": {
            "standoff": 15
           },
           "zerolinecolor": "white",
           "zerolinewidth": 2
          },
          "yaxis": {
           "automargin": true,
           "gridcolor": "white",
           "linecolor": "white",
           "ticks": "",
           "title": {
            "standoff": 15
           },
           "zerolinecolor": "white",
           "zerolinewidth": 2
          }
         }
        },
        "title": {
         "text": "Voting results by state in 2020"
        }
       }
      }
     },
     "metadata": {},
     "output_type": "display_data"
    }
   ],
   "source": [
    "# new research question: plot heatmap of vax rate and political voting for U.S., seek for correlation\n",
    "\n",
    "# vax dataframe, col = Province_State, People_Fully_Vaccinated (by the most recent date, 9/26/21)\n",
    "vax_fully_by_state = vaccinations.groupby('Province_State').max().reset_index()[['Province_State','People_Fully_Vaccinated']]\n",
    "vax_fully_by_state # shape, 61 rows\n",
    "\n",
    "\n",
    "# clean vax_fully_by_state to make it per capita\n",
    "# population df has STNAME, POPESTIMATE2020\n",
    "\n",
    "#merge population and vax_fully...\n",
    "vax_fully_by_state = population.merge(vax_fully_by_state, how = 'left', left_on = 'STNAME', right_on = 'Province_State')\n",
    "# convert fully vaxed to per capita\n",
    "vax_fully_by_state['People_Fully_Vaccinated per capita'] = vax_fully_by_state['People_Fully_Vaccinated'] / vax_fully_by_state['POPESTIMATE2020']\n",
    "\n",
    "vax_fully_by_state = vax_fully_by_state.drop(columns = ['Province_State', 'POPESTIMATE2020','People_Fully_Vaccinated'])\n",
    "\n",
    "vax_fully_by_state # cleaned df, cols = STNAME, People_Fully_Vaccinated per capita\n",
    "\n",
    "# merge with introduced df\n",
    "df = pd.read_csv('https://raw.githubusercontent.com/plotly/datasets/master/2011_us_ag_exports.csv')\n",
    "merge_q4_vax = vax_fully_by_state.merge(df, how = 'left', left_on = 'STNAME', right_on = 'state')\n",
    "merge_q4_vax\n",
    "\n",
    "# fully vax rate by state\n",
    "fig_vax = go.Figure(data=go.Choropleth(\n",
    "    locations=merge_q4_vax['code'], # Spatial coordinates\n",
    "    z = merge_q4_vax['People_Fully_Vaccinated per capita'].astype(float), # Data to be color-coded\n",
    "    locationmode = 'USA-states', # set of locations match entries in `locations`\n",
    "    colorscale = 'Reds',\n",
    "    colorbar_title = \"People Fully Vaccinated per capita\",\n",
    "))\n",
    "\n",
    "fig_vax.update_layout(\n",
    "    title_text = 'People Fully Vaccinated per capita by states',\n",
    "    geo_scope='usa', # limite map scope to USA\n",
    ")\n",
    "\n",
    "fig_vax.show()\n",
    "\n",
    "\n",
    "\n",
    "import pandas as pd\n",
    "votes_2020 = pd.read_csv(\"data/Popular vote backend - Sheet1.csv\")\n",
    "votes_2020 = votes_2020.iloc[4:,0:2]  # sliced\n",
    "\n",
    "#one-hot encoding, cols = state, called_D (1 for D, 0 for R)\n",
    "votes_2020_encoded = pd.get_dummies(votes_2020, columns = ['called']).drop(columns = 'called_R')\n",
    "votes_2020_encoded\n",
    "\n",
    "\n",
    "# merge the new df with the df we have\n",
    "merge_q4_vote = merge_q4_vax.merge(votes_2020_encoded, how = 'left', left_on = 'STNAME', right_on ='state')\n",
    "merge_q4_vote\n",
    "\n",
    "# voting result 2020 by state\n",
    "fig_vote = go.Figure(data=go.Choropleth(\n",
    "    locations=merge_q4_vote['code'], # Spatial coordinates\n",
    "    z = merge_q4_vote['called_D'].astype(float), # Data to be color-coded\n",
    "    locationmode = 'USA-states', # set of locations match entries in `locations`\n",
    "    # colorscale = 'blues',\n",
    "    autocolorscale = True,\n",
    "    colorbar_title = \"Voting results (1 for Democrat and 0 for Republican)\",\n",
    "))\n",
    "\n",
    "fig_vote.update_layout(\n",
    "    title_text = 'Voting results by state in 2020',\n",
    "    geo_scope='usa', # limite map scope to USA\n",
    ")\n",
    "\n",
    "\n",
    "fig_vote.show()"
   ]
  },
  {
   "cell_type": "markdown",
   "id": "ed4fcfc4-279c-42e4-a7e7-72539313c428",
   "metadata": {},
   "source": [
    "From the first visualization (People Fully Vaccinated per capita by states), we can see that people who are fully vaccinated are mostly concentrated on the westcoast (California, Oregon, Washingtong, etc) and upper eastcoast (Maine, Vermont, etc), and the central and southern part of U.S. is less likely to be fully vaccinated. \n",
    "From the second visualization (Voting results by state in 2020), we can see that the westcoast states (Califonia, Oregon, Washington, etc) and the eastcoast states (Maine, Vermont, New York, etc) voted for Democrats (shown as yellow in graph), and the rest (the central and south) voted for Republican(shown as blue in graph).\n",
    "\n",
    "Based on those two graphs, the states with higher vaccination rates are mostly Democratic, and lower vaccination rates are mostly Republican, so we can infer that the vaccination rates and the political preference are correlated. We will use vaccination rates as a feature to predict the politcal preferences in the supervised learning task."
   ]
  },
  {
   "cell_type": "markdown",
   "id": "001fcffa",
   "metadata": {},
   "source": [
    " "
   ]
  }
 ],
 "metadata": {
  "kernelspec": {
   "display_name": "Python 3.9.13 ('base')",
   "language": "python",
   "name": "python3"
  },
  "language_info": {
   "codemirror_mode": {
    "name": "ipython",
    "version": 3
   },
   "file_extension": ".py",
   "mimetype": "text/x-python",
   "name": "python",
   "nbconvert_exporter": "python",
   "pygments_lexer": "ipython3",
   "version": "3.9.13"
  },
  "vscode": {
   "interpreter": {
    "hash": "f220fecd1ff9776dcdf0cc80ec828b307e877105fd2156d482f380fa746ee69d"
   }
  }
 },
 "nbformat": 4,
 "nbformat_minor": 5
}
